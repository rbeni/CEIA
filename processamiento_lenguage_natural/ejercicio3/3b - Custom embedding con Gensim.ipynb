{
 "cells": [
  {
   "attachments": {},
   "cell_type": "markdown",
   "metadata": {
    "id": "sZd5yLnnHOK0"
   },
   "source": [
    "<img src=\"https://github.com/hernancontigiani/ceia_memorias_especializacion/raw/master/Figures/logoFIUBA.jpg\" width=\"500\" align=\"center\">\n",
    "\n",
    "\n",
    "# Procesamiento de lenguaje natural\n",
    "## Custom embedddings con Gensim\n",
    "\n"
   ]
  },
  {
   "attachments": {},
   "cell_type": "markdown",
   "metadata": {
    "id": "vA7nqkumo9z9"
   },
   "source": [
    "### Objetivo\n",
    "El objetivo es utilizar documentos / corpus para crear embeddings de palabras basado en ese contexto. Se utilizará canciones de bandas para generar los embeddings, es decir, que los vectores tendrán la forma en función de como esa banda haya utilizado las palabras en sus canciones."
   ]
  },
  {
   "cell_type": "code",
   "execution_count": 24,
   "metadata": {
    "id": "lFToQs5FK5uZ"
   },
   "outputs": [],
   "source": [
    "import pandas as pd\n",
    "import matplotlib.pyplot as plt\n",
    "import seaborn as sns\n",
    "import bs4 as bs\n",
    "import urllib\n",
    "import re\n",
    "\n",
    "import multiprocessing\n",
    "from gensim.models import Word2Vec"
   ]
  },
  {
   "attachments": {},
   "cell_type": "markdown",
   "metadata": {
    "id": "g07zJxG7H9vG"
   },
   "source": [
    "### Datos\n",
    "Utilizaremos como dataset canciones de bandas de habla inglesa."
   ]
  },
  {
   "cell_type": "code",
   "execution_count": 25,
   "metadata": {},
   "outputs": [],
   "source": [
    "#Selecionar las paginas de Wikipedia para descargar\n",
    "pages = [\n",
    "    \"https://en.wikipedia.org/wiki/NASA\",\n",
    "    'https://en.wikipedia.org/wiki/SpaceX',\n",
    "    \"https://en.wikipedia.org/wiki/SpaceX_Starship\",\n",
    "    \"https://en.wikipedia.org/wiki/Ariane_5\",\n",
    "    \"https://en.wikipedia.org/wiki/Space_Shuttle\",\n",
    "    \"https://en.wikipedia.org/wiki/Saturn_V\",\n",
    "    \"https://en.wikipedia.org/wiki/Delta_IV\",\n",
    "    \"https://en.wikipedia.org/wiki/Atlas_V\",\n",
    "    \"https://en.wikipedia.org/wiki/Vulcan_Centaur\",\n",
    "    \"https://en.wikipedia.org/wiki/Falcon_9\",\n",
    "    \"https://en.wikipedia.org/wiki/Boeing_777\",\n",
    "    \"https://en.wikipedia.org/wiki/Boeing_787_Dreamliner\",\n",
    "    \"https://en.wikipedia.org/wiki/Boeing_737\",\n",
    "    \"https://en.wikipedia.org/wiki/Airbus_A320_family\",\n",
    "    \"https://en.wikipedia.org/wiki/Airbus_A330neo\",\n",
    "    \"https://en.wikipedia.org/wiki/Airbus_A350\",\n",
    "    \"https://en.wikipedia.org/wiki/Airbus_A330\",\n",
    "    \"https://en.wikipedia.org/wiki/Boeing_747\",\n",
    "    \"https://en.wikipedia.org/wiki/Boeing_767\"\n",
    "]"
   ]
  },
  {
   "cell_type": "code",
   "execution_count": 26,
   "metadata": {},
   "outputs": [],
   "source": [
    "# Crear una funcion para obtener las paginas\n",
    "\n",
    "def get_page_text(url):\n",
    "    raw_html = urllib.request.urlopen(url)\n",
    "    raw_html = raw_html.read()\n",
    "\n",
    "    article_html = bs.BeautifulSoup(raw_html, 'lxml')\n",
    "\n",
    "    article_paragraphs = article_html.find_all('p')\n",
    "\n",
    "    #Remover las referencias en las líneas, ej. \"[23]\"\n",
    "    text = [re.sub(r\"\\[([0-9]*)\\]\", '', p.text) for p in article_paragraphs]\n",
    "\n",
    "    return text\n"
   ]
  },
  {
   "cell_type": "code",
   "execution_count": 27,
   "metadata": {},
   "outputs": [
    {
     "name": "stdout",
     "output_type": "stream",
     "text": [
      "211\n",
      "92\n",
      "86\n",
      "47\n",
      "70\n",
      "81\n",
      "65\n",
      "63\n",
      "37\n",
      "89\n",
      "96\n",
      "141\n",
      "102\n",
      "94\n",
      "62\n",
      "103\n",
      "101\n",
      "100\n",
      "85\n"
     ]
    },
    {
     "data": {
      "text/plain": [
       "1725"
      ]
     },
     "execution_count": 27,
     "metadata": {},
     "output_type": "execute_result"
    }
   ],
   "source": [
    "#Obtener todas las lineas\n",
    "lineas = []\n",
    "\n",
    "for page in pages:\n",
    "    text = get_page_text(page)\n",
    "    print(len(text))\n",
    "    lineas += text\n",
    "\n",
    "len(lineas)"
   ]
  },
  {
   "attachments": {},
   "cell_type": "markdown",
   "metadata": {
    "id": "ab94qaFlrA1G"
   },
   "source": [
    "### 1 - Preprocesamiento"
   ]
  },
  {
   "cell_type": "code",
   "execution_count": 29,
   "metadata": {
    "id": "rIsmMWmjrDHd"
   },
   "outputs": [],
   "source": [
    "from keras.preprocessing.text import text_to_word_sequence\n",
    "\n",
    "sentence_tokens = []\n",
    "# Recorrer todas las filas y transformar las oraciones\n",
    "# en una secuencia de palabras (esto podría realizarse con NLTK o spaCy también)\n",
    "for row in lineas:\n",
    "    #print(row[0])\n",
    "    sentence_tokens.append(text_to_word_sequence(row))"
   ]
  },
  {
   "cell_type": "code",
   "execution_count": 30,
   "metadata": {
    "id": "CHepi_DGrbhq"
   },
   "outputs": [
    {
     "data": {
      "text/plain": [
       "[[],\n",
       " ['the',\n",
       "  'national',\n",
       "  'aeronautics',\n",
       "  'and',\n",
       "  'space',\n",
       "  'administration',\n",
       "  'nasa',\n",
       "  'ˈnæsə',\n",
       "  'is',\n",
       "  'an',\n",
       "  'independent',\n",
       "  'agency',\n",
       "  'of',\n",
       "  'the',\n",
       "  'u',\n",
       "  's',\n",
       "  'federal',\n",
       "  'government',\n",
       "  'responsible',\n",
       "  'for',\n",
       "  'the',\n",
       "  'civil',\n",
       "  'space',\n",
       "  'program',\n",
       "  'aeronautics',\n",
       "  'research',\n",
       "  'and',\n",
       "  'space',\n",
       "  'research']]"
      ]
     },
     "execution_count": 30,
     "metadata": {},
     "output_type": "execute_result"
    }
   ],
   "source": [
    "# Demos un vistazo\n",
    "sentence_tokens[:2]"
   ]
  },
  {
   "attachments": {},
   "cell_type": "markdown",
   "metadata": {
    "id": "BaXV6nlHr5Aa"
   },
   "source": [
    "### 2 - Crear los vectores (word2vec)"
   ]
  },
  {
   "cell_type": "code",
   "execution_count": 31,
   "metadata": {
    "id": "OSb0v7h8r7hK"
   },
   "outputs": [],
   "source": [
    "from gensim.models.callbacks import CallbackAny2Vec\n",
    "# Durante el entrenamiento gensim por defecto no informa el \"loss\" en cada época\n",
    "# Sobrecargamos el callback para poder tener esta información\n",
    "class callback(CallbackAny2Vec):\n",
    "    \"\"\"\n",
    "    Callback to print loss after each epoch\n",
    "    \"\"\"\n",
    "    def __init__(self):\n",
    "        self.epoch = 0\n",
    "\n",
    "    def on_epoch_end(self, model):\n",
    "        loss = model.get_latest_training_loss()\n",
    "        if self.epoch == 0:\n",
    "            print('Loss after epoch {}: {}'.format(self.epoch, loss))\n",
    "        else:\n",
    "            print('Loss after epoch {}: {}'.format(self.epoch, loss- self.loss_previous_step))\n",
    "        self.epoch += 1\n",
    "        self.loss_previous_step = loss"
   ]
  },
  {
   "cell_type": "code",
   "execution_count": 32,
   "metadata": {
    "id": "i0wnDdv9sJ47"
   },
   "outputs": [],
   "source": [
    "# Crearmos el modelo generador de vectores\n",
    "# En este caso utilizaremos la estructura modelo Skipgram\n",
    "w2v_model = Word2Vec(min_count=5,    # frecuencia mínima de palabra para incluirla en el vocabulario\n",
    "                     window=2,       # cant de palabras antes y desp de la predicha\n",
    "                     vector_size=300,       # dimensionalidad de los vectores, \"vector_size\" reemplazando \"size\"\n",
    "                     negative=20,    # cantidad de negative samples... 0 es no se usa\n",
    "                     workers=1,      # si tienen más cores pueden cambiar este valor\n",
    "                     sg=1)           # modelo 0:CBOW  1:skipgram"
   ]
  },
  {
   "cell_type": "code",
   "execution_count": 33,
   "metadata": {
    "id": "5lTt8wErsf17"
   },
   "outputs": [],
   "source": [
    "# Obtener el vocabulario con los tokens\n",
    "w2v_model.build_vocab(sentence_tokens)"
   ]
  },
  {
   "cell_type": "code",
   "execution_count": 34,
   "metadata": {
    "id": "TNc9qt4os5AT"
   },
   "outputs": [
    {
     "name": "stdout",
     "output_type": "stream",
     "text": [
      "Cantidad de docs en el corpus: 1725\n"
     ]
    }
   ],
   "source": [
    "# Cantidad de filas/docs encontradas en el corpus\n",
    "print(\"Cantidad de docs en el corpus:\", w2v_model.corpus_count)"
   ]
  },
  {
   "cell_type": "code",
   "execution_count": 35,
   "metadata": {
    "id": "idw9cHF3tSMl"
   },
   "outputs": [
    {
     "name": "stdout",
     "output_type": "stream",
     "text": [
      "Cantidad de words distintas en el corpus: 3011\n"
     ]
    }
   ],
   "source": [
    "# Cantidad de words encontradas en el corpus\n",
    "#print(\"Cantidad de words distintas en el corpus:\", len(w2v_model.wv.vocab))\n",
    "print(\"Cantidad de words distintas en el corpus:\", len(w2v_model.wv.key_to_index))"
   ]
  },
  {
   "attachments": {},
   "cell_type": "markdown",
   "metadata": {
    "id": "fC9mZ8DPk-UC"
   },
   "source": [
    "### 3 - Entrenar el modelo generador"
   ]
  },
  {
   "cell_type": "code",
   "execution_count": 36,
   "metadata": {
    "id": "QSp-x0PAsq56"
   },
   "outputs": [
    {
     "name": "stdout",
     "output_type": "stream",
     "text": [
      "Loss after epoch 0: 1320446.75\n",
      "Loss after epoch 1: 948503.0\n",
      "Loss after epoch 2: 840321.0\n",
      "Loss after epoch 3: 821755.0\n",
      "Loss after epoch 4: 775953.75\n",
      "Loss after epoch 5: 751022.0\n",
      "Loss after epoch 6: 740449.0\n",
      "Loss after epoch 7: 731173.5\n",
      "Loss after epoch 8: 722658.0\n",
      "Loss after epoch 9: 710738.0\n",
      "Loss after epoch 10: 675477.0\n",
      "Loss after epoch 11: 667950.0\n",
      "Loss after epoch 12: 660111.0\n",
      "Loss after epoch 13: 656760.0\n",
      "Loss after epoch 14: 651020.0\n",
      "Loss after epoch 15: 647770.0\n",
      "Loss after epoch 16: 643328.0\n",
      "Loss after epoch 17: 642376.0\n",
      "Loss after epoch 18: 642378.0\n",
      "Loss after epoch 19: 642029.0\n"
     ]
    },
    {
     "data": {
      "text/plain": [
       "(1930474, 2806760)"
      ]
     },
     "execution_count": 36,
     "metadata": {},
     "output_type": "execute_result"
    }
   ],
   "source": [
    "# Entrenamos el modelo generador de vectores\n",
    "# Utilizamos nuestro callback\n",
    "w2v_model.train(sentence_tokens,\n",
    "                 total_examples=w2v_model.corpus_count,\n",
    "                 epochs=20,\n",
    "                 compute_loss = True,\n",
    "                 callbacks=[callback()]\n",
    "                 )"
   ]
  },
  {
   "attachments": {},
   "cell_type": "markdown",
   "metadata": {
    "id": "ddT9NVuNlCAe"
   },
   "source": [
    "### 4 - Ensayar"
   ]
  },
  {
   "cell_type": "code",
   "execution_count": 37,
   "metadata": {
    "id": "6cHN9xGLuPEm"
   },
   "outputs": [
    {
     "data": {
      "text/plain": [
       "[('motors', 0.5478342175483704),\n",
       " ('boosters', 0.5419757962226868),\n",
       " ('strap', 0.5229859352111816),\n",
       " ('ii', 0.5092114210128784),\n",
       " ('srb', 0.4951074421405792),\n",
       " ('\\u200aii', 0.4942972958087921),\n",
       " ('rockets', 0.4914822280406952),\n",
       " ('rl10', 0.491318017244339),\n",
       " ('specific', 0.4873909652233124),\n",
       " ('course', 0.48427194356918335)]"
      ]
     },
     "execution_count": 37,
     "metadata": {},
     "output_type": "execute_result"
    }
   ],
   "source": [
    "# Palabras que MÁS se relacionan con...:\n",
    "w2v_model.wv.most_similar(positive=[\"rocket\"], topn=10)"
   ]
  },
  {
   "attachments": {},
   "cell_type": "markdown",
   "metadata": {},
   "source": [
    "Las palabras que más se relacionan con el termo 'rocket' (cohete) son partes de cohetes (motors, boosters, strap, srb, rl10) o son conceptos relacionados con la performance (specific, course)"
   ]
  },
  {
   "cell_type": "code",
   "execution_count": 43,
   "metadata": {
    "id": "47HiU5gdkdMq"
   },
   "outputs": [
    {
     "data": {
      "text/plain": [
       "[('etops', -0.02056294120848179),\n",
       " ('including', -0.043586160987615585),\n",
       " ('could', -0.0483795590698719),\n",
       " ('mid', -0.05084841698408127),\n",
       " ('\\u2003orders', -0.06154000759124756),\n",
       " ('routes', -0.06309053301811218),\n",
       " ('\\u2003deliveries', -0.06773940473794937),\n",
       " ('us', -0.07051333039999008),\n",
       " ('operating', -0.07271091639995575),\n",
       " ('entered', -0.07688814401626587)]"
      ]
     },
     "execution_count": 43,
     "metadata": {},
     "output_type": "execute_result"
    }
   ],
   "source": [
    "# Palabras que MENOS se relacionan con...:\n",
    "w2v_model.wv.most_similar(negative=[\"rocket\"], topn=10)"
   ]
  },
  {
   "attachments": {},
   "cell_type": "markdown",
   "metadata": {},
   "source": [
    "Las palabras que menos se relacionan con 'rocket' son palabras que tienen más relación con aviones (etops, routes, operating, entered) o son palabras normales (including, mid, could, orders, deliveries)"
   ]
  },
  {
   "cell_type": "code",
   "execution_count": 39,
   "metadata": {
    "id": "DT4Rvno2mD65"
   },
   "outputs": [
    {
     "data": {
      "text/plain": [
       "[('ten', 0.583423376083374),\n",
       " ('rl10', 0.5743970274925232),\n",
       " ('three', 0.5734760761260986),\n",
       " ('merlin', 0.573472261428833),\n",
       " ('149', 0.5675811171531677),\n",
       " ('nine', 0.5592108368873596),\n",
       " ('ssme', 0.5576633810997009),\n",
       " ('srb', 0.5564800500869751),\n",
       " ('legs', 0.5527510046958923),\n",
       " ('window', 0.5481016635894775)]"
      ]
     },
     "execution_count": 39,
     "metadata": {},
     "output_type": "execute_result"
    }
   ],
   "source": [
    "# Palabras que MÁS se relacionan con...:\n",
    "w2v_model.wv.most_similar(positive=[\"four\"], topn=10)"
   ]
  },
  {
   "attachments": {},
   "cell_type": "markdown",
   "metadata": {},
   "source": [
    "Las palabras que más se relacionan con 'four' son números (ten, three, nine) o son palabras en plural o objetos (ssme, legs, srb)."
   ]
  },
  {
   "cell_type": "code",
   "execution_count": 40,
   "metadata": {
    "id": "XPLDPgzBmQXt"
   },
   "outputs": [
    {
     "data": {
      "text/plain": [
       "[('website', 0.8378516435623169),\n",
       " ('financial', 0.8047073483467102),\n",
       " ('responsibility', 0.8030418753623962),\n",
       " ('amount', 0.7965542078018188),\n",
       " ('council', 0.7855682373046875)]"
      ]
     },
     "execution_count": 40,
     "metadata": {},
     "output_type": "execute_result"
    }
   ],
   "source": [
    "# Palabras que MÁS se relacionan con...:\n",
    "w2v_model.wv.most_similar(positive=[\"money\"], topn=5)"
   ]
  },
  {
   "attachments": {},
   "cell_type": "markdown",
   "metadata": {},
   "source": [
    "Las palabras que más se relacionan con 'money' son palavras associadas con conceptos financeiros (amount, financial, responsibility) o son otros conceptos que también son utilizados obtención de informaciones (website), o para su administración (council)"
   ]
  },
  {
   "attachments": {},
   "cell_type": "markdown",
   "metadata": {
    "id": "_g8UVWe6lFmh"
   },
   "source": [
    "### 5 - Visualizar agrupación de vectores"
   ]
  },
  {
   "cell_type": "code",
   "execution_count": 41,
   "metadata": {
    "id": "pDxEVXAivjr9"
   },
   "outputs": [],
   "source": [
    "from sklearn.decomposition import IncrementalPCA    \n",
    "from sklearn.manifold import TSNE                   \n",
    "import numpy as np                                  \n",
    "\n",
    "def reduce_dimensions(model):\n",
    "    num_dimensions = 2  \n",
    "\n",
    "    vectors = np.asarray(model.wv.vectors)\n",
    "    \n",
    "    #labels = np.asarray(model.wv.index2word)  \n",
    "    labels = np.asarray(model.wv.index_to_key)\n",
    "\n",
    "    tsne = TSNE(n_components=num_dimensions, random_state=0)\n",
    "    vectors = tsne.fit_transform(vectors)\n",
    "\n",
    "    x_vals = [v[0] for v in vectors]\n",
    "    y_vals = [v[1] for v in vectors]\n",
    "    return x_vals, y_vals, labels"
   ]
  },
  {
   "cell_type": "code",
   "execution_count": 42,
   "metadata": {
    "id": "NCCXtDpcugmd"
   },
   "outputs": [
    {
     "data": {
      "application/vnd.plotly.v1+json": {
       "config": {
        "plotlyServerURL": "https://plot.ly"
       },
       "data": [
        {
         "hovertemplate": "x=%{x}<br>y=%{y}<br>text=%{text}<extra></extra>",
         "legendgroup": "",
         "marker": {
          "color": "#636efa",
          "symbol": "circle"
         },
         "mode": "markers+text",
         "name": "",
         "orientation": "v",
         "showlegend": false,
         "text": [
          "the",
          "and",
          "to",
          "of",
          "a",
          "in",
          "was",
          "on",
          "for",
          "with",
          "by",
          "as",
          "first",
          "from",
          "is",
          "at",
          "launch",
          "its",
          "an",
          "that",
          "boeing",
          "were",
          "it",
          "flight",
          "aircraft",
          "space",
          "be",
          "which",
          "engine",
          "airbus",
          "two",
          "1",
          "had",
          "would",
          "nasa",
          "engines",
          "new",
          "has",
          "air",
          "have",
          "787",
          "than",
          "stage",
          "airlines",
          "747",
          "are",
          "after",
          "spacex",
          "more",
          "5",
          "737",
          "9",
          "or",
          "a330",
          "767",
          "this",
          "service",
          "2",
          "program",
          "range",
          "used",
          "also",
          "been",
          "three",
          "orbit",
          "system",
          "8",
          "fuel",
          "vehicle",
          "rocket",
          "development",
          "4",
          "test",
          "into",
          "777",
          "mission",
          "launched",
          "design",
          "3",
          "while",
          "landing",
          "payload",
          "one",
          "us",
          "a350",
          "10",
          "over",
          "not",
          "all",
          "production",
          "but",
          "200",
          "during",
          "s",
          "v",
          "later",
          "up",
          "2018",
          "delivered",
          "crew",
          "missions",
          "shuttle",
          "6",
          "7",
          "300",
          "spacecraft",
          "wing",
          "second",
          "january",
          "falcon",
          "per",
          "cost",
          "000",
          "commercial",
          "delta",
          "earth",
          "passengers",
          "flights",
          "december",
          "fuselage",
          "four",
          "could",
          "announced",
          "main",
          "between",
          "early",
          "united",
          "000 lb",
          "systems",
          "thrust",
          "time",
          "march",
          "2020",
          "july",
          "cargo",
          "both",
          "may",
          "control",
          "april",
          "february",
          "million",
          "use",
          "other",
          "made",
          "international",
          "2019",
          "october",
          "variant",
          "capacity",
          "a320",
          "2017",
          "including",
          "15",
          "orders",
          "september",
          "20",
          "high",
          "before",
          "only",
          "900",
          "weight",
          "increased",
          "heavy",
          "will",
          "2014",
          "november",
          "total",
          "june",
          "atlas",
          "satellite",
          "force",
          "starship",
          "seat",
          "developed",
          "their",
          "version",
          "each",
          "six",
          "family",
          "they",
          "when",
          "station",
          "orbiter",
          "update",
          "designed",
          "then",
          "center",
          "2021",
          "passenger",
          "lower",
          "low",
          "launches",
          "about",
          "planned",
          "out",
          "booster",
          "company",
          "order",
          "through",
          "2010"
         ],
         "type": "scatter",
         "x": [
          10.92611,
          1.8125421,
          -8.615528,
          11.29382,
          2.840555,
          1.3240839,
          7.0949283,
          7.6966453,
          -10.009033,
          7.3716874,
          6.345699,
          -15.480573,
          13.585707,
          -18.753017,
          -0.3575248,
          -14.426549,
          -35.369484,
          13.1328745,
          3.207784,
          -5.8416,
          23.70927,
          6.7904606,
          -5.0080047,
          -15.024981,
          7.0210605,
          -31.92978,
          -1.2395202,
          -10.3808775,
          7.258075,
          15.86924,
          26.953327,
          40.543606,
          5.440749,
          -4.374677,
          -23.128536,
          8.175687,
          15.504172,
          12.948525,
          -18.906551,
          4.390209,
          25.309408,
          13.60536,
          3.448553,
          -11.229705,
          18.580853,
          -4.096836,
          12.834266,
          -6.3715034,
          16.383688,
          44.50151,
          24.214666,
          42.378227,
          13.094795,
          17.737377,
          24.953806,
          -8.870039,
          1.8842444,
          42.17076,
          -26.836834,
          36.2334,
          1.7971364,
          3.735481,
          4.8189874,
          28.008474,
          -35.301186,
          -21.864603,
          45.232258,
          -15.81696,
          -7.125575,
          2.676794,
          -19.383211,
          43.06383,
          -16.888113,
          -33.821926,
          24.235966,
          -27.68914,
          4.5089197,
          -6.510882,
          44.314186,
          23.23416,
          -26.197397,
          12.818738,
          10.167899,
          30.26843,
          20.187597,
          42.64696,
          33.869232,
          -1.8111756,
          30.068213,
          8.975156,
          -1.1631761,
          24.847185,
          -23.54301,
          -17.15189,
          3.398799,
          4.861248,
          30.62528,
          5.7217355,
          29.811855,
          -22.141401,
          -25.83033,
          -27.693312,
          42.561897,
          45.76138,
          23.366238,
          -25.833042,
          -7.194645,
          14.239563,
          17.87204,
          24.443316,
          24.101316,
          20.849707,
          40.86598,
          9.099013,
          7.0628166,
          -34.133476,
          25.04184,
          -10.076667,
          17.872503,
          -5.9232674,
          4.4931626,
          -5.182846,
          0.6752867,
          -2.7224574,
          -19.05174,
          -0.9472321,
          -14.396885,
          38.876324,
          -23.26408,
          10.245737,
          31.187403,
          17.291943,
          6.864922,
          17.800323,
          0.06646911,
          -11.661854,
          18.848068,
          -22.6433,
          18.191454,
          17.74582,
          28.762623,
          1.2921826,
          6.9509277,
          -8.426676,
          -22.432087,
          4.594277,
          17.699867,
          20.93858,
          16.61855,
          19.210001,
          4.1254516,
          -27.183891,
          46.03249,
          36.70663,
          16.985611,
          45.84086,
          32.45983,
          7.8921084,
          -4.9653673,
          31.882036,
          16.705269,
          22.264303,
          -5.757673,
          -5.212349,
          6.0493264,
          17.51924,
          39.234035,
          17.921286,
          5.046996,
          -35.618538,
          -18.067041,
          -34.130543,
          24.169228,
          2.1118147,
          -5.935409,
          21.529018,
          -0.7524909,
          28.93096,
          20.48961,
          -5.2483754,
          5.458317,
          -30.057854,
          -30.785776,
          25.620522,
          0.47976053,
          6.3563175,
          -30.565783,
          6.9389777,
          22.607027,
          19.727123,
          -34.62703,
          10.918765,
          29.280933,
          7.9201226,
          -13.226546,
          2.4264572,
          -7.3593125,
          34.61622,
          -8.26607,
          6.732383
         ],
         "xaxis": "x",
         "y": [
          -10.070056,
          17.24186,
          -0.47858384,
          4.044426,
          26.301895,
          -27.200548,
          -8.623494,
          -35.058872,
          0.2333363,
          15.063633,
          0.9768601,
          -3.0888476,
          -27.039314,
          -38.278553,
          10.628454,
          -5.931602,
          -27.912895,
          -0.2949711,
          11.824234,
          -30.542576,
          -19.620968,
          -7.7793756,
          -28.192148,
          12.723937,
          -23.265177,
          -16.536242,
          -0.55156505,
          4.9882894,
          34.27331,
          -16.917004,
          11.854609,
          7.628212,
          -6.1849356,
          -9.954911,
          -17.895351,
          38.55987,
          -13.430397,
          -3.6325006,
          -32.965168,
          -8.848572,
          -3.4517493,
          12.8029995,
          8.124591,
          -39.009968,
          -13.38085,
          11.771886,
          -31.29132,
          -26.750599,
          13.0212755,
          19.671974,
          -7.1660333,
          -0.5879187,
          35.020565,
          -17.962355,
          -15.982753,
          5.5441113,
          -34.789845,
          8.184077,
          -10.306192,
          16.274448,
          -6.7763944,
          -6.3557506,
          -9.172907,
          13.43244,
          4.5609517,
          22.27205,
          12.572859,
          34.625614,
          14.465807,
          39.608463,
          17.314098,
          8.557248,
          12.030535,
          5.272337,
          -16.987324,
          -7.002329,
          -32.035763,
          -6.183589,
          10.280944,
          15.398423,
          12.183543,
          18.002537,
          9.471205,
          2.4818268,
          -18.36103,
          -2.729154,
          6.307035,
          1.7424701,
          -20.27648,
          -1.0570313,
          -13.190096,
          -13.814059,
          17.410234,
          -22.582882,
          3.8117795,
          -21.682219,
          8.4170885,
          -40.44685,
          -13.972197,
          -2.2386525,
          -7.803278,
          -8.375039,
          9.031997,
          14.888405,
          -14.442944,
          -5.747967,
          35.804955,
          6.0066705,
          -39.252132,
          -22.922935,
          21.458176,
          9.893641,
          10.570123,
          -23.523779,
          5.1859426,
          3.9986975,
          25.365728,
          -3.3770175,
          -39.77419,
          33.844986,
          36.19807,
          -9.711533,
          -20.402958,
          37.487965,
          -37.578747,
          -37.815346,
          -34.6393,
          14.221644,
          23.754673,
          32.952316,
          -23.289804,
          -40.709354,
          -38.086452,
          -39.291267,
          25.447258,
          -3.0794034,
          -39.454445,
          24.93825,
          -40.611935,
          -40.76965,
          3.2711418,
          -0.078855075,
          8.8984995,
          -8.532555,
          -36.36536,
          -40.408504,
          -40.177124,
          -10.087008,
          19.415829,
          -17.5433,
          -39.377003,
          26.252928,
          8.7522545,
          -6.3238807,
          -40.434734,
          1.4255315,
          19.70765,
          -25.178833,
          7.8881793,
          9.994773,
          22.561424,
          19.41238,
          6.3767104,
          -10.340114,
          -41.630253,
          -40.349213,
          -4.121362,
          -39.594494,
          4.3712177,
          -9.937821,
          -30.03021,
          -2.8369958,
          19.647154,
          -12.688547,
          -1.2192017,
          -9.504756,
          35.99459,
          12.2669115,
          -13.645635,
          -1.9866669,
          -19.766861,
          -6.758802,
          12.901174,
          -28.616589,
          4.759451,
          -20.362967,
          -22.578838,
          -39.09387,
          -9.4703,
          20.795082,
          6.6813283,
          1.8208592,
          5.795989,
          -21.730642,
          6.8867574,
          8.5680485,
          -26.305876,
          -9.22712,
          -6.6728826,
          -37.410316
         ],
         "yaxis": "y"
        }
       ],
       "layout": {
        "legend": {
         "tracegroupgap": 0
        },
        "margin": {
         "t": 60
        },
        "template": {
         "data": {
          "bar": [
           {
            "error_x": {
             "color": "#2a3f5f"
            },
            "error_y": {
             "color": "#2a3f5f"
            },
            "marker": {
             "line": {
              "color": "#E5ECF6",
              "width": 0.5
             },
             "pattern": {
              "fillmode": "overlay",
              "size": 10,
              "solidity": 0.2
             }
            },
            "type": "bar"
           }
          ],
          "barpolar": [
           {
            "marker": {
             "line": {
              "color": "#E5ECF6",
              "width": 0.5
             },
             "pattern": {
              "fillmode": "overlay",
              "size": 10,
              "solidity": 0.2
             }
            },
            "type": "barpolar"
           }
          ],
          "carpet": [
           {
            "aaxis": {
             "endlinecolor": "#2a3f5f",
             "gridcolor": "white",
             "linecolor": "white",
             "minorgridcolor": "white",
             "startlinecolor": "#2a3f5f"
            },
            "baxis": {
             "endlinecolor": "#2a3f5f",
             "gridcolor": "white",
             "linecolor": "white",
             "minorgridcolor": "white",
             "startlinecolor": "#2a3f5f"
            },
            "type": "carpet"
           }
          ],
          "choropleth": [
           {
            "colorbar": {
             "outlinewidth": 0,
             "ticks": ""
            },
            "type": "choropleth"
           }
          ],
          "contour": [
           {
            "colorbar": {
             "outlinewidth": 0,
             "ticks": ""
            },
            "colorscale": [
             [
              0,
              "#0d0887"
             ],
             [
              0.1111111111111111,
              "#46039f"
             ],
             [
              0.2222222222222222,
              "#7201a8"
             ],
             [
              0.3333333333333333,
              "#9c179e"
             ],
             [
              0.4444444444444444,
              "#bd3786"
             ],
             [
              0.5555555555555556,
              "#d8576b"
             ],
             [
              0.6666666666666666,
              "#ed7953"
             ],
             [
              0.7777777777777778,
              "#fb9f3a"
             ],
             [
              0.8888888888888888,
              "#fdca26"
             ],
             [
              1,
              "#f0f921"
             ]
            ],
            "type": "contour"
           }
          ],
          "contourcarpet": [
           {
            "colorbar": {
             "outlinewidth": 0,
             "ticks": ""
            },
            "type": "contourcarpet"
           }
          ],
          "heatmap": [
           {
            "colorbar": {
             "outlinewidth": 0,
             "ticks": ""
            },
            "colorscale": [
             [
              0,
              "#0d0887"
             ],
             [
              0.1111111111111111,
              "#46039f"
             ],
             [
              0.2222222222222222,
              "#7201a8"
             ],
             [
              0.3333333333333333,
              "#9c179e"
             ],
             [
              0.4444444444444444,
              "#bd3786"
             ],
             [
              0.5555555555555556,
              "#d8576b"
             ],
             [
              0.6666666666666666,
              "#ed7953"
             ],
             [
              0.7777777777777778,
              "#fb9f3a"
             ],
             [
              0.8888888888888888,
              "#fdca26"
             ],
             [
              1,
              "#f0f921"
             ]
            ],
            "type": "heatmap"
           }
          ],
          "heatmapgl": [
           {
            "colorbar": {
             "outlinewidth": 0,
             "ticks": ""
            },
            "colorscale": [
             [
              0,
              "#0d0887"
             ],
             [
              0.1111111111111111,
              "#46039f"
             ],
             [
              0.2222222222222222,
              "#7201a8"
             ],
             [
              0.3333333333333333,
              "#9c179e"
             ],
             [
              0.4444444444444444,
              "#bd3786"
             ],
             [
              0.5555555555555556,
              "#d8576b"
             ],
             [
              0.6666666666666666,
              "#ed7953"
             ],
             [
              0.7777777777777778,
              "#fb9f3a"
             ],
             [
              0.8888888888888888,
              "#fdca26"
             ],
             [
              1,
              "#f0f921"
             ]
            ],
            "type": "heatmapgl"
           }
          ],
          "histogram": [
           {
            "marker": {
             "pattern": {
              "fillmode": "overlay",
              "size": 10,
              "solidity": 0.2
             }
            },
            "type": "histogram"
           }
          ],
          "histogram2d": [
           {
            "colorbar": {
             "outlinewidth": 0,
             "ticks": ""
            },
            "colorscale": [
             [
              0,
              "#0d0887"
             ],
             [
              0.1111111111111111,
              "#46039f"
             ],
             [
              0.2222222222222222,
              "#7201a8"
             ],
             [
              0.3333333333333333,
              "#9c179e"
             ],
             [
              0.4444444444444444,
              "#bd3786"
             ],
             [
              0.5555555555555556,
              "#d8576b"
             ],
             [
              0.6666666666666666,
              "#ed7953"
             ],
             [
              0.7777777777777778,
              "#fb9f3a"
             ],
             [
              0.8888888888888888,
              "#fdca26"
             ],
             [
              1,
              "#f0f921"
             ]
            ],
            "type": "histogram2d"
           }
          ],
          "histogram2dcontour": [
           {
            "colorbar": {
             "outlinewidth": 0,
             "ticks": ""
            },
            "colorscale": [
             [
              0,
              "#0d0887"
             ],
             [
              0.1111111111111111,
              "#46039f"
             ],
             [
              0.2222222222222222,
              "#7201a8"
             ],
             [
              0.3333333333333333,
              "#9c179e"
             ],
             [
              0.4444444444444444,
              "#bd3786"
             ],
             [
              0.5555555555555556,
              "#d8576b"
             ],
             [
              0.6666666666666666,
              "#ed7953"
             ],
             [
              0.7777777777777778,
              "#fb9f3a"
             ],
             [
              0.8888888888888888,
              "#fdca26"
             ],
             [
              1,
              "#f0f921"
             ]
            ],
            "type": "histogram2dcontour"
           }
          ],
          "mesh3d": [
           {
            "colorbar": {
             "outlinewidth": 0,
             "ticks": ""
            },
            "type": "mesh3d"
           }
          ],
          "parcoords": [
           {
            "line": {
             "colorbar": {
              "outlinewidth": 0,
              "ticks": ""
             }
            },
            "type": "parcoords"
           }
          ],
          "pie": [
           {
            "automargin": true,
            "type": "pie"
           }
          ],
          "scatter": [
           {
            "fillpattern": {
             "fillmode": "overlay",
             "size": 10,
             "solidity": 0.2
            },
            "type": "scatter"
           }
          ],
          "scatter3d": [
           {
            "line": {
             "colorbar": {
              "outlinewidth": 0,
              "ticks": ""
             }
            },
            "marker": {
             "colorbar": {
              "outlinewidth": 0,
              "ticks": ""
             }
            },
            "type": "scatter3d"
           }
          ],
          "scattercarpet": [
           {
            "marker": {
             "colorbar": {
              "outlinewidth": 0,
              "ticks": ""
             }
            },
            "type": "scattercarpet"
           }
          ],
          "scattergeo": [
           {
            "marker": {
             "colorbar": {
              "outlinewidth": 0,
              "ticks": ""
             }
            },
            "type": "scattergeo"
           }
          ],
          "scattergl": [
           {
            "marker": {
             "colorbar": {
              "outlinewidth": 0,
              "ticks": ""
             }
            },
            "type": "scattergl"
           }
          ],
          "scattermapbox": [
           {
            "marker": {
             "colorbar": {
              "outlinewidth": 0,
              "ticks": ""
             }
            },
            "type": "scattermapbox"
           }
          ],
          "scatterpolar": [
           {
            "marker": {
             "colorbar": {
              "outlinewidth": 0,
              "ticks": ""
             }
            },
            "type": "scatterpolar"
           }
          ],
          "scatterpolargl": [
           {
            "marker": {
             "colorbar": {
              "outlinewidth": 0,
              "ticks": ""
             }
            },
            "type": "scatterpolargl"
           }
          ],
          "scatterternary": [
           {
            "marker": {
             "colorbar": {
              "outlinewidth": 0,
              "ticks": ""
             }
            },
            "type": "scatterternary"
           }
          ],
          "surface": [
           {
            "colorbar": {
             "outlinewidth": 0,
             "ticks": ""
            },
            "colorscale": [
             [
              0,
              "#0d0887"
             ],
             [
              0.1111111111111111,
              "#46039f"
             ],
             [
              0.2222222222222222,
              "#7201a8"
             ],
             [
              0.3333333333333333,
              "#9c179e"
             ],
             [
              0.4444444444444444,
              "#bd3786"
             ],
             [
              0.5555555555555556,
              "#d8576b"
             ],
             [
              0.6666666666666666,
              "#ed7953"
             ],
             [
              0.7777777777777778,
              "#fb9f3a"
             ],
             [
              0.8888888888888888,
              "#fdca26"
             ],
             [
              1,
              "#f0f921"
             ]
            ],
            "type": "surface"
           }
          ],
          "table": [
           {
            "cells": {
             "fill": {
              "color": "#EBF0F8"
             },
             "line": {
              "color": "white"
             }
            },
            "header": {
             "fill": {
              "color": "#C8D4E3"
             },
             "line": {
              "color": "white"
             }
            },
            "type": "table"
           }
          ]
         },
         "layout": {
          "annotationdefaults": {
           "arrowcolor": "#2a3f5f",
           "arrowhead": 0,
           "arrowwidth": 1
          },
          "autotypenumbers": "strict",
          "coloraxis": {
           "colorbar": {
            "outlinewidth": 0,
            "ticks": ""
           }
          },
          "colorscale": {
           "diverging": [
            [
             0,
             "#8e0152"
            ],
            [
             0.1,
             "#c51b7d"
            ],
            [
             0.2,
             "#de77ae"
            ],
            [
             0.3,
             "#f1b6da"
            ],
            [
             0.4,
             "#fde0ef"
            ],
            [
             0.5,
             "#f7f7f7"
            ],
            [
             0.6,
             "#e6f5d0"
            ],
            [
             0.7,
             "#b8e186"
            ],
            [
             0.8,
             "#7fbc41"
            ],
            [
             0.9,
             "#4d9221"
            ],
            [
             1,
             "#276419"
            ]
           ],
           "sequential": [
            [
             0,
             "#0d0887"
            ],
            [
             0.1111111111111111,
             "#46039f"
            ],
            [
             0.2222222222222222,
             "#7201a8"
            ],
            [
             0.3333333333333333,
             "#9c179e"
            ],
            [
             0.4444444444444444,
             "#bd3786"
            ],
            [
             0.5555555555555556,
             "#d8576b"
            ],
            [
             0.6666666666666666,
             "#ed7953"
            ],
            [
             0.7777777777777778,
             "#fb9f3a"
            ],
            [
             0.8888888888888888,
             "#fdca26"
            ],
            [
             1,
             "#f0f921"
            ]
           ],
           "sequentialminus": [
            [
             0,
             "#0d0887"
            ],
            [
             0.1111111111111111,
             "#46039f"
            ],
            [
             0.2222222222222222,
             "#7201a8"
            ],
            [
             0.3333333333333333,
             "#9c179e"
            ],
            [
             0.4444444444444444,
             "#bd3786"
            ],
            [
             0.5555555555555556,
             "#d8576b"
            ],
            [
             0.6666666666666666,
             "#ed7953"
            ],
            [
             0.7777777777777778,
             "#fb9f3a"
            ],
            [
             0.8888888888888888,
             "#fdca26"
            ],
            [
             1,
             "#f0f921"
            ]
           ]
          },
          "colorway": [
           "#636efa",
           "#EF553B",
           "#00cc96",
           "#ab63fa",
           "#FFA15A",
           "#19d3f3",
           "#FF6692",
           "#B6E880",
           "#FF97FF",
           "#FECB52"
          ],
          "font": {
           "color": "#2a3f5f"
          },
          "geo": {
           "bgcolor": "white",
           "lakecolor": "white",
           "landcolor": "#E5ECF6",
           "showlakes": true,
           "showland": true,
           "subunitcolor": "white"
          },
          "hoverlabel": {
           "align": "left"
          },
          "hovermode": "closest",
          "mapbox": {
           "style": "light"
          },
          "paper_bgcolor": "white",
          "plot_bgcolor": "#E5ECF6",
          "polar": {
           "angularaxis": {
            "gridcolor": "white",
            "linecolor": "white",
            "ticks": ""
           },
           "bgcolor": "#E5ECF6",
           "radialaxis": {
            "gridcolor": "white",
            "linecolor": "white",
            "ticks": ""
           }
          },
          "scene": {
           "xaxis": {
            "backgroundcolor": "#E5ECF6",
            "gridcolor": "white",
            "gridwidth": 2,
            "linecolor": "white",
            "showbackground": true,
            "ticks": "",
            "zerolinecolor": "white"
           },
           "yaxis": {
            "backgroundcolor": "#E5ECF6",
            "gridcolor": "white",
            "gridwidth": 2,
            "linecolor": "white",
            "showbackground": true,
            "ticks": "",
            "zerolinecolor": "white"
           },
           "zaxis": {
            "backgroundcolor": "#E5ECF6",
            "gridcolor": "white",
            "gridwidth": 2,
            "linecolor": "white",
            "showbackground": true,
            "ticks": "",
            "zerolinecolor": "white"
           }
          },
          "shapedefaults": {
           "line": {
            "color": "#2a3f5f"
           }
          },
          "ternary": {
           "aaxis": {
            "gridcolor": "white",
            "linecolor": "white",
            "ticks": ""
           },
           "baxis": {
            "gridcolor": "white",
            "linecolor": "white",
            "ticks": ""
           },
           "bgcolor": "#E5ECF6",
           "caxis": {
            "gridcolor": "white",
            "linecolor": "white",
            "ticks": ""
           }
          },
          "title": {
           "x": 0.05
          },
          "xaxis": {
           "automargin": true,
           "gridcolor": "white",
           "linecolor": "white",
           "ticks": "",
           "title": {
            "standoff": 15
           },
           "zerolinecolor": "white",
           "zerolinewidth": 2
          },
          "yaxis": {
           "automargin": true,
           "gridcolor": "white",
           "linecolor": "white",
           "ticks": "",
           "title": {
            "standoff": 15
           },
           "zerolinecolor": "white",
           "zerolinewidth": 2
          }
         }
        },
        "xaxis": {
         "anchor": "y",
         "domain": [
          0,
          1
         ],
         "title": {
          "text": "x"
         }
        },
        "yaxis": {
         "anchor": "x",
         "domain": [
          0,
          1
         ],
         "title": {
          "text": "y"
         }
        }
       }
      }
     },
     "metadata": {},
     "output_type": "display_data"
    }
   ],
   "source": [
    "# Graficar los embedddings en 2D\n",
    "import plotly.graph_objects as go\n",
    "import plotly.express as px\n",
    "\n",
    "x_vals, y_vals, labels = reduce_dimensions(w2v_model)\n",
    "\n",
    "MAX_WORDS=200\n",
    "fig = px.scatter(x=x_vals[:MAX_WORDS], y=y_vals[:MAX_WORDS], text=labels[:MAX_WORDS])\n",
    "#fig.show(renderer=\"colab\") # esto para plotly en colab\n",
    "fig.show()"
   ]
  },
  {
   "attachments": {},
   "cell_type": "markdown",
   "metadata": {},
   "source": [
    "Lo espacio de embeddings mostrado acima apresenta alguns agrupamientos interessantes. Los años (2017, 2014...), están muy cerca, así como los nombres de aeronaves (747, a330, a350).\n",
    "Los números también formam su grupo. En la parte superior podemos ver conceptos relacionados con los cohetes.\n",
    "Cerca de estos podemos ver conceptos relacionados a transporte (weight, capacity, increased, passengers)"
   ]
  },
  {
   "attachments": {},
   "cell_type": "markdown",
   "metadata": {
    "id": "yMM_SHSaZ9N-"
   },
   "source": [
    "### Alumno"
   ]
  },
  {
   "attachments": {},
   "cell_type": "markdown",
   "metadata": {
    "id": "WivQZ3ZCZ9N_"
   },
   "source": [
    "- Crear sus propios vectores con Gensim basado en lo visto en clase con otro dataset.\n",
    "- Probar términos de interés y explicar similitudes en el espacio de embeddings (sacar conclusiones entre palabras similitudes y diferencias).\n",
    "- Graficarlos.\n",
    "- Obtener conclusiones."
   ]
  }
 ],
 "metadata": {
  "colab": {
   "collapsed_sections": [],
   "provenance": []
  },
  "kernelspec": {
   "display_name": "Python 3 (ipykernel)",
   "language": "python",
   "name": "python3"
  },
  "language_info": {
   "codemirror_mode": {
    "name": "ipython",
    "version": 3
   },
   "file_extension": ".py",
   "mimetype": "text/x-python",
   "name": "python",
   "nbconvert_exporter": "python",
   "pygments_lexer": "ipython3",
   "version": "3.10.11"
  }
 },
 "nbformat": 4,
 "nbformat_minor": 4
}
