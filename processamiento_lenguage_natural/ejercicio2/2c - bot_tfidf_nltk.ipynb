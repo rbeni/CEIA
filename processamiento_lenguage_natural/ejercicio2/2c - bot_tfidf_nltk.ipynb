{
 "cells": [
  {
   "attachments": {},
   "cell_type": "markdown",
   "metadata": {
    "id": "Ue5hxxkdAQJg"
   },
   "source": [
    "<img src=\"https://github.com/hernancontigiani/ceia_memorias_especializacion/raw/master/Figures/logoFIUBA.jpg\" width=\"500\" align=\"center\">\n",
    "\n",
    "\n",
    "# Procesamiento de lenguaje natural\n",
    "## Bot con NLTK utilizando un corpus de wikipedia\n"
   ]
  },
  {
   "cell_type": "code",
   "execution_count": 1,
   "metadata": {
    "id": "kCED1hh-Ioyf"
   },
   "outputs": [
    {
     "name": "stderr",
     "output_type": "stream",
     "text": [
      "[nltk_data] Downloading package punkt to /home/rafael/nltk_data...\n",
      "[nltk_data]   Package punkt is already up-to-date!\n",
      "[nltk_data] Downloading package wordnet to /home/rafael/nltk_data...\n",
      "[nltk_data]   Package wordnet is already up-to-date!\n",
      "[nltk_data] Downloading package omw-1.4 to /home/rafael/nltk_data...\n",
      "[nltk_data]   Package omw-1.4 is already up-to-date!\n"
     ]
    },
    {
     "data": {
      "text/plain": [
       "True"
      ]
     },
     "execution_count": 1,
     "metadata": {},
     "output_type": "execute_result"
    }
   ],
   "source": [
    "import json\n",
    "import string\n",
    "import random\n",
    "import re # Regular Expressions (regex)\n",
    "import urllib.request\n",
    "\n",
    "import numpy as np\n",
    "\n",
    "# Para leer y parsear el texto en HTML de wikipedia\n",
    "import bs4 as bs\n",
    "\n",
    "import nltk\n",
    "# Descargar el diccionario\n",
    "nltk.download(\"punkt\")\n",
    "nltk.download(\"wordnet\")\n",
    "nltk.download('omw-1.4')"
   ]
  },
  {
   "attachments": {},
   "cell_type": "markdown",
   "metadata": {
    "id": "DMOa4JPSCJ29"
   },
   "source": [
    "### Datos\n",
    "Se consumirán los datos del artículo de wikipedia sobre el deporte \"Tennis\" en inglés."
   ]
  },
  {
   "cell_type": "code",
   "execution_count": 2,
   "metadata": {
    "id": "RIO7b8GjAC17"
   },
   "outputs": [],
   "source": [
    "raw_html = urllib.request.urlopen('https://en.wikipedia.org/wiki/SpaceX')\n",
    "raw_html = raw_html.read()\n",
    "\n",
    "# Parsear artículo, 'lxml' es el parser a utilizar\n",
    "article_html = bs.BeautifulSoup(raw_html, 'lxml')\n",
    "\n",
    "# Encontrar todos los párrafos del HTML (bajo el tag <p>)\n",
    "# y tenerlos disponible como lista\n",
    "article_paragraphs = article_html.find_all('p')\n",
    "\n",
    "article_text = ''\n",
    "\n",
    "for para in article_paragraphs:\n",
    "    article_text += para.text\n",
    "\n",
    "article_text = article_text.lower()"
   ]
  },
  {
   "cell_type": "code",
   "execution_count": 3,
   "metadata": {
    "id": "pUH30a1_rOkS"
   },
   "outputs": [
    {
     "data": {
      "text/plain": [
       "'\\nthe space exploration technologies corporation (spacex)[9] is an american spacecraft manufacturer, launcher, and satellite communications corporation headquartered in hawthorne, california. it was founded in 2002 by elon musk with the stated goal of reducing space transportation costs to enable the colonization of mars. the company manufactures the falcon 9, falcon heavy, and starship launch vehicles; several rocket engines; cargo dragon and crew dragon spacecraft; and starlink communications satellites.\\nspacex offers commercial satellite-based internet service via its constellation of starlink satellites, which became the largest-ever satellite constellation in january 2020 and as of december 2022 comprised more than 3,300 small satellites in orbit.[10]\\nthe company is also developing starship, a privately funded, fully reusable, super heavy-lift launch system for interplanetary and orbital spaceflight. it is intended to become spacex\\'s primary orbital vehicle, supplanting the existing falcon 9, falcon heavy, and dragon fleet. in april 2023, the first flight of starship made it the largest and most powerful rocket ever flown; the flight ended in an explosion four minutes after launch.[11][12]\\nspacex is the first private company to develop a liquid-propellant rocket that has reached orbit; to launch, orbit, and recover a spacecraft; to send a spacecraft to the international space station; and to send astronauts to orbit and to the international space station. it is also the first organization of any type to achieve vertical propulsive landing of an orbital rocket booster and the first to reuse such a booster. spacex\\'s falcon 9 rockets have landed and reflown more than 150 times.[13]\\nin early 2001, elon musk donated us$100,000 to the mars society and joined its board of directors for a short time.[14]:\\u200a30–31\\u200a he gave a plenary talk at their fourth convention where he announced mars oasis, a project to land a greenhouse and grow plants on mars.[15][16] musk initially attempted to acquire a dnepr icbm for the project through russian contacts from jim cantrell.[17] two months later, however, the united states withdrew from the abm treaty and created the missile defense agency, increasing tensions with russia and generating new strategic interest for rapid and re-usable launch capability similar to the dc-x.[18]\\nwhen musk returned to moscow, russia, with michael griffin (who led the cia\\'s venture capital arm in-q-tel[19]), they found the russians increasingly unreceptive.[20][21] on the flight home musk announced he could start a company to build the affordable rockets they needed instead.[21] by applying vertical integration,[20] using cheap commercial off-the-shelf components when possible,[21] and adopting the modular approach of modern software engineering, musk believed spacex could significantly cut launch price.[21] griffin would later be appointed nasa administrator,[22] conceive the cots program, and approve spacex for the $278\\xa0million award in 2006 before spacex had flown any rockets.[23][24]\\nin early 2002, musk started to look for staff for his company, soon to be named spacex. musk approached rocket engineer tom mueller (later spacex\\'s cto of propulsion) and invited him to become his business partner. mueller agreed to work for musk, and thus spacex was born.[25] spacex was first headquartered in a warehouse in el segundo, california. early spacex employees, such as tom mueller (cto), gwynne shotwell (coo), and chris thompson (vp of operations), came from neighboring trw and boeing corporations following the cancellation of the brilliant pebbles program.[26] by november 2005, the company had 160 employees.[27] musk personally interviewed and approved all of spacex\\'s early employees.[28]\\nmusk has stated that one of his goals with spacex is to decrease the cost and improve the reliability of access to space, ultimately by a factor of ten.[29]\\nspacex developed its first orbital launch vehicle, the falcon 1, with internal funding.[30][31]\\nthe falcon 1 was an expendable two-stage-to-orbit small-lift launch vehicle.\\nthe total development cost of falcon 1 was approximately $90\\xa0million[32] to $100\\xa0million.[33] the falcon name was adopted from the darpa falcon project, part of the prompt global strike program of the us military.[34]\\nin 2005, spacex announced plans to pursue a human-rated commercial space program through the end of the decade, a program that would later become the dragon spacecraft.[35]\\nin 2006, the company was selected by nasa and awarded $396\\xa0million to provide crew and cargo resupply demonstration contracts to the iss under the cots program.[36]\\nthe first two falcon 1 launches were purchased by the united states department of defense under a program that evaluates new us launch vehicles suitable for use by darpa.[31][37][38] the first three launches of the rocket, between 2006 and 2008, all resulted in failures, which almost ended the company. financing for tesla motors had failed, as well,[39] and consequently tesla, solarcity, and musk personally were all nearly bankrupt at the same time.[40] musk was reportedly \"waking from nightmares, screaming and in physical pain\" because of the stress.[41]\\nthe financial situation started to turn around with the first successful launch achieved on the fourth attempt on 28 september 2008. musk split his remaining $30\\xa0million between spacex and tesla, and nasa awarded the first commercial resupply services (crs) contract awarding $1.6\\xa0billion to spacex in december, thus financially saving the company.[42] based on these factors and the further business operations they enabled, the falcon 1 was soon retired following its second successful, and fifth total, launch in july 2009; this allowed spacex to focus company resources on the development of a larger orbital rocket, the falcon 9.[43] gwynne shotwell was also promoted to company president at this time, for her role in successfully negotiating the crs contract with the nasa administrator (and former spacex contractor) michael griffin.[44][45] griffin later estimated that spacex was around 85% funded by the federal government, mostly through his nasa awards, with the remaining 15% funding split between elon musk and other private investors. he felt the amount of government funding was \"excessive in his view\" compared with what he originally envisioned for the commercial space program.[46]\\nspacex originally intended to follow its light falcon 1 launch vehicle with an intermediate capacity vehicle, the falcon 5.[47] the company instead decided in 2005 to proceed with the development of the falcon 9, a reusable heavier lift vehicle. development of the falcon 9 was accelerated by nasa, which committed to purchasing several commercial flights if specific capabilities were demonstrated. this started with seed money from the commercial orbital transportation services (cots) program in 2006.[48]\\nthe overall contract award was $278\\xa0million to provide development funding for the dragon spacecraft, falcon 9, and demonstration launches of falcon 9 with dragon.[48]\\nas part of this contract, the falcon 9 launched for the first time in june 2010 with the dragon spacecraft qualification unit, using a mockup of the dragon spacecraft.\\nthe first operational dragon spacecraft was launched in december 2010 aboard cots demo flight 1, the falcon 9\\'s second flight, and safely returned to earth after two orbits, completing all its mission objectives.[49] by december 2010, the spacex production line was manufacturing one falcon 9 and dragon every three months.[50]\\nin april 2011, as part of its second-round commercial crew development (ccdev) program, nasa issued a $75\\xa0million contract for spacex to develop an integrated launch escape system for dragon in preparation for human-rating it as a crew transport vehicle to the iss.[51] nasa awarded spacex a fixed-price space act agreement (saa) to produce a detailed design of the crew transportation system in august 2012.[52]\\nin early 2012, approximately two-thirds of spacex stock was owned by musk[53] and his seventy million shares were then estimated to be worth $875\\xa0million on private markets,[54] valuing spacex at $1.3\\xa0billion.[55] in may 2012, with the dragon c2+ launch dragon became the first commercial spacecraft to deliver cargo to the international space station.[56]\\nafter the flight, the company private equity valuation nearly doubled to $2.4\\xa0billion or $20/share.[57][58] by that time, spacex had operated on total funding of approximately $1\\xa0billion over its first decade of operation. of this, private equity provided approximately $200\\xa0million, with musk investing approximately $100\\xa0million and other investors having put in about $100\\xa0million.[59]\\nspacex\\'s active reusability test program began in late 2012 with testing low-altitude, low-speed aspects of the landing technology.[60] the falcon 9 prototypes performed vertical takeoffs and landings (vtol). high-velocity, high-altitude tests of the booster atmospheric return technology began in late 2013.[60]\\nspacex launched the first commercial mission for a private customer in 2013. in 2014, spacex won nine contracts out of the 20 that were openly competed worldwide.[61]\\nthat year arianespace requested that european governments provide additional subsidies to face the competition from spacex.[62][63]\\nbeginning in 2014, spacex capabilities and pricing also began to affect the market for launch of u.s. military payloads, which for nearly a decade had been dominated by the large u.s. launch provider united launch alliance (ula).[64]\\nthe monopoly had allowed launch costs by the u.s. provider to rise to over $400\\xa0million over the years.[65]\\nin september 2014, nasa awarded spacex the commercial crew transportation capability (cctcap) contract to finalize the development of the crew transportation system. the contract included several technical and certification milestones, an uncrewed flight test, a crewed flight test, and six operational missions after certification.[52]\\nin january 2015, spacex raised $1\\xa0billion in funding from google and fidelity, in exchange for 8.33% of the company, establishing the company valuation at approximately $12\\xa0billion.[66]\\nthe same month spacex announced the development of a new satellite constellation, called starlink, to provide global broadband internet service with 4,000 satellites.[67]\\nthe falcon 9 had its first major failure in late june 2015, when the seventh iss resupply mission, crs-7 exploded two minutes into the flight. the problem was traced to a failed 2-foot-long steel strut that held a helium pressure vessel, which broke free due to the force of acceleration. this caused a breach and allowed high-pressure helium to escape into the low-pressure propellant tank, causing the failure.[68]\\nspacex first achieved a successful landing and recovery of a first stage in december 2015 with falcon 9 flight 20.[69]\\nin april 2016, the company achieved the first successful landing on the autonomous spaceport drone ship (asds) of course i still love you in the atlantic ocean.[70]\\nby october 2016, following the successful landings, spacex indicated they were offering their customers a 10% price discount if they choose to fly their payload on a reused falcon 9 first stage.[71]\\na second major rocket failure happened in early september 2016, when a falcon 9 exploded during a propellant fill operation for a standard pre-launch static fire test. the payload, the amos-6 communications satellite valued at $200\\xa0million, was destroyed.[72] the explosion was caused by the liquid oxygen that is used as propellant turning so cold that it solidified and ignited with carbon composite helium vessels.[73] though not considered an unsuccessful flight, the rocket explosion sent the company into a four-month launch hiatus while it worked out what went wrong. spacex returned to flight in january 2017.[74]\\nlater that year, in march 2017, spacex launched a returned falcon 9 for the ses-10 satellite. this was the first time a re-launch of a payload-carrying orbital rocket went back to space.[75] the first stage was recovered again, also making it the first landing of a reused orbital class rocket.[76]\\nin july 2017, the company raised $350\\xa0million, which raised its valuation to $21\\xa0billion.[77]\\nin 2017, spacex achieved a 45% global market share for awarded commercial launch contracts.[78]\\nby march 2018, spacex had more than 100 launches on its manifest representing about $12\\xa0billion in contract revenue.[79] the contracts included both commercial and government (nasa/dod) customers.[80] this made spacex the leading global commercial launch provider measured by manifested launches.[81]\\nin 2017, spacex formed a subsidiary, the boring company,[82] and began work to construct a short test tunnel on and adjacent to the spacex headquarters and manufacturing facility, using a small number of spacex employees,[83] which was completed in may 2018,[84] and opened to the public in december 2018.[85] during 2018, the boring company was spun out into a separate corporate entity with 6% of the equity going to spacex, less than 10% to early employees, and the remainder of the equity to elon musk.[85]\\nin january 2019, spacex announced it would lay off 10% of its workforce to help finance the starship and starlink projects.[86]\\nconstruction of initial prototypes and tests for starship started in early 2019 in florida and texas. all starship construction and testing moved to the new spacex south texas launch site later that year.\\nin may 2019, spacex also launched the first large batch of 60 starlink satellites, beginning to deploy what would become the world\\'s largest commercial satellite constellation the following year.[87]\\nthe company raised $1.33\\xa0billion of capital across three funding rounds in 2019.[88]\\nby may 2019, the valuation of spacex had risen to $33.3\\xa0billion[89] and reached $36\\xa0billion by march 2020.[90]\\na significant milestone was achieved in may 2020, when spacex successfully launched two nasa astronauts (doug hurley and bob behnken) into orbit on a crew dragon spacecraft during crew dragon demo-2, making spacex the first private company to send astronauts to the international space station and marking the first crewed orbital launch from american soil in 9 years.[91][92]\\nthe mission launched from kennedy space center launch complex 39a (lc-39a) of the kennedy space center in florida.[93]\\non 19 august 2020, after a $1.9\\xa0billion funding round, one of the largest single fundraising pushes by any privately held company, spacex\\'s valuation increased to $46\\xa0billion.[94][95][96]\\nin february 2021, spacex raised an additional $1.61\\xa0billion in an equity round from 99 investors[97] at a per share value of approximately $420,[96] raising the company valuation to approximately $74\\xa0billion. by 2021, spacex had raised more than $6\\xa0billion in equity financing. most of the capital raised since 2019 has been used to support the operational fielding of the starlink satellite constellation and the development and manufacture of the starship launch vehicle.[97] by october 2021, the valuation of spacex had risen to $100.3\\xa0billion.[98] on 16 april 2021, starship hls won the contract, and will play a big role in first sustainable lunar base[99] by 2021, spacex had entered into agreements with google cloud platform and microsoft azure to provide on-ground computer and networking services for starlink.[100] a new round of financing in 2022 values spacex at $127\\xa0billion.[101]\\nin july 2021, spacex unveiled another drone ship named a shortfall of gravitas, landing a booster from crs-23 on it for the first time on 29 august 2021[102] within the first 130 days of 2022, spacex had 18 rocket launches and two astronaut splashdowns. most 2022 spacex launches have focused on starlink, a consumer internet business that sends batches of internet-beaming satellites and now has over 2,200 satellites in orbit.[103] on 13 december 2021, company ceo elon musk announced that the company was starting a carbon dioxide removal program that would convert captured carbon into rocket fuel,[104][105] after he announced a $100\\xa0million donation to the x prize foundation the previous february to provide the monetary rewards to winners in a contest to develop the best carbon capture technology.[106][107]\\non 16 july 2021 spacex entered an agreement to acquire swarm technologies, a private company building a low earth orbit satellite constellation for communications with internet of things (iot) devices.[108]\\nin august 2022, reuters reported that the european space agency (esa) began initial discussions with spacex that could lead to the company\\'s launchers being used temporarily, given that russia blocked access to soyuz rockets amid the russian invasion of ukraine.[109]\\nin december 2022, the u.s. federal communications commission (fcc) approved to launch up to 7,500 of spacex\\'s next-generation satellites in its starlink internet network.[110]\\nin 2022, spacex\\'s falcon 9 became the world record holder for the most launches of a single vehicle type in a single year.[111][112][non-primary source needed] spacex launched a rocket approximately every six days in 2022, with 61 launches in total. all but one (a falcon heavy in november) was on a falcon 9 rocket.[113]\\non april 20, 2023, starship\\'s first orbital flight test ended in a mid-air explosion over the gulf of mexico before booster separation. after launch, multiple engines in the booster progressively failed, causing the vehicle to reach max q later than planned. eventually, the vehicle lost control and spun erratically during attempted stage separation, eventually activating the automated flight termination system, which intentionally destroyed the rocket. elon musk and spacex have publicly referred to this test flight as a success. [114]\\nspacex has developed three launch vehicles. the small-lift falcon 1 was the first launch vehicle developed and was retired in 2009. the medium-lift falcon 9 and the heavy-lift falcon heavy are both operational.\\nthe falcon 1 was a small rocket capable of placing several hundred kilograms into low earth orbit. it launched five times between 2006 and 2009, of which 2 were successful.[133] the falcon 1 was the first privately funded, liquid-fueled rocket to reach orbit.[115]\\nfalcon 9 is a medium-lift launch vehicle capable of delivering up to 22,800 kilograms (50,265\\xa0lb) to orbit, competing with the delta iv and the atlas v rockets, as well as other launch providers around the world. it has nine merlin engines in its first stage. the falcon 9 v1.0 rocket successfully reached orbit on its first attempt on 4 june 2010. its third flight, cots demo flight 2, launched on 22 may 2012, and launched the first commercial spacecraft to reach and dock with the international space station (iss).[56] the vehicle was upgraded to falcon 9 v1.1 in 2013, falcon 9 full thrust in 2015, and finally to falcon 9 block 5 in 2018. the first stage of falcon 9 is designed to retropropulsively land, be recovered, and reflown.[134]\\nthe falcon heavy is a heavy-lift launch vehicle capable of delivering up to 63,800\\xa0kg (140,700\\xa0lb) to low earth orbit (leo) or 26,700\\xa0kg (58,900\\xa0lb) to geosynchronous transfer orbit (gto). it uses three slightly modified falcon 9 first stage cores with a total of 27 merlin 1d engines.[135][136]\\nthe falcon heavy successfully flew its inaugural mission on 6 february 2018, launching musk\\'s personal tesla roadster into heliocentric orbit[137]\\nboth the falcon 9 and falcon heavy are certified to conduct launches for the national security space launch (nssl).[138][139] as of 10 may 2023, the falcon 9 and falcon heavy have been launched 228 times, resulting in 226 full mission successes, one partial success, and one in-flight failure. in addition, a falcon 9 experienced a pre-flight failure prior to a static fire test in 2016.[140][141]\\nsince the founding of spacex in 2002, the company has developed several rocket engines\\xa0– merlin, kestrel, and raptor\\xa0– for use in launch vehicles,[142][143] draco for the reaction control system of the dragon series of spacecraft,[144] and superdraco for abort capability in crew dragon.[145]\\nmerlin is a family of rocket engines that uses liquid oxygen (lox) and rp-1 propellants. merlin was first used to power the falcon 1\\'s first stage and is now used on both stages of the falcon 9 and falcon heavy vehicles.[146]\\nkestrel uses the same propellants and was used as the falcon 1 rocket\\'s second stage main engine.[143][147]\\ndraco and superdraco are hypergolic liquid-propellant rocket engines. draco engines are used on the reaction control system of the dragon and dragon 2 spacecraft.[144] the superdraco engine is more powerful, and eight superdraco engines provide launch escape capability for crewed dragon 2 spacecraft during an abort scenario.[148]\\nraptor is a new family of liquid oxygen and liquid methane-fueled full-flow staged combustion cycle engines to power the first and second stages of the in-development starship launch system.[142] development versions were test-fired in late 2016,[149] and the engine flew for the first time in 2019, powering the starhopper vehicle to an altitude of 20\\xa0m (66\\xa0ft).[150]\\nspacex has developed the dragon spacecraft to transport cargo and crew to the international space station. the first version of dragon, used only for cargo, was first launched in 2010.[49] the currently operational second generation dragon spacecraft, known as dragon 2, conducted its first flight, without crew, to the iss in early 2019, followed by a crewed flight of dragon 2 in 2020.[91]\\nthe cargo variant of dragon 2 flew for the first time in december 2020, for a resupply to the space station as part of the crs contract with nasa.[151]\\nin march 2020 spacex revealed the dragon xl, designed as a resupply spacecraft for nasa\\'s planned lunar gateway space station under a gateway logistics services (gls) contract.[152] dragon xl is planned to launch on the falcon heavy, and is able to transport over 5,000\\xa0kg (11,000\\xa0lb) to the gateway. dragon xl will be docked at the gateway for six to twelve months at a time.[153]\\nspacex routinely returns the first stage of falcon 9 and falcon heavy rockets after orbital launches. the rocket flights and land to a predetermined landing site using only its own propulsion systems.[154]\\nwhen propellent margins do not permit a return to launch site (rtls), rockets return to floating landing platform in the ocean, called autonomous spaceport drone ships (asds).[155]\\nspacex also plans to introduce floating launch platforms. these are modified oil rigs to use in the 2020s to provide a sea launch option for their second-generation launch vehicle: the heavy-lift starship system, consisting of the super heavy booster and starship second stage. spacex has purchased two deepwater oil rigs and are refitting them to support starship launches.[156]\\nspacex is developing a fully reusable super-heavy lift launch system known as starship.\\nit comprises a reusable first stage, called super heavy, and the reusable starship second stage space vehicle. the system is intended to supersede the company\\'s existing launch vehicle hardware by the early 2020s.[157][158]\\nspacex initially envisioned a 12-meter-diameter its concept in 2016 solely aimed at mars transit and other interplanetary uses. in 2017 it articulated a smaller 9-meter-diameter vehicle to replace all of its launch service provider capabilities\\xa0– earth-orbit; lunar-orbit; interplanetary missions; and potentially, even intercontinental passenger transport on earth\\xa0– but do so on a fully reusable set of vehicles with a markedly lower-cost structure.[159]\\nin 2018, the starship system was redesigned to use stainless steel instead of carbon fiber construction, to improve performance while drastically decreasing cost. private passenger yusaku maezawa has contracted to fly around the moon in a starship vehicle in 2023.[160] the company\\'s long-term vision is the development of technology and resources suitable for human colonization of mars.[161][162][163]\\nspacex started manufacturing the first prototypes of starship in 2019 at the company\\'s facility in boca chica, texas, later renamed starbase.[164] it is developing starship using iterative design principles, aiming to build and test several prototypes at a fast pace.[165][166] the first successful suborbital flight and landing of a full starship prototype was achieved in may 2021.[167]\\nstarlink is an internet satellite constellation under development by spacex that consists of thousands of cross-linked communications satellites in ~550\\xa0km orbits. owned and operated by spacex, its goal is to address the significant unmet demand worldwide for low-cost broadband capabilities.[168]\\ndevelopment began in 2015, and initial prototype test-flight satellites were launched on the spacex paz satellite mission in 2017.\\nin may 2019, spacex launched the first batch of 60 satellites aboard a falcon 9.[169] initial test operation of the constellation began in late 2020[170] and first orders were taken in early 2021.[171] customers were told to expect internet service speeds of 50 mbps to 150 mbps and latency from 20 ms to 40 ms.[172] in december 2022, starlink reached over 1 million subscribers worldwide.[173]\\nthe planned large number of starlink satellites has been criticized by astronomers due to concerns over light pollution,[174][175][176] with the brightness of starlink satellites in both optical and radio wavelengths interfering with scientific observations.[177] in response, spacex has implemented several upgrades to starlink satellites aimed at reducing their brightness.[178] the large number of satellites employed by starlink also creates long-term dangers of space debris collisions.[179][180] however, the satellites are equipped with krypton-fueled hall thrusters which allow them to de-orbit at the end of their life. they are also designed to autonomously avoid collisions based on uplinked tracking data.[181]\\nin december 2022, spacex announced starshield, a program to incorporate military or government entity payloads on board a starlink-derived satellite bus. the space development agency is a key customer procuring satellites for a space-based missile defense system.[182][183]\\nin june 2015, spacex announced that they would sponsor a hyperloop competition, and would build a 1.6\\xa0km (0.99\\xa0mi) long subscale test track near spacex\\'s headquarters for the competitive events.[184][185] the company has held the annual competition since 2017.[186]\\nin collaboration with doctors and academic researchers, spacex invited all employees to participate in the creation of a covid-19 antibody-testing program in 2020. as such, 4300 employees volunteered to provide blood-samples resulting in a peer-reviewed scientific paper crediting eight spacex employees as coauthors and suggesting that a certain level of covid-19 antibodies may provide lasting protection against the virus.[187][188]\\nin july 2018, musk arranged for his employees to build a mini-submarine to assist the rescue of children stuck in a flooded cavern in thailand.[189] richard stanton, leader of the international rescue diving team, urged musk to facilitate the construction of the vehicle as a back-up, in case flooding worsened.[190][191] engineers at spacex and the boring company built the mini-submarine from a falcon 9 liquid oxygen transfer tube in eight hours and personally delivered it to thailand.[192][193] by this time, however, eight of the 12 children had already been rescued using full face masks and oxygen under anesthesia; consequently thai authorities declined to use the submarine.[189]\\nspacex is headquartered in hawthorne, california, which also serves as its primary manufacturing plant.[194] the company operates a research and major operation in redmond, washington, owns a test site in texas[195] and operates three launch sites, with another under development. spacex also operates regional offices in texas, virginia, and washington, d.c.[80] spacex was incorporated in the state of delaware.[196]\\nspacex headquarters is located in the los angeles suburb of hawthorne, california. the large three-story facility, originally built by northrop corporation to build boeing 747 fuselages,[194] houses spacex\\'s office space, mission control, and falcon 9 manufacturing facilities.[197]\\nthe area has one of the largest concentrations of space sector headquarters, facilities, and/or subsidiaries in the u.s., including boeing/mcdonnell douglas main satellite building campuses, aerospace corp., raytheon, nasa\\'s jet propulsion laboratory, united states space force\\'s space systems command at los angeles air force base, lockheed martin, bae systems, northrop grumman, and aecom, etc., with a large pool of aerospace engineers and recent college engineering graduates.[194]\\nspacex uses a high degree of vertical integration in the production of its rockets and rocket engines.[20] spacex builds its rocket engines, rocket stages, spacecraft, principal avionics and all software in-house in their hawthorne facility, which is unusual for the space industry.[20]\\nin january 2015, spacex announced it would be entering the satellite production business and global satellite internet business. the first satellite facility is a 30,000\\xa0sq\\xa0ft (2,800\\xa0m2) office building located in redmond, washington. as of january 2017, a second facility in redmond was acquired with 40,625\\xa0sq\\xa0ft (3,774.2\\xa0m2) and has become a research and development laboratory for the satellites.[198] in july 2016, spacex acquired an additional 8,000\\xa0sq\\xa0ft (740\\xa0m2) creative space in irvine, california (orange county) to focus on satellite communications.[199]\\nspacex operates its rocket development and test facility in mcgregor, texas. all spacex rocket engines are tested on rocket test stands,[195] and low-altitude vtvl flight testing of the falcon 9 grasshopper in 2012–2013 were carried out at mcgregor.[200]\\ntesting of the much larger starship prototypes is conducted in the spacex south texas launch site near brownsville, texas.[197]\\nthe company purchased the mcgregor facilities from beal aerospace, where it refitted the largest test stand for falcon 9 engine testing. spacex has made a number of improvements to the facility since its purchase and has also extended the acreage by purchasing several pieces of adjacent farmland. as of october\\xa02012[update], the mcgregor facility had seven test stands that are operated \"18 hours a day, six days a week\"[201] and is building more test stands because production is ramping up and the company has a large manifest in the next several years.[202] in addition to routine testing, dragon capsules (following recovery after an orbital mission), are shipped to mcgregor for de-fueling, cleanup, and refurbishment for reuse in future missions.[203]\\nspacex currently operates three orbital launch sites, at cape canaveral space force station, vandenberg space force base, and kennedy space center, with another under construction near brownsville, texas. spacex has indicated that they see a niche for each of the four orbital facilities and that they have sufficient launch business to fill each pad.[204] the vandenberg launch site enables highly inclined orbits (66–145°), while cape canaveral enables orbits of medium inclination (28.5–51.6°).[205] before it was retired, all falcon 1 launches took place at the ronald reagan ballistic missile defense test site on omelek island.[206]\\nin april 2007 the usaf approved the use of cape canaveral space launch complex 40 (slc-40) by spacex.[207] the site has been used from 2010 for falcon 9 launches, mainly to low earth and geostationary orbits. slc-40 is not capable of supporting falcon heavy launches. as part of spacex\\'s booster reusability program, the former launch complex 13 at cape canaveral, now renamed landing zone 1, has since 2015 been designated for use for falcon 9 first-stage booster landings.[208]\\nvandenberg space launch complex 4 (slc-4e) leased in 2011, is used for payloads to polar orbits. the vandenberg site can launch both falcon 9 and falcon heavy vehicles,[209] but cannot launch to low inclination orbits. the neighboring slc-4w has been converted to landing zone 4 since 2015, where spacex has successfully landed three falcon 9 first-stage boosters, the first in october 2018.[210]\\non 14 april 2014, spacex signed a 20-year lease for launch complex 39a.[211] the pad was subsequently modified to support falcon 9 and falcon heavy launches. spacex launched its first crewed mission to the iss from launch pad 39a on 30 may 2020.[212] pad 39a has been prepared since 2019 to eventually accommodate starship launches. with delays in launch faa permits for boca chica, the 39a starship preparation was accelerated in 2022.[213]\\nspacex manufactures and flies starship test vehicles from starbase at boca chica, texas, having announced first plans for the launch facility near brownsville, texas in august 2014.[214][215] the federal aviation administration (faa) issued the permit in july 2014.[216] spacex broke ground on the new launch facility in 2014 with construction ramping up in the latter half of 2015,[217] with the first suborbital launches from the facility in 2019.[197] some residents of boca chica village, brownsville, and environmental activists criticized the site along with starship development program in various aspects.[218][219]\\nspacex won demonstration and actual supply contracts from nasa for the international space station (iss) with technology the company developed. spacex is also certified for u.s. military launches of evolved expendable launch vehicle-class (eelv) payloads. with approximately thirty missions on the manifest for 2018 alone, spacex represents over $12\\xa0billion under contract.[80]\\nin 2006, spacex won a nasa commercial orbital transportation services (cots) phase 1 contract to demonstrate cargo delivery to the international space station (iss), with a possible contract option for crew transport.[220] through this contract, designed by nasa to provide \"seed money\" through space act agreements for developing new capabilities, nasa paid spacex $396\\xa0million to develop the cargo configuration of the dragon spacecraft, while spacex developed the falcon 9 launch vehicle with their own resources.[221] these space act agreements have been shown to have saved nasa millions of dollars in development costs, making rocket development 4–10 times cheaper than if produced by nasa alone.[222]\\nin december 2010 the launch of the spacex cots demo flight 1 mission, spacex became the first private company to successfully launch, orbit and recover a spacecraft.[223] dragon successfully berthed with the iss during spacex cots demo flight 2 in may 2012, a first for a private spacecraft.[224]\\ncommercial resupply services (crs) are a series of contracts awarded by nasa from 2008 to 2016 for delivery of cargo and supplies to the international space station on commercially operated spacecraft. the first crs contracts were signed in 2008 and awarded $1.6\\xa0billion to spacex for 12 cargo transport missions, covering deliveries to 2016.[225] spacex crs-1, the first of the 12 planned resupply missions, launched in october 2012, achieved orbit, berthed and remained on station for 20 days, before re-entering the atmosphere and splashing down in the pacific ocean.[226]\\ncrs missions have flown approximately twice a year to the iss since then. in 2015, nasa extended the phase 1 contracts by ordering an additional three resupply flights from spacex, and then extended the contract further for a total of twenty cargo missions to the iss.[227][225][228] the final dragon 1 mission, spacex crs-20, departed the iss in april 2020, and dragon was subsequently retired from service. a second phase of contracts was awarded in january 2016 with spacex as one of the awardees. spacex will fly up to nine additional crs flights with the upgraded dragon 2 spacecraft.[229][230] in march 2020, nasa contracted spacex to develop the dragon xl spacecraft to send supplies to the lunar gateway space station. dragon xl will be launched on a falcon heavy.[231]\\nspacex is responsible for the transportation of nasa astronauts to and from the iss. the nasa contracts started as part of the commercial crew development (ccdev) program, aimed at developing commercially operated spacecraft capable of delivering astronauts to the iss. the first contract was awarded to spacex in 2011,[232][233] followed by another in 2012 to continue development and testing of its dragon 2 spacecraft.[234]\\nin september 2014, nasa chose spacex and boeing as the two companies that would be funded to develop systems to transport u.s. crews to and from the iss.[235] spacex won $2.6\\xa0billion to complete and certify dragon 2 by 2017. the contracts called for at least one crewed flight test with at least one nasa astronaut aboard. once crew dragon received nasa human-spaceflight certification, the contract required spacex to conduct at least two, and as many as six, crewed missions to the space station.[235]\\nspacex completed the first key flight test of its crew dragon spacecraft, a pad abort test, in may 2015,[236] and successfully conducted a full uncrewed test flight in early 2019. the capsule docked to the iss and then splashed down in the atlantic ocean.[237] in january 2020, spacex conducted an in-flight abort test, the last test flight before flying crew, in which the dragon spacecraft fired its launch escape engines in a simulated abort scenario.[238]\\non 30 may 2020, the crew dragon demo-2 mission was launched to the international space station with nasa astronauts bob behnken and doug hurley, the first time a crewed vehicle had launched from the u.s. since 2011, and the first commercial crewed launch to the iss.[239]\\nthe crew-1 mission was successfully launched to the international space station on 16 november 2020, with nasa astronauts michael hopkins, victor glover and shannon walker along with jaxa astronaut soichi noguchi,[240] all members of the expedition 64 crew.[241] on 23 april 2021, crew-2 was launched to the international space station with nasa astronauts shane kimbrough and k. megan mcarthur, jaxa astronaut akihiko hoshide, and esa astronaut thomas pesquet.[242] the crew-2 mission successfully docked on 24 april 2021.[243]\\nspacex also offers paid crewed spaceflights for private individuals. the first of these missions, inspiration4, launched in 2021 on behalf of shift4 payments ceo jared isaacman. the mission launched the crew dragon resilience from the florida kennedy space center\\'s launch complex 39a atop a falcon 9 launch vehicle, placed the dragon capsule into low earth orbit, and ended successfully about three days later, when the resilience splashed down in the atlantic ocean. all four crew members received commercial astronaut training from spacex. the training included lessons in orbital mechanics, operating in a microgravity environment, stress testing, emergency-preparedness training and mission simulations.[244]\\nin 2005, spacex announced that it had been awarded an indefinite delivery/indefinite quantity (idiq) contract, allowing the united states air force to purchase up to $100\\xa0million worth of launches from the company.[245] three years later, nasa announced that it had awarded an idiq launch services contract to spacex for up to $1\\xa0billion, depending on the number of missions awarded.[246] in december 2012, spacex announced its first two launch contracts with the united states department of defense (dod). the united states air force space and missile systems center awarded spacex two eelv-class missions: deep space climate observatory (dscovr) and space test program 2 (stp-2). dscovr was launched on a falcon 9 launch vehicle in 2015, while stp-2 was launched on a falcon heavy on 25 june 2019.[247]\\nthe falcon 9 v1.1 was certified for national security space launch (nssl) in 2015, allowing spacex to contract launch services to the air force for any payloads classified under national security.[138]\\nthis broke the monopoly held since 2006 by united launch alliance (ula) over u.s. air force launches of classified payloads.[248]\\nin april 2016, the u.s. air force awarded the first such national security launch to spacex to launch the second gps iii satellite for $82.7\\xa0million.[249] this was approximately 40% less than the estimated cost for similar previous missions.[250] spacex also launched the third gps iii launch on 20 june 2020.[251] in march 2018, spacex secured an additional $290\\xa0million contract from the u.s. air force to launch another three gps iii satellites.[252]\\nthe u.s. national reconnaissance office (nro) also purchased launches from spacex, with the first taking place on 1 may 2017.[253] in february 2019, spacex secured a $297\\xa0million contract from the u.s. air force to launch another three national security missions, all slated to launch no earlier than fy 2021.[254] in august 2020, the u.s. space force awarded its national security space launch (nssl) contracts for the following 5–7 years. spacex won a contract for $316\\xa0million for one launch. in addition, spacex will handle 40% of the u.s. military\\'s satellite launch requirements over the period.[255]\\nspacex also designs and launches custom military satellites for the space development agency as part of a new missile defense system in low earth orbit.[256] the constellation would give the united states capabilities to sense, target and potentially intercept nuclear missiles and hypersonic weapons launched from anywhere on earth.[257] both china and russia brought concerns to the united nations about the program,[258] and various organizations warn it could be destabilizing and trigger an arms race in space.[259][260]\\nspacex\\'s low launch prices, especially for communications satellites flying to geostationary transfer orbit (gto), have resulted in market pressure on its competitors to lower their own prices.[20] prior to 2013, the openly competed comsat launch market had been dominated by arianespace (flying the ariane 5) and international launch services (flying the proton).[261] with a published price of $56.5\\xa0million per launch to low earth orbit, falcon 9 rockets were the cheapest in the industry.[262] european satellite operators are pushing the esa to reduce launch prices of the ariane 5 and the future ariane 6 rockets as a result of competition from spacex.[263]\\nspacex ended the united launch alliance (ula) monopoly of u.s. military payloads when it began to compete for national security launches. in 2015, anticipating a slump in domestic, military, and spy launches, ula stated that it would go out of business unless it won commercial satellite launch orders.[264] to that end, ula announced a major restructuring of processes and workforce to decrease launch costs by half.[265][266]\\ncongressional testimony by spacex in 2017 suggested that the nasa space act agreement process of \"setting only a high-level requirement for cargo transport to the space station [while] leaving the details to industry\" had allowed spacex to design and develop the falcon 9 rocket on its own at a substantially lower cost. according to nasa\\'s own independently verified numbers, spacex\\'s total development cost for the falcon 9 rocket, including the falcon 1 rocket, was estimated at $390\\xa0million. in 2011, nasa estimated that it would have cost the agency about $4\\xa0billion to develop a rocket like the falcon 9 booster based upon nasa\\'s traditional contracting processes, about ten times more.[222] in may 2020, nasa administrator jim bridenstine remarked that thanks to nasa\\'s investments into spacex, the united states has 70% of the commercial launch market, a major improvement since 2012 when there were no commercial launches from the country.[267]\\nin november 2022, the company announced coo gwynne shotwell and vice president mark juncosa would oversee starbase, its texas launch facility, along with omead afshar, who at the time oversaw operations for tesla in texas. shyamal patel, who was senior director of operations at the site, would shift to its cape canaveral site. cnbc reported that these executive moves demonstrated \"the sense of urgency within the company to get starship flying.\"[280][281][282]\\n\\naccording to former nasa deputy administrator lori garver, the company overall has a male-dominated employee culture,  similar to that of the spaceflight industry in general.[283] in december 2021, claims of workplace sexual harassment from five former spacex employees, ranging from interns to full engineers, were published.[284] the former employees claimed to have experienced unwanted advances and uncomfortable interactions.[285] additionally, the accounts included claims of a culture of sexual harassment existing at the company and one where complaints made to executives, managers, and human resources officers went largely unaddressed.[286]\\nin may 2022, a business insider article alleged that musk engaged in sexual misconduct with a spacex flight attendant in a private jet in 2016 citing an anonymous friend of the flight attendant.[287] in response, some employees collaborated on an open letter condemning \"elon\\'s harmful twitter behavior\".[288] it also asks the company to clearly define spacex\\'s \"no-asshole\" and \"zero tolerance\" policies, which it says is unequally enforced from one employee to the next. the next day, gwynne shotwell announced that those employees who were involved with the letter had been terminated and claimed that unsponsored, unsolicited surveys were sent to employees during the work day, and that some felt pressured to sign the letter.[289]\\nthe company has also been described as having a work culture that pushes employees to work excessively, and was described as fostering a burnout culture.[290] according to a memo by blue origin, spacex expected very long work hours, work on weekends, and limited use of holidays.[290]\\nbundled references\\n'"
      ]
     },
     "execution_count": 3,
     "metadata": {},
     "output_type": "execute_result"
    }
   ],
   "source": [
    "# Demos un vistazo\n",
    "article_text"
   ]
  },
  {
   "cell_type": "code",
   "execution_count": 4,
   "metadata": {
    "id": "BtGLJjt6rQhK"
   },
   "outputs": [
    {
     "name": "stdout",
     "output_type": "stream",
     "text": [
      "Cantidad de caracteres en la nota: 46048\n"
     ]
    }
   ],
   "source": [
    "print(\"Cantidad de caracteres en la nota:\", len(article_text))"
   ]
  },
  {
   "attachments": {},
   "cell_type": "markdown",
   "metadata": {
    "id": "FVHxBRNzCMOS"
   },
   "source": [
    "### 2 - Preprocesamiento\n",
    "- Remover caracteres especiales\n",
    "- Quitar espacios o saltos"
   ]
  },
  {
   "cell_type": "code",
   "execution_count": 5,
   "metadata": {
    "id": "HnEUTD1Erl1N"
   },
   "outputs": [],
   "source": [
    "# Repaso de regex:\n",
    "# https://docs.python.org/3/library/re.html\n",
    "\n",
    "# Para practicar regex:\n",
    "# https://regex101.com/\n",
    "\n",
    "# el inicio con 'r' antes de cada string indica que se interprete como raw string\n",
    "# '\\n' es interpretado por Python como salto de linea\n",
    "# r'\\n' es interpretado por Python como el string formado por dos caracteres: \n",
    "#  backslash y n\n",
    "\n",
    "# substituir con regex con espacio vacío:\n",
    "text = re.sub(r'\\[[0-9]*\\]', ' ', article_text) # substituir los números entre corchetes\n",
    "# (notar que los corchetes son interpretados literalmente por los backlsash)\n",
    "text = re.sub(r'\\s+', ' ', text) # substituir más de un caracter de espacio, salto de línea o tabulación\n",
    "\n",
    "# probar en regex101 con los patrones anteriores:\n",
    "# 'Hola [1], [], [ estoy bien   [123]. [12sss]. OK!   .'"
   ]
  },
  {
   "cell_type": "code",
   "execution_count": 6,
   "metadata": {
    "id": "g7ycrAMYrn66"
   },
   "outputs": [
    {
     "data": {
      "text/plain": [
       "' the space exploration technologies corporation (spacex) is an american spacecraft manufacturer, launcher, and satellite communications corporation headquartered in hawthorne, california. it was founded in 2002 by elon musk with the stated goal of reducing space transportation costs to enable the colonization of mars. the company manufactures the falcon 9, falcon heavy, and starship launch vehicles; several rocket engines; cargo dragon and crew dragon spacecraft; and starlink communications satellites. spacex offers commercial satellite-based internet service via its constellation of starlink satellites, which became the largest-ever satellite constellation in january 2020 and as of december 2022 comprised more than 3,300 small satellites in orbit. the company is also developing starship, a privately funded, fully reusable, super heavy-lift launch system for interplanetary and orbital spaceflight. it is intended to become spacex\\'s primary orbital vehicle, supplanting the existing falcon 9, falcon heavy, and dragon fleet. in april 2023, the first flight of starship made it the largest and most powerful rocket ever flown; the flight ended in an explosion four minutes after launch. spacex is the first private company to develop a liquid-propellant rocket that has reached orbit; to launch, orbit, and recover a spacecraft; to send a spacecraft to the international space station; and to send astronauts to orbit and to the international space station. it is also the first organization of any type to achieve vertical propulsive landing of an orbital rocket booster and the first to reuse such a booster. spacex\\'s falcon 9 rockets have landed and reflown more than 150 times. in early 2001, elon musk donated us$100,000 to the mars society and joined its board of directors for a short time. : 30–31 he gave a plenary talk at their fourth convention where he announced mars oasis, a project to land a greenhouse and grow plants on mars. musk initially attempted to acquire a dnepr icbm for the project through russian contacts from jim cantrell. two months later, however, the united states withdrew from the abm treaty and created the missile defense agency, increasing tensions with russia and generating new strategic interest for rapid and re-usable launch capability similar to the dc-x. when musk returned to moscow, russia, with michael griffin (who led the cia\\'s venture capital arm in-q-tel ), they found the russians increasingly unreceptive. on the flight home musk announced he could start a company to build the affordable rockets they needed instead. by applying vertical integration, using cheap commercial off-the-shelf components when possible, and adopting the modular approach of modern software engineering, musk believed spacex could significantly cut launch price. griffin would later be appointed nasa administrator, conceive the cots program, and approve spacex for the $278 million award in 2006 before spacex had flown any rockets. in early 2002, musk started to look for staff for his company, soon to be named spacex. musk approached rocket engineer tom mueller (later spacex\\'s cto of propulsion) and invited him to become his business partner. mueller agreed to work for musk, and thus spacex was born. spacex was first headquartered in a warehouse in el segundo, california. early spacex employees, such as tom mueller (cto), gwynne shotwell (coo), and chris thompson (vp of operations), came from neighboring trw and boeing corporations following the cancellation of the brilliant pebbles program. by november 2005, the company had 160 employees. musk personally interviewed and approved all of spacex\\'s early employees. musk has stated that one of his goals with spacex is to decrease the cost and improve the reliability of access to space, ultimately by a factor of ten. spacex developed its first orbital launch vehicle, the falcon 1, with internal funding. the falcon 1 was an expendable two-stage-to-orbit small-lift launch vehicle. the total development cost of falcon 1 was approximately $90 million to $100 million. the falcon name was adopted from the darpa falcon project, part of the prompt global strike program of the us military. in 2005, spacex announced plans to pursue a human-rated commercial space program through the end of the decade, a program that would later become the dragon spacecraft. in 2006, the company was selected by nasa and awarded $396 million to provide crew and cargo resupply demonstration contracts to the iss under the cots program. the first two falcon 1 launches were purchased by the united states department of defense under a program that evaluates new us launch vehicles suitable for use by darpa. the first three launches of the rocket, between 2006 and 2008, all resulted in failures, which almost ended the company. financing for tesla motors had failed, as well, and consequently tesla, solarcity, and musk personally were all nearly bankrupt at the same time. musk was reportedly \"waking from nightmares, screaming and in physical pain\" because of the stress. the financial situation started to turn around with the first successful launch achieved on the fourth attempt on 28 september 2008. musk split his remaining $30 million between spacex and tesla, and nasa awarded the first commercial resupply services (crs) contract awarding $1.6 billion to spacex in december, thus financially saving the company. based on these factors and the further business operations they enabled, the falcon 1 was soon retired following its second successful, and fifth total, launch in july 2009; this allowed spacex to focus company resources on the development of a larger orbital rocket, the falcon 9. gwynne shotwell was also promoted to company president at this time, for her role in successfully negotiating the crs contract with the nasa administrator (and former spacex contractor) michael griffin. griffin later estimated that spacex was around 85% funded by the federal government, mostly through his nasa awards, with the remaining 15% funding split between elon musk and other private investors. he felt the amount of government funding was \"excessive in his view\" compared with what he originally envisioned for the commercial space program. spacex originally intended to follow its light falcon 1 launch vehicle with an intermediate capacity vehicle, the falcon 5. the company instead decided in 2005 to proceed with the development of the falcon 9, a reusable heavier lift vehicle. development of the falcon 9 was accelerated by nasa, which committed to purchasing several commercial flights if specific capabilities were demonstrated. this started with seed money from the commercial orbital transportation services (cots) program in 2006. the overall contract award was $278 million to provide development funding for the dragon spacecraft, falcon 9, and demonstration launches of falcon 9 with dragon. as part of this contract, the falcon 9 launched for the first time in june 2010 with the dragon spacecraft qualification unit, using a mockup of the dragon spacecraft. the first operational dragon spacecraft was launched in december 2010 aboard cots demo flight 1, the falcon 9\\'s second flight, and safely returned to earth after two orbits, completing all its mission objectives. by december 2010, the spacex production line was manufacturing one falcon 9 and dragon every three months. in april 2011, as part of its second-round commercial crew development (ccdev) program, nasa issued a $75 million contract for spacex to develop an integrated launch escape system for dragon in preparation for human-rating it as a crew transport vehicle to the iss. nasa awarded spacex a fixed-price space act agreement (saa) to produce a detailed design of the crew transportation system in august 2012. in early 2012, approximately two-thirds of spacex stock was owned by musk and his seventy million shares were then estimated to be worth $875 million on private markets, valuing spacex at $1.3 billion. in may 2012, with the dragon c2+ launch dragon became the first commercial spacecraft to deliver cargo to the international space station. after the flight, the company private equity valuation nearly doubled to $2.4 billion or $20/share. by that time, spacex had operated on total funding of approximately $1 billion over its first decade of operation. of this, private equity provided approximately $200 million, with musk investing approximately $100 million and other investors having put in about $100 million. spacex\\'s active reusability test program began in late 2012 with testing low-altitude, low-speed aspects of the landing technology. the falcon 9 prototypes performed vertical takeoffs and landings (vtol). high-velocity, high-altitude tests of the booster atmospheric return technology began in late 2013. spacex launched the first commercial mission for a private customer in 2013. in 2014, spacex won nine contracts out of the 20 that were openly competed worldwide. that year arianespace requested that european governments provide additional subsidies to face the competition from spacex. beginning in 2014, spacex capabilities and pricing also began to affect the market for launch of u.s. military payloads, which for nearly a decade had been dominated by the large u.s. launch provider united launch alliance (ula). the monopoly had allowed launch costs by the u.s. provider to rise to over $400 million over the years. in september 2014, nasa awarded spacex the commercial crew transportation capability (cctcap) contract to finalize the development of the crew transportation system. the contract included several technical and certification milestones, an uncrewed flight test, a crewed flight test, and six operational missions after certification. in january 2015, spacex raised $1 billion in funding from google and fidelity, in exchange for 8.33% of the company, establishing the company valuation at approximately $12 billion. the same month spacex announced the development of a new satellite constellation, called starlink, to provide global broadband internet service with 4,000 satellites. the falcon 9 had its first major failure in late june 2015, when the seventh iss resupply mission, crs-7 exploded two minutes into the flight. the problem was traced to a failed 2-foot-long steel strut that held a helium pressure vessel, which broke free due to the force of acceleration. this caused a breach and allowed high-pressure helium to escape into the low-pressure propellant tank, causing the failure. spacex first achieved a successful landing and recovery of a first stage in december 2015 with falcon 9 flight 20. in april 2016, the company achieved the first successful landing on the autonomous spaceport drone ship (asds) of course i still love you in the atlantic ocean. by october 2016, following the successful landings, spacex indicated they were offering their customers a 10% price discount if they choose to fly their payload on a reused falcon 9 first stage. a second major rocket failure happened in early september 2016, when a falcon 9 exploded during a propellant fill operation for a standard pre-launch static fire test. the payload, the amos-6 communications satellite valued at $200 million, was destroyed. the explosion was caused by the liquid oxygen that is used as propellant turning so cold that it solidified and ignited with carbon composite helium vessels. though not considered an unsuccessful flight, the rocket explosion sent the company into a four-month launch hiatus while it worked out what went wrong. spacex returned to flight in january 2017. later that year, in march 2017, spacex launched a returned falcon 9 for the ses-10 satellite. this was the first time a re-launch of a payload-carrying orbital rocket went back to space. the first stage was recovered again, also making it the first landing of a reused orbital class rocket. in july 2017, the company raised $350 million, which raised its valuation to $21 billion. in 2017, spacex achieved a 45% global market share for awarded commercial launch contracts. by march 2018, spacex had more than 100 launches on its manifest representing about $12 billion in contract revenue. the contracts included both commercial and government (nasa/dod) customers. this made spacex the leading global commercial launch provider measured by manifested launches. in 2017, spacex formed a subsidiary, the boring company, and began work to construct a short test tunnel on and adjacent to the spacex headquarters and manufacturing facility, using a small number of spacex employees, which was completed in may 2018, and opened to the public in december 2018. during 2018, the boring company was spun out into a separate corporate entity with 6% of the equity going to spacex, less than 10% to early employees, and the remainder of the equity to elon musk. in january 2019, spacex announced it would lay off 10% of its workforce to help finance the starship and starlink projects. construction of initial prototypes and tests for starship started in early 2019 in florida and texas. all starship construction and testing moved to the new spacex south texas launch site later that year. in may 2019, spacex also launched the first large batch of 60 starlink satellites, beginning to deploy what would become the world\\'s largest commercial satellite constellation the following year. the company raised $1.33 billion of capital across three funding rounds in 2019. by may 2019, the valuation of spacex had risen to $33.3 billion and reached $36 billion by march 2020. a significant milestone was achieved in may 2020, when spacex successfully launched two nasa astronauts (doug hurley and bob behnken) into orbit on a crew dragon spacecraft during crew dragon demo-2, making spacex the first private company to send astronauts to the international space station and marking the first crewed orbital launch from american soil in 9 years. the mission launched from kennedy space center launch complex 39a (lc-39a) of the kennedy space center in florida. on 19 august 2020, after a $1.9 billion funding round, one of the largest single fundraising pushes by any privately held company, spacex\\'s valuation increased to $46 billion. in february 2021, spacex raised an additional $1.61 billion in an equity round from 99 investors at a per share value of approximately $420, raising the company valuation to approximately $74 billion. by 2021, spacex had raised more than $6 billion in equity financing. most of the capital raised since 2019 has been used to support the operational fielding of the starlink satellite constellation and the development and manufacture of the starship launch vehicle. by october 2021, the valuation of spacex had risen to $100.3 billion. on 16 april 2021, starship hls won the contract, and will play a big role in first sustainable lunar base by 2021, spacex had entered into agreements with google cloud platform and microsoft azure to provide on-ground computer and networking services for starlink. a new round of financing in 2022 values spacex at $127 billion. in july 2021, spacex unveiled another drone ship named a shortfall of gravitas, landing a booster from crs-23 on it for the first time on 29 august 2021 within the first 130 days of 2022, spacex had 18 rocket launches and two astronaut splashdowns. most 2022 spacex launches have focused on starlink, a consumer internet business that sends batches of internet-beaming satellites and now has over 2,200 satellites in orbit. on 13 december 2021, company ceo elon musk announced that the company was starting a carbon dioxide removal program that would convert captured carbon into rocket fuel, after he announced a $100 million donation to the x prize foundation the previous february to provide the monetary rewards to winners in a contest to develop the best carbon capture technology. on 16 july 2021 spacex entered an agreement to acquire swarm technologies, a private company building a low earth orbit satellite constellation for communications with internet of things (iot) devices. in august 2022, reuters reported that the european space agency (esa) began initial discussions with spacex that could lead to the company\\'s launchers being used temporarily, given that russia blocked access to soyuz rockets amid the russian invasion of ukraine. in december 2022, the u.s. federal communications commission (fcc) approved to launch up to 7,500 of spacex\\'s next-generation satellites in its starlink internet network. in 2022, spacex\\'s falcon 9 became the world record holder for the most launches of a single vehicle type in a single year. [non-primary source needed] spacex launched a rocket approximately every six days in 2022, with 61 launches in total. all but one (a falcon heavy in november) was on a falcon 9 rocket. on april 20, 2023, starship\\'s first orbital flight test ended in a mid-air explosion over the gulf of mexico before booster separation. after launch, multiple engines in the booster progressively failed, causing the vehicle to reach max q later than planned. eventually, the vehicle lost control and spun erratically during attempted stage separation, eventually activating the automated flight termination system, which intentionally destroyed the rocket. elon musk and spacex have publicly referred to this test flight as a success. spacex has developed three launch vehicles. the small-lift falcon 1 was the first launch vehicle developed and was retired in 2009. the medium-lift falcon 9 and the heavy-lift falcon heavy are both operational. the falcon 1 was a small rocket capable of placing several hundred kilograms into low earth orbit. it launched five times between 2006 and 2009, of which 2 were successful. the falcon 1 was the first privately funded, liquid-fueled rocket to reach orbit. falcon 9 is a medium-lift launch vehicle capable of delivering up to 22,800 kilograms (50,265 lb) to orbit, competing with the delta iv and the atlas v rockets, as well as other launch providers around the world. it has nine merlin engines in its first stage. the falcon 9 v1.0 rocket successfully reached orbit on its first attempt on 4 june 2010. its third flight, cots demo flight 2, launched on 22 may 2012, and launched the first commercial spacecraft to reach and dock with the international space station (iss). the vehicle was upgraded to falcon 9 v1.1 in 2013, falcon 9 full thrust in 2015, and finally to falcon 9 block 5 in 2018. the first stage of falcon 9 is designed to retropropulsively land, be recovered, and reflown. the falcon heavy is a heavy-lift launch vehicle capable of delivering up to 63,800 kg (140,700 lb) to low earth orbit (leo) or 26,700 kg (58,900 lb) to geosynchronous transfer orbit (gto). it uses three slightly modified falcon 9 first stage cores with a total of 27 merlin 1d engines. the falcon heavy successfully flew its inaugural mission on 6 february 2018, launching musk\\'s personal tesla roadster into heliocentric orbit both the falcon 9 and falcon heavy are certified to conduct launches for the national security space launch (nssl). as of 10 may 2023, the falcon 9 and falcon heavy have been launched 228 times, resulting in 226 full mission successes, one partial success, and one in-flight failure. in addition, a falcon 9 experienced a pre-flight failure prior to a static fire test in 2016. since the founding of spacex in 2002, the company has developed several rocket engines – merlin, kestrel, and raptor – for use in launch vehicles, draco for the reaction control system of the dragon series of spacecraft, and superdraco for abort capability in crew dragon. merlin is a family of rocket engines that uses liquid oxygen (lox) and rp-1 propellants. merlin was first used to power the falcon 1\\'s first stage and is now used on both stages of the falcon 9 and falcon heavy vehicles. kestrel uses the same propellants and was used as the falcon 1 rocket\\'s second stage main engine. draco and superdraco are hypergolic liquid-propellant rocket engines. draco engines are used on the reaction control system of the dragon and dragon 2 spacecraft. the superdraco engine is more powerful, and eight superdraco engines provide launch escape capability for crewed dragon 2 spacecraft during an abort scenario. raptor is a new family of liquid oxygen and liquid methane-fueled full-flow staged combustion cycle engines to power the first and second stages of the in-development starship launch system. development versions were test-fired in late 2016, and the engine flew for the first time in 2019, powering the starhopper vehicle to an altitude of 20 m (66 ft). spacex has developed the dragon spacecraft to transport cargo and crew to the international space station. the first version of dragon, used only for cargo, was first launched in 2010. the currently operational second generation dragon spacecraft, known as dragon 2, conducted its first flight, without crew, to the iss in early 2019, followed by a crewed flight of dragon 2 in 2020. the cargo variant of dragon 2 flew for the first time in december 2020, for a resupply to the space station as part of the crs contract with nasa. in march 2020 spacex revealed the dragon xl, designed as a resupply spacecraft for nasa\\'s planned lunar gateway space station under a gateway logistics services (gls) contract. dragon xl is planned to launch on the falcon heavy, and is able to transport over 5,000 kg (11,000 lb) to the gateway. dragon xl will be docked at the gateway for six to twelve months at a time. spacex routinely returns the first stage of falcon 9 and falcon heavy rockets after orbital launches. the rocket flights and land to a predetermined landing site using only its own propulsion systems. when propellent margins do not permit a return to launch site (rtls), rockets return to floating landing platform in the ocean, called autonomous spaceport drone ships (asds). spacex also plans to introduce floating launch platforms. these are modified oil rigs to use in the 2020s to provide a sea launch option for their second-generation launch vehicle: the heavy-lift starship system, consisting of the super heavy booster and starship second stage. spacex has purchased two deepwater oil rigs and are refitting them to support starship launches. spacex is developing a fully reusable super-heavy lift launch system known as starship. it comprises a reusable first stage, called super heavy, and the reusable starship second stage space vehicle. the system is intended to supersede the company\\'s existing launch vehicle hardware by the early 2020s. spacex initially envisioned a 12-meter-diameter its concept in 2016 solely aimed at mars transit and other interplanetary uses. in 2017 it articulated a smaller 9-meter-diameter vehicle to replace all of its launch service provider capabilities – earth-orbit; lunar-orbit; interplanetary missions; and potentially, even intercontinental passenger transport on earth – but do so on a fully reusable set of vehicles with a markedly lower-cost structure. in 2018, the starship system was redesigned to use stainless steel instead of carbon fiber construction, to improve performance while drastically decreasing cost. private passenger yusaku maezawa has contracted to fly around the moon in a starship vehicle in 2023. the company\\'s long-term vision is the development of technology and resources suitable for human colonization of mars. spacex started manufacturing the first prototypes of starship in 2019 at the company\\'s facility in boca chica, texas, later renamed starbase. it is developing starship using iterative design principles, aiming to build and test several prototypes at a fast pace. the first successful suborbital flight and landing of a full starship prototype was achieved in may 2021. starlink is an internet satellite constellation under development by spacex that consists of thousands of cross-linked communications satellites in ~550 km orbits. owned and operated by spacex, its goal is to address the significant unmet demand worldwide for low-cost broadband capabilities. development began in 2015, and initial prototype test-flight satellites were launched on the spacex paz satellite mission in 2017. in may 2019, spacex launched the first batch of 60 satellites aboard a falcon 9. initial test operation of the constellation began in late 2020 and first orders were taken in early 2021. customers were told to expect internet service speeds of 50 mbps to 150 mbps and latency from 20 ms to 40 ms. in december 2022, starlink reached over 1 million subscribers worldwide. the planned large number of starlink satellites has been criticized by astronomers due to concerns over light pollution, with the brightness of starlink satellites in both optical and radio wavelengths interfering with scientific observations. in response, spacex has implemented several upgrades to starlink satellites aimed at reducing their brightness. the large number of satellites employed by starlink also creates long-term dangers of space debris collisions. however, the satellites are equipped with krypton-fueled hall thrusters which allow them to de-orbit at the end of their life. they are also designed to autonomously avoid collisions based on uplinked tracking data. in december 2022, spacex announced starshield, a program to incorporate military or government entity payloads on board a starlink-derived satellite bus. the space development agency is a key customer procuring satellites for a space-based missile defense system. in june 2015, spacex announced that they would sponsor a hyperloop competition, and would build a 1.6 km (0.99 mi) long subscale test track near spacex\\'s headquarters for the competitive events. the company has held the annual competition since 2017. in collaboration with doctors and academic researchers, spacex invited all employees to participate in the creation of a covid-19 antibody-testing program in 2020. as such, 4300 employees volunteered to provide blood-samples resulting in a peer-reviewed scientific paper crediting eight spacex employees as coauthors and suggesting that a certain level of covid-19 antibodies may provide lasting protection against the virus. in july 2018, musk arranged for his employees to build a mini-submarine to assist the rescue of children stuck in a flooded cavern in thailand. richard stanton, leader of the international rescue diving team, urged musk to facilitate the construction of the vehicle as a back-up, in case flooding worsened. engineers at spacex and the boring company built the mini-submarine from a falcon 9 liquid oxygen transfer tube in eight hours and personally delivered it to thailand. by this time, however, eight of the 12 children had already been rescued using full face masks and oxygen under anesthesia; consequently thai authorities declined to use the submarine. spacex is headquartered in hawthorne, california, which also serves as its primary manufacturing plant. the company operates a research and major operation in redmond, washington, owns a test site in texas and operates three launch sites, with another under development. spacex also operates regional offices in texas, virginia, and washington, d.c. spacex was incorporated in the state of delaware. spacex headquarters is located in the los angeles suburb of hawthorne, california. the large three-story facility, originally built by northrop corporation to build boeing 747 fuselages, houses spacex\\'s office space, mission control, and falcon 9 manufacturing facilities. the area has one of the largest concentrations of space sector headquarters, facilities, and/or subsidiaries in the u.s., including boeing/mcdonnell douglas main satellite building campuses, aerospace corp., raytheon, nasa\\'s jet propulsion laboratory, united states space force\\'s space systems command at los angeles air force base, lockheed martin, bae systems, northrop grumman, and aecom, etc., with a large pool of aerospace engineers and recent college engineering graduates. spacex uses a high degree of vertical integration in the production of its rockets and rocket engines. spacex builds its rocket engines, rocket stages, spacecraft, principal avionics and all software in-house in their hawthorne facility, which is unusual for the space industry. in january 2015, spacex announced it would be entering the satellite production business and global satellite internet business. the first satellite facility is a 30,000 sq ft (2,800 m2) office building located in redmond, washington. as of january 2017, a second facility in redmond was acquired with 40,625 sq ft (3,774.2 m2) and has become a research and development laboratory for the satellites. in july 2016, spacex acquired an additional 8,000 sq ft (740 m2) creative space in irvine, california (orange county) to focus on satellite communications. spacex operates its rocket development and test facility in mcgregor, texas. all spacex rocket engines are tested on rocket test stands, and low-altitude vtvl flight testing of the falcon 9 grasshopper in 2012–2013 were carried out at mcgregor. testing of the much larger starship prototypes is conducted in the spacex south texas launch site near brownsville, texas. the company purchased the mcgregor facilities from beal aerospace, where it refitted the largest test stand for falcon 9 engine testing. spacex has made a number of improvements to the facility since its purchase and has also extended the acreage by purchasing several pieces of adjacent farmland. as of october 2012[update], the mcgregor facility had seven test stands that are operated \"18 hours a day, six days a week\" and is building more test stands because production is ramping up and the company has a large manifest in the next several years. in addition to routine testing, dragon capsules (following recovery after an orbital mission), are shipped to mcgregor for de-fueling, cleanup, and refurbishment for reuse in future missions. spacex currently operates three orbital launch sites, at cape canaveral space force station, vandenberg space force base, and kennedy space center, with another under construction near brownsville, texas. spacex has indicated that they see a niche for each of the four orbital facilities and that they have sufficient launch business to fill each pad. the vandenberg launch site enables highly inclined orbits (66–145°), while cape canaveral enables orbits of medium inclination (28.5–51.6°). before it was retired, all falcon 1 launches took place at the ronald reagan ballistic missile defense test site on omelek island. in april 2007 the usaf approved the use of cape canaveral space launch complex 40 (slc-40) by spacex. the site has been used from 2010 for falcon 9 launches, mainly to low earth and geostationary orbits. slc-40 is not capable of supporting falcon heavy launches. as part of spacex\\'s booster reusability program, the former launch complex 13 at cape canaveral, now renamed landing zone 1, has since 2015 been designated for use for falcon 9 first-stage booster landings. vandenberg space launch complex 4 (slc-4e) leased in 2011, is used for payloads to polar orbits. the vandenberg site can launch both falcon 9 and falcon heavy vehicles, but cannot launch to low inclination orbits. the neighboring slc-4w has been converted to landing zone 4 since 2015, where spacex has successfully landed three falcon 9 first-stage boosters, the first in october 2018. on 14 april 2014, spacex signed a 20-year lease for launch complex 39a. the pad was subsequently modified to support falcon 9 and falcon heavy launches. spacex launched its first crewed mission to the iss from launch pad 39a on 30 may 2020. pad 39a has been prepared since 2019 to eventually accommodate starship launches. with delays in launch faa permits for boca chica, the 39a starship preparation was accelerated in 2022. spacex manufactures and flies starship test vehicles from starbase at boca chica, texas, having announced first plans for the launch facility near brownsville, texas in august 2014. the federal aviation administration (faa) issued the permit in july 2014. spacex broke ground on the new launch facility in 2014 with construction ramping up in the latter half of 2015, with the first suborbital launches from the facility in 2019. some residents of boca chica village, brownsville, and environmental activists criticized the site along with starship development program in various aspects. spacex won demonstration and actual supply contracts from nasa for the international space station (iss) with technology the company developed. spacex is also certified for u.s. military launches of evolved expendable launch vehicle-class (eelv) payloads. with approximately thirty missions on the manifest for 2018 alone, spacex represents over $12 billion under contract. in 2006, spacex won a nasa commercial orbital transportation services (cots) phase 1 contract to demonstrate cargo delivery to the international space station (iss), with a possible contract option for crew transport. through this contract, designed by nasa to provide \"seed money\" through space act agreements for developing new capabilities, nasa paid spacex $396 million to develop the cargo configuration of the dragon spacecraft, while spacex developed the falcon 9 launch vehicle with their own resources. these space act agreements have been shown to have saved nasa millions of dollars in development costs, making rocket development 4–10 times cheaper than if produced by nasa alone. in december 2010 the launch of the spacex cots demo flight 1 mission, spacex became the first private company to successfully launch, orbit and recover a spacecraft. dragon successfully berthed with the iss during spacex cots demo flight 2 in may 2012, a first for a private spacecraft. commercial resupply services (crs) are a series of contracts awarded by nasa from 2008 to 2016 for delivery of cargo and supplies to the international space station on commercially operated spacecraft. the first crs contracts were signed in 2008 and awarded $1.6 billion to spacex for 12 cargo transport missions, covering deliveries to 2016. spacex crs-1, the first of the 12 planned resupply missions, launched in october 2012, achieved orbit, berthed and remained on station for 20 days, before re-entering the atmosphere and splashing down in the pacific ocean. crs missions have flown approximately twice a year to the iss since then. in 2015, nasa extended the phase 1 contracts by ordering an additional three resupply flights from spacex, and then extended the contract further for a total of twenty cargo missions to the iss. the final dragon 1 mission, spacex crs-20, departed the iss in april 2020, and dragon was subsequently retired from service. a second phase of contracts was awarded in january 2016 with spacex as one of the awardees. spacex will fly up to nine additional crs flights with the upgraded dragon 2 spacecraft. in march 2020, nasa contracted spacex to develop the dragon xl spacecraft to send supplies to the lunar gateway space station. dragon xl will be launched on a falcon heavy. spacex is responsible for the transportation of nasa astronauts to and from the iss. the nasa contracts started as part of the commercial crew development (ccdev) program, aimed at developing commercially operated spacecraft capable of delivering astronauts to the iss. the first contract was awarded to spacex in 2011, followed by another in 2012 to continue development and testing of its dragon 2 spacecraft. in september 2014, nasa chose spacex and boeing as the two companies that would be funded to develop systems to transport u.s. crews to and from the iss. spacex won $2.6 billion to complete and certify dragon 2 by 2017. the contracts called for at least one crewed flight test with at least one nasa astronaut aboard. once crew dragon received nasa human-spaceflight certification, the contract required spacex to conduct at least two, and as many as six, crewed missions to the space station. spacex completed the first key flight test of its crew dragon spacecraft, a pad abort test, in may 2015, and successfully conducted a full uncrewed test flight in early 2019. the capsule docked to the iss and then splashed down in the atlantic ocean. in january 2020, spacex conducted an in-flight abort test, the last test flight before flying crew, in which the dragon spacecraft fired its launch escape engines in a simulated abort scenario. on 30 may 2020, the crew dragon demo-2 mission was launched to the international space station with nasa astronauts bob behnken and doug hurley, the first time a crewed vehicle had launched from the u.s. since 2011, and the first commercial crewed launch to the iss. the crew-1 mission was successfully launched to the international space station on 16 november 2020, with nasa astronauts michael hopkins, victor glover and shannon walker along with jaxa astronaut soichi noguchi, all members of the expedition 64 crew. on 23 april 2021, crew-2 was launched to the international space station with nasa astronauts shane kimbrough and k. megan mcarthur, jaxa astronaut akihiko hoshide, and esa astronaut thomas pesquet. the crew-2 mission successfully docked on 24 april 2021. spacex also offers paid crewed spaceflights for private individuals. the first of these missions, inspiration4, launched in 2021 on behalf of shift4 payments ceo jared isaacman. the mission launched the crew dragon resilience from the florida kennedy space center\\'s launch complex 39a atop a falcon 9 launch vehicle, placed the dragon capsule into low earth orbit, and ended successfully about three days later, when the resilience splashed down in the atlantic ocean. all four crew members received commercial astronaut training from spacex. the training included lessons in orbital mechanics, operating in a microgravity environment, stress testing, emergency-preparedness training and mission simulations. in 2005, spacex announced that it had been awarded an indefinite delivery/indefinite quantity (idiq) contract, allowing the united states air force to purchase up to $100 million worth of launches from the company. three years later, nasa announced that it had awarded an idiq launch services contract to spacex for up to $1 billion, depending on the number of missions awarded. in december 2012, spacex announced its first two launch contracts with the united states department of defense (dod). the united states air force space and missile systems center awarded spacex two eelv-class missions: deep space climate observatory (dscovr) and space test program 2 (stp-2). dscovr was launched on a falcon 9 launch vehicle in 2015, while stp-2 was launched on a falcon heavy on 25 june 2019. the falcon 9 v1.1 was certified for national security space launch (nssl) in 2015, allowing spacex to contract launch services to the air force for any payloads classified under national security. this broke the monopoly held since 2006 by united launch alliance (ula) over u.s. air force launches of classified payloads. in april 2016, the u.s. air force awarded the first such national security launch to spacex to launch the second gps iii satellite for $82.7 million. this was approximately 40% less than the estimated cost for similar previous missions. spacex also launched the third gps iii launch on 20 june 2020. in march 2018, spacex secured an additional $290 million contract from the u.s. air force to launch another three gps iii satellites. the u.s. national reconnaissance office (nro) also purchased launches from spacex, with the first taking place on 1 may 2017. in february 2019, spacex secured a $297 million contract from the u.s. air force to launch another three national security missions, all slated to launch no earlier than fy 2021. in august 2020, the u.s. space force awarded its national security space launch (nssl) contracts for the following 5–7 years. spacex won a contract for $316 million for one launch. in addition, spacex will handle 40% of the u.s. military\\'s satellite launch requirements over the period. spacex also designs and launches custom military satellites for the space development agency as part of a new missile defense system in low earth orbit. the constellation would give the united states capabilities to sense, target and potentially intercept nuclear missiles and hypersonic weapons launched from anywhere on earth. both china and russia brought concerns to the united nations about the program, and various organizations warn it could be destabilizing and trigger an arms race in space. spacex\\'s low launch prices, especially for communications satellites flying to geostationary transfer orbit (gto), have resulted in market pressure on its competitors to lower their own prices. prior to 2013, the openly competed comsat launch market had been dominated by arianespace (flying the ariane 5) and international launch services (flying the proton). with a published price of $56.5 million per launch to low earth orbit, falcon 9 rockets were the cheapest in the industry. european satellite operators are pushing the esa to reduce launch prices of the ariane 5 and the future ariane 6 rockets as a result of competition from spacex. spacex ended the united launch alliance (ula) monopoly of u.s. military payloads when it began to compete for national security launches. in 2015, anticipating a slump in domestic, military, and spy launches, ula stated that it would go out of business unless it won commercial satellite launch orders. to that end, ula announced a major restructuring of processes and workforce to decrease launch costs by half. congressional testimony by spacex in 2017 suggested that the nasa space act agreement process of \"setting only a high-level requirement for cargo transport to the space station [while] leaving the details to industry\" had allowed spacex to design and develop the falcon 9 rocket on its own at a substantially lower cost. according to nasa\\'s own independently verified numbers, spacex\\'s total development cost for the falcon 9 rocket, including the falcon 1 rocket, was estimated at $390 million. in 2011, nasa estimated that it would have cost the agency about $4 billion to develop a rocket like the falcon 9 booster based upon nasa\\'s traditional contracting processes, about ten times more. in may 2020, nasa administrator jim bridenstine remarked that thanks to nasa\\'s investments into spacex, the united states has 70% of the commercial launch market, a major improvement since 2012 when there were no commercial launches from the country. in november 2022, the company announced coo gwynne shotwell and vice president mark juncosa would oversee starbase, its texas launch facility, along with omead afshar, who at the time oversaw operations for tesla in texas. shyamal patel, who was senior director of operations at the site, would shift to its cape canaveral site. cnbc reported that these executive moves demonstrated \"the sense of urgency within the company to get starship flying.\" according to former nasa deputy administrator lori garver, the company overall has a male-dominated employee culture, similar to that of the spaceflight industry in general. in december 2021, claims of workplace sexual harassment from five former spacex employees, ranging from interns to full engineers, were published. the former employees claimed to have experienced unwanted advances and uncomfortable interactions. additionally, the accounts included claims of a culture of sexual harassment existing at the company and one where complaints made to executives, managers, and human resources officers went largely unaddressed. in may 2022, a business insider article alleged that musk engaged in sexual misconduct with a spacex flight attendant in a private jet in 2016 citing an anonymous friend of the flight attendant. in response, some employees collaborated on an open letter condemning \"elon\\'s harmful twitter behavior\". it also asks the company to clearly define spacex\\'s \"no-asshole\" and \"zero tolerance\" policies, which it says is unequally enforced from one employee to the next. the next day, gwynne shotwell announced that those employees who were involved with the letter had been terminated and claimed that unsponsored, unsolicited surveys were sent to employees during the work day, and that some felt pressured to sign the letter. the company has also been described as having a work culture that pushes employees to work excessively, and was described as fostering a burnout culture. according to a memo by blue origin, spacex expected very long work hours, work on weekends, and limited use of holidays. bundled references '"
      ]
     },
     "execution_count": 6,
     "metadata": {},
     "output_type": "execute_result"
    }
   ],
   "source": [
    "# Demos un vistazo\n",
    "text"
   ]
  },
  {
   "cell_type": "code",
   "execution_count": 7,
   "metadata": {
    "id": "PA5F0s4UsMpf"
   },
   "outputs": [
    {
     "name": "stdout",
     "output_type": "stream",
     "text": [
      "Cantidad de caracteres en el texto: 44728\n"
     ]
    }
   ],
   "source": [
    "print(\"Cantidad de caracteres en el texto:\", len(text))"
   ]
  },
  {
   "attachments": {},
   "cell_type": "markdown",
   "metadata": {
    "id": "DKNcDGcisajf"
   },
   "source": [
    "### 3 - Dividir el texto en sentencias y en palabras"
   ]
  },
  {
   "cell_type": "code",
   "execution_count": 8,
   "metadata": {
    "id": "reXBOFQ7sdlB"
   },
   "outputs": [],
   "source": [
    "corpus = nltk.sent_tokenize(text) # divide en oraciones\n",
    "words = nltk.word_tokenize(text) # divide en términos"
   ]
  },
  {
   "cell_type": "code",
   "execution_count": 9,
   "metadata": {
    "id": "J5GloV9fsi6o"
   },
   "outputs": [
    {
     "data": {
      "text/plain": [
       "[' the space exploration technologies corporation (spacex) is an american spacecraft manufacturer, launcher, and satellite communications corporation headquartered in hawthorne, california.',\n",
       " 'it was founded in 2002 by elon musk with the stated goal of reducing space transportation costs to enable the colonization of mars.',\n",
       " 'the company manufactures the falcon 9, falcon heavy, and starship launch vehicles; several rocket engines; cargo dragon and crew dragon spacecraft; and starlink communications satellites.',\n",
       " 'spacex offers commercial satellite-based internet service via its constellation of starlink satellites, which became the largest-ever satellite constellation in january 2020 and as of december 2022 comprised more than 3,300 small satellites in orbit.',\n",
       " 'the company is also developing starship, a privately funded, fully reusable, super heavy-lift launch system for interplanetary and orbital spaceflight.',\n",
       " \"it is intended to become spacex's primary orbital vehicle, supplanting the existing falcon 9, falcon heavy, and dragon fleet.\",\n",
       " 'in april 2023, the first flight of starship made it the largest and most powerful rocket ever flown; the flight ended in an explosion four minutes after launch.',\n",
       " 'spacex is the first private company to develop a liquid-propellant rocket that has reached orbit; to launch, orbit, and recover a spacecraft; to send a spacecraft to the international space station; and to send astronauts to orbit and to the international space station.',\n",
       " 'it is also the first organization of any type to achieve vertical propulsive landing of an orbital rocket booster and the first to reuse such a booster.',\n",
       " \"spacex's falcon 9 rockets have landed and reflown more than 150 times.\"]"
      ]
     },
     "execution_count": 9,
     "metadata": {},
     "output_type": "execute_result"
    }
   ],
   "source": [
    "# Demos un vistazo\n",
    "corpus[:10]"
   ]
  },
  {
   "cell_type": "code",
   "execution_count": 10,
   "metadata": {
    "id": "hmQ7nkvvsi0i"
   },
   "outputs": [
    {
     "data": {
      "text/plain": [
       "['the',\n",
       " 'space',\n",
       " 'exploration',\n",
       " 'technologies',\n",
       " 'corporation',\n",
       " '(',\n",
       " 'spacex',\n",
       " ')',\n",
       " 'is',\n",
       " 'an',\n",
       " 'american',\n",
       " 'spacecraft',\n",
       " 'manufacturer',\n",
       " ',',\n",
       " 'launcher',\n",
       " ',',\n",
       " 'and',\n",
       " 'satellite',\n",
       " 'communications',\n",
       " 'corporation']"
      ]
     },
     "execution_count": 10,
     "metadata": {},
     "output_type": "execute_result"
    }
   ],
   "source": [
    "# Demos un vistazo\n",
    "words[:20]"
   ]
  },
  {
   "cell_type": "code",
   "execution_count": 11,
   "metadata": {
    "id": "YXPWNkKfEvDZ"
   },
   "outputs": [
    {
     "name": "stdout",
     "output_type": "stream",
     "text": [
      "Vocabulario: 7963\n"
     ]
    }
   ],
   "source": [
    "print(\"Vocabulario:\", len(words))"
   ]
  },
  {
   "attachments": {},
   "cell_type": "markdown",
   "metadata": {
    "id": "NlYKyb3OtDse"
   },
   "source": [
    "### 4 - Funciones de ayuda para limpiar y procesar el input del usuario\n",
    "- Lematizar los tokens de la oración\n",
    "- Quitar símbolos de puntuación"
   ]
  },
  {
   "cell_type": "code",
   "execution_count": 12,
   "metadata": {
    "id": "afPok8pstPOx"
   },
   "outputs": [],
   "source": [
    "from nltk.stem import WordNetLemmatizer\n",
    "lemmatizer = WordNetLemmatizer()\n",
    "\n",
    "def perform_lemmatization(tokens):\n",
    "    return [lemmatizer.lemmatize(token) for token in tokens]\n",
    "\n",
    "# ord() nos da el código Unicode para un caracter dado\n",
    "punctuation_removal = dict((ord(punctuation), None) for punctuation in string.punctuation)\n",
    "\n",
    "def get_processed_text(document):\n",
    "    # 1 - reduce el texto a mínuscula (string.lower())\n",
    "    # 2 - quitar los simbolos de puntuacion (string.translate())\n",
    "    # 3 - realiza la tokenización (nltk.word_tokenize)\n",
    "    # 4 - realiza la lematización (nuestra función perform_lemmatization)\n",
    "    return perform_lemmatization(nltk.word_tokenize(document.lower().translate(punctuation_removal)))"
   ]
  },
  {
   "attachments": {},
   "cell_type": "markdown",
   "metadata": {
    "id": "Jl8r6d9ZuyR9"
   },
   "source": [
    "### 5 - Utilizar vectores TF-IDF y la similitud coseno construido con el corpus del artículo de wikipedia"
   ]
  },
  {
   "cell_type": "code",
   "execution_count": 13,
   "metadata": {
    "id": "IRYFHcBfk2Gt"
   },
   "outputs": [],
   "source": [
    "from sklearn.feature_extraction.text import TfidfVectorizer\n",
    "from sklearn.metrics.pairwise import cosine_similarity\n",
    "\n",
    "def generate_response(user_input, corpus):\n",
    "    response = ''\n",
    "    # Sumar al corpus la pregunta del usuario para calcular\n",
    "    # su cercania con otros documentos/sentencias\n",
    "    # la entrada del usuario se usa para tokenizar y vectorizar\n",
    "    corpus.append(user_input)\n",
    "\n",
    "    # Crear un vectorizar TFIDF que quite las \"stop words\" del ingles y utilice\n",
    "    # nuestra funcion para obtener los tokens lematizados \"get_processed_text\"\n",
    "    word_vectorizer = TfidfVectorizer(tokenizer=get_processed_text, stop_words='english')\n",
    "\n",
    "    # Crear los vectores a partir del corpus\n",
    "    all_word_vectors = word_vectorizer.fit_transform(corpus)\n",
    "\n",
    "    # Calcular la similitud coseno entre todas los documentos excepto el agregado (el útlimo \"-1\")\n",
    "    # NOTA: con los word embedings veremos más en detalle esta matriz de similitud\n",
    "    similar_vector_values = cosine_similarity(all_word_vectors[-1], all_word_vectors)\n",
    "\n",
    "    # Obtener el índice del vector más cercano a nuestra oración\n",
    "    # --> descartando la similitud contra nuestor vector propio\n",
    "    similar_sentence_number = similar_vector_values.argsort()[0][-2]\n",
    "    matched_vector = similar_vector_values.flatten()\n",
    "    matched_vector.sort()\n",
    "    vector_matched = matched_vector[-2]\n",
    "\n",
    "    if vector_matched == 0: # si la similaridad coseno fue nula (ningún término en común)\n",
    "        response = \"I am sorry, I could not understand you\"\n",
    "    else:\n",
    "        response = corpus[similar_sentence_number] # obtener el documento del corpus más similar\n",
    "    \n",
    "    corpus.remove(user_input)\n",
    "    return response"
   ]
  },
  {
   "attachments": {},
   "cell_type": "markdown",
   "metadata": {
    "id": "OK-BuXPBybSp"
   },
   "source": [
    "### 6 - Ensayar el sistema\n",
    "El sistema intentará encontrar la parte del artículo que más se relaciona con nuestro texto de entrada. Sugerencias a ensayar:"
   ]
  },
  {
   "cell_type": "code",
   "execution_count": 14,
   "metadata": {},
   "outputs": [],
   "source": [
    "inputs = [\n",
    "    'Falcon 9',\n",
    "    'Falcon Heavy',\n",
    "    'Grasshopper',\n",
    "    'Boca Chica',\n",
    "    'Merlin',\n",
    "    'BFR',\n",
    "    'MCT',\n",
    "    'Starship',\n",
    "    'Shotwell',\n",
    "    'Muller',\n",
    "    'RTLS',\n",
    "    'Ocean',\n",
    "    'ULA',\n",
    "    'Department of Defense',\n",
    "    'Vandenberg',\n",
    "    'Falcon 1',\n",
    "    'Kestrel',\n",
    "    'Raptor',\n",
    "    'Landing',\n",
    "    'Full Thrust',\n",
    "    'International Space Station',\n",
    "    'Competition',\n",
    "    'Boeing',\n",
    "    'Russia',\n",
    "    'Europe',\n",
    "    'Launch',\n",
    "    'Starlink',\n",
    "    'Orbit'\n",
    "]"
   ]
  },
  {
   "cell_type": "code",
   "execution_count": 15,
   "metadata": {
    "id": "Z2X4j8XyydSb"
   },
   "outputs": [
    {
     "name": "stdout",
     "output_type": "stream",
     "text": [
      "Requirement already satisfied: gradio in /home/rafael/miniconda3/envs/ceia_nlp/lib/python3.10/site-packages (3.30.0)\n",
      "Requirement already satisfied: websockets>=10.0 in /home/rafael/miniconda3/envs/ceia_nlp/lib/python3.10/site-packages (from gradio) (11.0.3)\n",
      "Requirement already satisfied: numpy in /home/rafael/.local/lib/python3.10/site-packages (from gradio) (1.23.4)\n",
      "Requirement already satisfied: markdown-it-py[linkify]>=2.0.0 in /home/rafael/miniconda3/envs/ceia_nlp/lib/python3.10/site-packages (from gradio) (2.2.0)\n",
      "Requirement already satisfied: gradio-client>=0.2.4 in /home/rafael/miniconda3/envs/ceia_nlp/lib/python3.10/site-packages (from gradio) (0.2.4)\n",
      "Requirement already satisfied: pandas in /home/rafael/.local/lib/python3.10/site-packages (from gradio) (1.5.1)\n",
      "Requirement already satisfied: requests in /home/rafael/miniconda3/envs/ceia_nlp/lib/python3.10/site-packages (from gradio) (2.30.0)\n",
      "Requirement already satisfied: fastapi in /home/rafael/miniconda3/envs/ceia_nlp/lib/python3.10/site-packages (from gradio) (0.95.1)\n",
      "Requirement already satisfied: ffmpy in /home/rafael/miniconda3/envs/ceia_nlp/lib/python3.10/site-packages (from gradio) (0.3.0)\n",
      "Requirement already satisfied: semantic-version in /home/rafael/miniconda3/envs/ceia_nlp/lib/python3.10/site-packages (from gradio) (2.10.0)\n",
      "Requirement already satisfied: aiofiles in /home/rafael/miniconda3/envs/ceia_nlp/lib/python3.10/site-packages (from gradio) (23.1.0)\n",
      "Requirement already satisfied: orjson in /home/rafael/miniconda3/envs/ceia_nlp/lib/python3.10/site-packages (from gradio) (3.8.12)\n",
      "Requirement already satisfied: httpx in /home/rafael/miniconda3/envs/ceia_nlp/lib/python3.10/site-packages (from gradio) (0.24.0)\n",
      "Requirement already satisfied: markupsafe in /home/rafael/.local/lib/python3.10/site-packages (from gradio) (2.1.1)\n",
      "Requirement already satisfied: typing-extensions in /home/rafael/.local/lib/python3.10/site-packages (from gradio) (4.4.0)\n",
      "Requirement already satisfied: pillow in /home/rafael/.local/lib/python3.10/site-packages (from gradio) (9.3.0)\n",
      "Requirement already satisfied: huggingface-hub>=0.13.0 in /home/rafael/miniconda3/envs/ceia_nlp/lib/python3.10/site-packages (from gradio) (0.14.1)\n",
      "Requirement already satisfied: pydantic in /home/rafael/miniconda3/envs/ceia_nlp/lib/python3.10/site-packages (from gradio) (1.10.7)\n",
      "Requirement already satisfied: pygments>=2.12.0 in /home/rafael/miniconda3/envs/ceia_nlp/lib/python3.10/site-packages (from gradio) (2.15.1)\n",
      "Requirement already satisfied: jinja2 in /home/rafael/miniconda3/envs/ceia_nlp/lib/python3.10/site-packages (from gradio) (3.1.2)\n",
      "Requirement already satisfied: altair>=4.2.0 in /home/rafael/miniconda3/envs/ceia_nlp/lib/python3.10/site-packages (from gradio) (5.0.0)\n",
      "Requirement already satisfied: mdit-py-plugins<=0.3.3 in /home/rafael/miniconda3/envs/ceia_nlp/lib/python3.10/site-packages (from gradio) (0.3.3)\n",
      "Requirement already satisfied: aiohttp in /home/rafael/miniconda3/envs/ceia_nlp/lib/python3.10/site-packages (from gradio) (3.8.4)\n",
      "Requirement already satisfied: pyyaml in /home/rafael/miniconda3/envs/ceia_nlp/lib/python3.10/site-packages (from gradio) (6.0)\n",
      "Requirement already satisfied: pydub in /home/rafael/miniconda3/envs/ceia_nlp/lib/python3.10/site-packages (from gradio) (0.25.1)\n",
      "Requirement already satisfied: uvicorn>=0.14.0 in /home/rafael/miniconda3/envs/ceia_nlp/lib/python3.10/site-packages (from gradio) (0.22.0)\n",
      "Requirement already satisfied: python-multipart in /home/rafael/miniconda3/envs/ceia_nlp/lib/python3.10/site-packages (from gradio) (0.0.6)\n",
      "Requirement already satisfied: matplotlib in /home/rafael/.local/lib/python3.10/site-packages (from gradio) (3.6.2)\n",
      "Requirement already satisfied: jsonschema>=3.0 in /home/rafael/miniconda3/envs/ceia_nlp/lib/python3.10/site-packages (from altair>=4.2.0->gradio) (4.17.3)\n",
      "Requirement already satisfied: toolz in /home/rafael/miniconda3/envs/ceia_nlp/lib/python3.10/site-packages (from altair>=4.2.0->gradio) (0.12.0)\n",
      "Requirement already satisfied: fsspec in /home/rafael/miniconda3/envs/ceia_nlp/lib/python3.10/site-packages (from gradio-client>=0.2.4->gradio) (2023.5.0)\n",
      "Requirement already satisfied: packaging in /home/rafael/.local/lib/python3.10/site-packages (from gradio-client>=0.2.4->gradio) (21.3)\n",
      "Requirement already satisfied: tqdm>=4.42.1 in /home/rafael/miniconda3/envs/ceia_nlp/lib/python3.10/site-packages (from huggingface-hub>=0.13.0->gradio) (4.65.0)\n",
      "Requirement already satisfied: filelock in /home/rafael/miniconda3/envs/ceia_nlp/lib/python3.10/site-packages (from huggingface-hub>=0.13.0->gradio) (3.12.0)\n",
      "Requirement already satisfied: mdurl~=0.1 in /home/rafael/miniconda3/envs/ceia_nlp/lib/python3.10/site-packages (from markdown-it-py[linkify]>=2.0.0->gradio) (0.1.2)\n",
      "Requirement already satisfied: linkify-it-py<3,>=1 in /home/rafael/miniconda3/envs/ceia_nlp/lib/python3.10/site-packages (from markdown-it-py[linkify]>=2.0.0->gradio) (2.0.2)\n",
      "Requirement already satisfied: python-dateutil>=2.8.1 in /home/rafael/.local/lib/python3.10/site-packages (from pandas->gradio) (2.8.2)\n",
      "Requirement already satisfied: pytz>=2020.1 in /home/rafael/miniconda3/envs/ceia_nlp/lib/python3.10/site-packages (from pandas->gradio) (2023.3)\n",
      "Requirement already satisfied: click>=7.0 in /home/rafael/miniconda3/envs/ceia_nlp/lib/python3.10/site-packages (from uvicorn>=0.14.0->gradio) (8.1.3)\n",
      "Requirement already satisfied: h11>=0.8 in /home/rafael/miniconda3/envs/ceia_nlp/lib/python3.10/site-packages (from uvicorn>=0.14.0->gradio) (0.14.0)\n",
      "Requirement already satisfied: frozenlist>=1.1.1 in /home/rafael/miniconda3/envs/ceia_nlp/lib/python3.10/site-packages (from aiohttp->gradio) (1.3.3)\n",
      "Requirement already satisfied: multidict<7.0,>=4.5 in /home/rafael/miniconda3/envs/ceia_nlp/lib/python3.10/site-packages (from aiohttp->gradio) (6.0.4)\n",
      "Requirement already satisfied: charset-normalizer<4.0,>=2.0 in /home/rafael/miniconda3/envs/ceia_nlp/lib/python3.10/site-packages (from aiohttp->gradio) (3.1.0)\n",
      "Requirement already satisfied: async-timeout<5.0,>=4.0.0a3 in /home/rafael/miniconda3/envs/ceia_nlp/lib/python3.10/site-packages (from aiohttp->gradio) (4.0.2)\n",
      "Requirement already satisfied: yarl<2.0,>=1.0 in /home/rafael/miniconda3/envs/ceia_nlp/lib/python3.10/site-packages (from aiohttp->gradio) (1.9.2)\n",
      "Requirement already satisfied: attrs>=17.3.0 in /home/rafael/miniconda3/envs/ceia_nlp/lib/python3.10/site-packages (from aiohttp->gradio) (23.1.0)\n",
      "Requirement already satisfied: aiosignal>=1.1.2 in /home/rafael/miniconda3/envs/ceia_nlp/lib/python3.10/site-packages (from aiohttp->gradio) (1.3.1)\n",
      "Requirement already satisfied: starlette<0.27.0,>=0.26.1 in /home/rafael/miniconda3/envs/ceia_nlp/lib/python3.10/site-packages (from fastapi->gradio) (0.26.1)\n",
      "Requirement already satisfied: certifi in /home/rafael/miniconda3/envs/ceia_nlp/lib/python3.10/site-packages (from httpx->gradio) (2023.5.7)\n",
      "Requirement already satisfied: idna in /home/rafael/miniconda3/envs/ceia_nlp/lib/python3.10/site-packages (from httpx->gradio) (3.4)\n",
      "Requirement already satisfied: httpcore<0.18.0,>=0.15.0 in /home/rafael/miniconda3/envs/ceia_nlp/lib/python3.10/site-packages (from httpx->gradio) (0.17.0)\n",
      "Requirement already satisfied: sniffio in /home/rafael/miniconda3/envs/ceia_nlp/lib/python3.10/site-packages (from httpx->gradio) (1.3.0)\n",
      "Requirement already satisfied: cycler>=0.10 in /home/rafael/.local/lib/python3.10/site-packages (from matplotlib->gradio) (0.11.0)\n",
      "Requirement already satisfied: contourpy>=1.0.1 in /home/rafael/.local/lib/python3.10/site-packages (from matplotlib->gradio) (1.0.6)\n",
      "Requirement already satisfied: kiwisolver>=1.0.1 in /home/rafael/.local/lib/python3.10/site-packages (from matplotlib->gradio) (1.4.4)\n",
      "Requirement already satisfied: pyparsing>=2.2.1 in /home/rafael/miniconda3/envs/ceia_nlp/lib/python3.10/site-packages (from matplotlib->gradio) (3.0.9)\n",
      "Requirement already satisfied: fonttools>=4.22.0 in /home/rafael/.local/lib/python3.10/site-packages (from matplotlib->gradio) (4.38.0)\n",
      "Requirement already satisfied: urllib3<3,>=1.21.1 in /home/rafael/miniconda3/envs/ceia_nlp/lib/python3.10/site-packages (from requests->gradio) (2.0.2)\n",
      "Requirement already satisfied: anyio<5.0,>=3.0 in /home/rafael/miniconda3/envs/ceia_nlp/lib/python3.10/site-packages (from httpcore<0.18.0,>=0.15.0->httpx->gradio) (3.6.2)\n",
      "Requirement already satisfied: pyrsistent!=0.17.0,!=0.17.1,!=0.17.2,>=0.14.0 in /home/rafael/miniconda3/envs/ceia_nlp/lib/python3.10/site-packages (from jsonschema>=3.0->altair>=4.2.0->gradio) (0.19.3)\n",
      "Requirement already satisfied: uc-micro-py in /home/rafael/miniconda3/envs/ceia_nlp/lib/python3.10/site-packages (from linkify-it-py<3,>=1->markdown-it-py[linkify]>=2.0.0->gradio) (1.0.2)\n",
      "Requirement already satisfied: six>=1.5 in /home/rafael/miniconda3/envs/ceia_nlp/lib/python3.10/site-packages (from python-dateutil>=2.8.1->pandas->gradio) (1.16.0)\n"
     ]
    }
   ],
   "source": [
    "# Se utilizará gradio para ensayar el bot\n",
    "# Herramienta poderosa para crear interfaces rápidas para ensayar modelos\n",
    "# https://gradio.app/\n",
    "import sys\n",
    "!{sys.executable} -m pip install gradio"
   ]
  },
  {
   "cell_type": "code",
   "execution_count": 16,
   "metadata": {},
   "outputs": [
    {
     "name": "stdout",
     "output_type": "stream",
     "text": [
      "Input: Falcon 9\n"
     ]
    },
    {
     "name": "stderr",
     "output_type": "stream",
     "text": [
      "/home/rafael/miniconda3/envs/ceia_nlp/lib/python3.10/site-packages/sklearn/feature_extraction/text.py:528: UserWarning: The parameter 'token_pattern' will not be used since 'tokenizer' is not None'\n",
      "  warnings.warn(\n",
      "/home/rafael/miniconda3/envs/ceia_nlp/lib/python3.10/site-packages/sklearn/feature_extraction/text.py:409: UserWarning: Your stop_words may be inconsistent with your preprocessing. Tokenizing the stop words generated tokens ['ha', 'le', 'u', 'wa'] not in stop_words.\n",
      "  warnings.warn(\n"
     ]
    },
    {
     "name": "stdout",
     "output_type": "stream",
     "text": [
      "Output: the vehicle was upgraded to falcon 9 v1.1 in 2013, falcon 9 full thrust in 2015, and finally to falcon 9 block 5 in 2018. the first stage of falcon 9 is designed to retropropulsively land, be recovered, and reflown.\n",
      "\n",
      "Input: Falcon Heavy\n",
      "Output: all but one (a falcon heavy in november) was on a falcon 9 rocket.\n",
      "\n",
      "Input: Grasshopper\n",
      "Output: all spacex rocket engines are tested on rocket test stands, and low-altitude vtvl flight testing of the falcon 9 grasshopper in 2012–2013 were carried out at mcgregor.\n",
      "\n",
      "Input: Boca Chica\n",
      "Output: spacex started manufacturing the first prototypes of starship in 2019 at the company's facility in boca chica, texas, later renamed starbase.\n",
      "\n",
      "Input: Merlin\n",
      "Output: it has nine merlin engines in its first stage.\n",
      "\n",
      "Input: BFR\n",
      "Output: I am sorry, I could not understand you\n",
      "\n",
      "Input: MCT\n",
      "Output: I am sorry, I could not understand you\n",
      "\n",
      "Input: Starship\n",
      "Output: these are modified oil rigs to use in the 2020s to provide a sea launch option for their second-generation launch vehicle: the heavy-lift starship system, consisting of the super heavy booster and starship second stage.\n",
      "\n",
      "Input: Shotwell\n",
      "Output: in november 2022, the company announced coo gwynne shotwell and vice president mark juncosa would oversee starbase, its texas launch facility, along with omead afshar, who at the time oversaw operations for tesla in texas.\n",
      "\n",
      "Input: Muller\n",
      "Output: I am sorry, I could not understand you\n",
      "\n",
      "Input: RTLS\n",
      "Output: when propellent margins do not permit a return to launch site (rtls), rockets return to floating landing platform in the ocean, called autonomous spaceport drone ships (asds).\n",
      "\n",
      "Input: Ocean\n",
      "Output: when propellent margins do not permit a return to launch site (rtls), rockets return to floating landing platform in the ocean, called autonomous spaceport drone ships (asds).\n",
      "\n",
      "Input: ULA\n",
      "Output: to that end, ula announced a major restructuring of processes and workforce to decrease launch costs by half.\n",
      "\n",
      "Input: Department of Defense\n",
      "Output: in december 2012, spacex announced its first two launch contracts with the united states department of defense (dod).\n",
      "\n",
      "Input: Vandenberg\n",
      "Output: the vandenberg site can launch both falcon 9 and falcon heavy vehicles, but cannot launch to low inclination orbits.\n",
      "\n",
      "Input: Falcon 1\n",
      "Output: merlin was first used to power the falcon 1's first stage and is now used on both stages of the falcon 9 and falcon heavy vehicles.\n",
      "\n",
      "Input: Kestrel\n",
      "Output: kestrel uses the same propellants and was used as the falcon 1 rocket's second stage main engine.\n",
      "\n",
      "Input: Raptor\n",
      "Output: raptor is a new family of liquid oxygen and liquid methane-fueled full-flow staged combustion cycle engines to power the first and second stages of the in-development starship launch system.\n",
      "\n",
      "Input: Landing\n",
      "Output: as part of spacex's booster reusability program, the former launch complex 13 at cape canaveral, now renamed landing zone 1, has since 2015 been designated for use for falcon 9 first-stage booster landings.\n",
      "\n",
      "Input: Full Thrust\n",
      "Output: the vehicle was upgraded to falcon 9 v1.1 in 2013, falcon 9 full thrust in 2015, and finally to falcon 9 block 5 in 2018. the first stage of falcon 9 is designed to retropropulsively land, be recovered, and reflown.\n",
      "\n",
      "Input: International Space Station\n",
      "Output: spacex has developed the dragon spacecraft to transport cargo and crew to the international space station.\n",
      "\n",
      "Input: Competition\n",
      "Output: that year arianespace requested that european governments provide additional subsidies to face the competition from spacex.\n",
      "\n",
      "Input: Boeing\n",
      "Output: in september 2014, nasa chose spacex and boeing as the two companies that would be funded to develop systems to transport u.s. crews to and from the iss.\n",
      "\n",
      "Input: Russia\n",
      "Output: both china and russia brought concerns to the united nations about the program, and various organizations warn it could be destabilizing and trigger an arms race in space.\n",
      "\n",
      "Input: Europe\n",
      "Output: I am sorry, I could not understand you\n",
      "\n",
      "Input: Launch\n",
      "Output: the vandenberg site can launch both falcon 9 and falcon heavy vehicles, but cannot launch to low inclination orbits.\n",
      "\n",
      "Input: Starlink\n",
      "Output: the planned large number of starlink satellites has been criticized by astronomers due to concerns over light pollution, with the brightness of starlink satellites in both optical and radio wavelengths interfering with scientific observations.\n",
      "\n",
      "Input: Orbit\n",
      "Output: spacex is the first private company to develop a liquid-propellant rocket that has reached orbit; to launch, orbit, and recover a spacecraft; to send a spacecraft to the international space station; and to send astronauts to orbit and to the international space station.\n",
      "\n"
     ]
    }
   ],
   "source": [
    "for input in inputs:\n",
    "    print(f\"Input: {input}\")\n",
    "    print(f\"Output: {generate_response(input.lower(), corpus)}\")\n",
    "    print()"
   ]
  },
  {
   "attachments": {},
   "cell_type": "markdown",
   "metadata": {},
   "source": [
    "### Alumno"
   ]
  },
  {
   "attachments": {},
   "cell_type": "markdown",
   "metadata": {},
   "source": [
    "- Tomar un ejemplo de los bots utilizados (uno de los dos) y construir el propio.\n",
    "- Sacar conclusiones de los resultados.\n",
    "\n",
    "__IMPORTANTE__: Recuerde para la entrega del ejercicio debe quedar registrado en el colab las preguntas y las respuestas del BOT para que podamos evaluar el desempeño final."
   ]
  },
  {
   "attachments": {},
   "cell_type": "markdown",
   "metadata": {},
   "source": [
    "Conclusión: Este método es simple y rápido de entrenar y funciona bien para buscar sugerencias o términos básicos en un texto, pero las respuestas a menudo no son las mejores disponibles en el texto y este bot no tiene capacidad de generalización. Solo repite lo que está en el texto original."
   ]
  },
  {
   "attachments": {},
   "cell_type": "markdown",
   "metadata": {},
   "source": []
  }
 ],
 "metadata": {
  "colab": {
   "collapsed_sections": [],
   "name": "2c - bot_tfidf_nltk.ipynb",
   "provenance": []
  },
  "kernelspec": {
   "display_name": "Python 3",
   "language": "python",
   "name": "python3"
  },
  "language_info": {
   "codemirror_mode": {
    "name": "ipython",
    "version": 3
   },
   "file_extension": ".py",
   "mimetype": "text/x-python",
   "name": "python",
   "nbconvert_exporter": "python",
   "pygments_lexer": "ipython3",
   "version": "3.10.11"
  }
 },
 "nbformat": 4,
 "nbformat_minor": 4
}
