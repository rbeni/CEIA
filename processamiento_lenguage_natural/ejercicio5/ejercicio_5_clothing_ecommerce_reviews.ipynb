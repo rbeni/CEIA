{
  "cells": [
    {
      "attachments": {},
      "cell_type": "markdown",
      "metadata": {
        "id": "kBLpTr7plguX"
      },
      "source": [
        "<img src=\"https://github.com/hernancontigiani/ceia_memorias_especializacion/raw/master/Figures/logoFIUBA.jpg\" width=\"500\" align=\"center\">\n",
        "\n",
        "\n",
        "# Procesamiento de lenguaje natural\n",
        "## Sentiment analysis con Embeddings + LSTM"
      ]
    },
    {
      "attachments": {},
      "cell_type": "markdown",
      "metadata": {
        "id": "9W6nuajhlqZD"
      },
      "source": [
        "### Objetivo\n",
        "El objetivo es utilizar las críticas de compradores de ropa para que el sistema determine la evaluación del comprador y su crítica (cuantas estrellas le asigna al producto)."
      ]
    },
    {
      "cell_type": "code",
      "execution_count": 1,
      "metadata": {
        "id": "i6zvzv3qZ6xS"
      },
      "outputs": [],
      "source": [
        "!pip install --upgrade --no-cache-dir gdown --quiet"
      ]
    },
    {
      "cell_type": "code",
      "execution_count": 3,
      "metadata": {
        "id": "hCpOVzJdl8_p"
      },
      "outputs": [],
      "source": [
        "import numpy as np\n",
        "import random\n",
        "import io\n",
        "import pickle\n",
        "import pandas as pd\n",
        "\n",
        "import matplotlib.pyplot as plt\n",
        "import seaborn as sns\n",
        "\n",
        "import tensorflow as tf\n",
        "from tensorflow import keras\n",
        "from tensorflow.keras import layers\n",
        "\n",
        "from keras.utils.np_utils import to_categorical\n",
        "#from tensorflow.keras.utils import pad_sequences\n",
        "from keras_preprocessing.sequence import pad_sequences\n",
        "from keras.models import Sequential\n",
        "from keras.layers import Dense\n",
        "from keras.layers import LSTM\n",
        "from keras.layers import Embedding"
      ]
    },
    {
      "attachments": {},
      "cell_type": "markdown",
      "metadata": {
        "id": "8UPeRkrAmbF3"
      },
      "source": [
        "### Datos\n",
        "Utilizaremos como dataset críticas de compradores de ropa (eCommerce) los cuales puntuaron a cada prenda con un puntaje de 1 a 5 estrellas.\\\n",
        "Referencia del dataset: [LINK](https://www.kaggle.com/nicapotato/womens-ecommerce-clothing-reviews/version/1)"
      ]
    },
    {
      "cell_type": "code",
      "execution_count": null,
      "metadata": {
        "colab": {
          "base_uri": "https://localhost:8080/"
        },
        "id": "C7jLvTU3lSyL",
        "outputId": "50e76c89-0f9e-42d6-b1cf-76a9b9690c87"
      },
      "outputs": [],
      "source": [
        "# Descargar la carpeta de dataset\n",
        "import os\n",
        "import gdown\n",
        "if os.access('clothing_ecommerce_reviews.csv', os.F_OK) is False:\n",
        "    url = 'https://drive.google.com/uc?id=1Urn1UFSrodN5BuW6-sc_igtaySGRwhV8'\n",
        "    output = 'clothing_ecommerce_reviews.csv'\n",
        "    gdown.download(url, output, quiet=False)\n",
        "else:\n",
        "    print(\"El dataset ya se encuentra descargado\")"
      ]
    },
    {
      "cell_type": "code",
      "execution_count": 5,
      "metadata": {
        "colab": {
          "base_uri": "https://localhost:8080/",
          "height": 206
        },
        "id": "o-SV1P3dnD1J",
        "outputId": "8cb838b3-ff42-431e-f740-a82b0202152c"
      },
      "outputs": [
        {
          "data": {
            "text/html": [
              "<div>\n",
              "<style scoped>\n",
              "    .dataframe tbody tr th:only-of-type {\n",
              "        vertical-align: middle;\n",
              "    }\n",
              "\n",
              "    .dataframe tbody tr th {\n",
              "        vertical-align: top;\n",
              "    }\n",
              "\n",
              "    .dataframe thead th {\n",
              "        text-align: right;\n",
              "    }\n",
              "</style>\n",
              "<table border=\"1\" class=\"dataframe\">\n",
              "  <thead>\n",
              "    <tr style=\"text-align: right;\">\n",
              "      <th></th>\n",
              "      <th>Clothing ID</th>\n",
              "      <th>Age</th>\n",
              "      <th>Title</th>\n",
              "      <th>Review Text</th>\n",
              "      <th>Rating</th>\n",
              "      <th>Recommended IND</th>\n",
              "      <th>Positive Feedback Count</th>\n",
              "      <th>Division Name</th>\n",
              "      <th>Department Name</th>\n",
              "      <th>Class Name</th>\n",
              "    </tr>\n",
              "  </thead>\n",
              "  <tbody>\n",
              "    <tr>\n",
              "      <th>0</th>\n",
              "      <td>767</td>\n",
              "      <td>33</td>\n",
              "      <td>NaN</td>\n",
              "      <td>Absolutely wonderful - silky and sexy and comf...</td>\n",
              "      <td>4</td>\n",
              "      <td>1</td>\n",
              "      <td>0</td>\n",
              "      <td>Initmates</td>\n",
              "      <td>Intimate</td>\n",
              "      <td>Intimates</td>\n",
              "    </tr>\n",
              "    <tr>\n",
              "      <th>1</th>\n",
              "      <td>1080</td>\n",
              "      <td>34</td>\n",
              "      <td>NaN</td>\n",
              "      <td>Love this dress!  it's sooo pretty.  i happene...</td>\n",
              "      <td>5</td>\n",
              "      <td>1</td>\n",
              "      <td>4</td>\n",
              "      <td>General</td>\n",
              "      <td>Dresses</td>\n",
              "      <td>Dresses</td>\n",
              "    </tr>\n",
              "    <tr>\n",
              "      <th>2</th>\n",
              "      <td>1077</td>\n",
              "      <td>60</td>\n",
              "      <td>Some major design flaws</td>\n",
              "      <td>I had such high hopes for this dress and reall...</td>\n",
              "      <td>3</td>\n",
              "      <td>0</td>\n",
              "      <td>0</td>\n",
              "      <td>General</td>\n",
              "      <td>Dresses</td>\n",
              "      <td>Dresses</td>\n",
              "    </tr>\n",
              "    <tr>\n",
              "      <th>3</th>\n",
              "      <td>1049</td>\n",
              "      <td>50</td>\n",
              "      <td>My favorite buy!</td>\n",
              "      <td>I love, love, love this jumpsuit. it's fun, fl...</td>\n",
              "      <td>5</td>\n",
              "      <td>1</td>\n",
              "      <td>0</td>\n",
              "      <td>General Petite</td>\n",
              "      <td>Bottoms</td>\n",
              "      <td>Pants</td>\n",
              "    </tr>\n",
              "    <tr>\n",
              "      <th>4</th>\n",
              "      <td>847</td>\n",
              "      <td>47</td>\n",
              "      <td>Flattering shirt</td>\n",
              "      <td>This shirt is very flattering to all due to th...</td>\n",
              "      <td>5</td>\n",
              "      <td>1</td>\n",
              "      <td>6</td>\n",
              "      <td>General</td>\n",
              "      <td>Tops</td>\n",
              "      <td>Blouses</td>\n",
              "    </tr>\n",
              "  </tbody>\n",
              "</table>\n",
              "</div>"
            ],
            "text/plain": [
              "   Clothing ID  Age                    Title  \\\n",
              "0          767   33                      NaN   \n",
              "1         1080   34                      NaN   \n",
              "2         1077   60  Some major design flaws   \n",
              "3         1049   50         My favorite buy!   \n",
              "4          847   47         Flattering shirt   \n",
              "\n",
              "                                         Review Text  Rating  Recommended IND  \\\n",
              "0  Absolutely wonderful - silky and sexy and comf...       4                1   \n",
              "1  Love this dress!  it's sooo pretty.  i happene...       5                1   \n",
              "2  I had such high hopes for this dress and reall...       3                0   \n",
              "3  I love, love, love this jumpsuit. it's fun, fl...       5                1   \n",
              "4  This shirt is very flattering to all due to th...       5                1   \n",
              "\n",
              "   Positive Feedback Count   Division Name Department Name Class Name  \n",
              "0                        0       Initmates        Intimate  Intimates  \n",
              "1                        4         General         Dresses    Dresses  \n",
              "2                        0         General         Dresses    Dresses  \n",
              "3                        0  General Petite         Bottoms      Pants  \n",
              "4                        6         General            Tops    Blouses  "
            ]
          },
          "execution_count": 5,
          "metadata": {},
          "output_type": "execute_result"
        }
      ],
      "source": [
        "# Armar el dataset\n",
        "df = pd.read_csv('clothing_ecommerce_reviews.csv')\n",
        "df.drop(columns = ['Unnamed: 0'], inplace = True)\n",
        "df.head()"
      ]
    },
    {
      "attachments": {},
      "cell_type": "markdown",
      "metadata": {
        "id": "q-OwSePKm-FK"
      },
      "source": [
        "### 1 - Limpieza de datos\n",
        "Alumno:\n",
        "- Del dataset unicamente utilizar las columnas \"Review Text\" y \"Rating.\n",
        "- Tranformar el rating 1-5 a una escala numérica de 0 a 4.\n",
        "\n"
      ]
    },
    {
      "cell_type": "code",
      "execution_count": 6,
      "metadata": {
        "colab": {
          "base_uri": "https://localhost:8080/",
          "height": 206
        },
        "id": "-hc7-AmYnPC3",
        "outputId": "579b8731-2a74-4096-88f0-5aea81168deb"
      },
      "outputs": [
        {
          "data": {
            "text/html": [
              "<div>\n",
              "<style scoped>\n",
              "    .dataframe tbody tr th:only-of-type {\n",
              "        vertical-align: middle;\n",
              "    }\n",
              "\n",
              "    .dataframe tbody tr th {\n",
              "        vertical-align: top;\n",
              "    }\n",
              "\n",
              "    .dataframe thead th {\n",
              "        text-align: right;\n",
              "    }\n",
              "</style>\n",
              "<table border=\"1\" class=\"dataframe\">\n",
              "  <thead>\n",
              "    <tr style=\"text-align: right;\">\n",
              "      <th></th>\n",
              "      <th>Review Text</th>\n",
              "      <th>Rating</th>\n",
              "    </tr>\n",
              "  </thead>\n",
              "  <tbody>\n",
              "    <tr>\n",
              "      <th>0</th>\n",
              "      <td>Absolutely wonderful - silky and sexy and comf...</td>\n",
              "      <td>3</td>\n",
              "    </tr>\n",
              "    <tr>\n",
              "      <th>1</th>\n",
              "      <td>Love this dress!  it's sooo pretty.  i happene...</td>\n",
              "      <td>4</td>\n",
              "    </tr>\n",
              "    <tr>\n",
              "      <th>2</th>\n",
              "      <td>I had such high hopes for this dress and reall...</td>\n",
              "      <td>2</td>\n",
              "    </tr>\n",
              "    <tr>\n",
              "      <th>3</th>\n",
              "      <td>I love, love, love this jumpsuit. it's fun, fl...</td>\n",
              "      <td>4</td>\n",
              "    </tr>\n",
              "    <tr>\n",
              "      <th>4</th>\n",
              "      <td>This shirt is very flattering to all due to th...</td>\n",
              "      <td>4</td>\n",
              "    </tr>\n",
              "  </tbody>\n",
              "</table>\n",
              "</div>"
            ],
            "text/plain": [
              "                                         Review Text  Rating\n",
              "0  Absolutely wonderful - silky and sexy and comf...       3\n",
              "1  Love this dress!  it's sooo pretty.  i happene...       4\n",
              "2  I had such high hopes for this dress and reall...       2\n",
              "3  I love, love, love this jumpsuit. it's fun, fl...       4\n",
              "4  This shirt is very flattering to all due to th...       4"
            ]
          },
          "execution_count": 6,
          "metadata": {},
          "output_type": "execute_result"
        }
      ],
      "source": [
        "df_reviews = df.loc[:, ['Review Text', 'Rating']].dropna()\n",
        "df_reviews['Rating'] = df_reviews['Rating'] - 1\n",
        "df_reviews.head()"
      ]
    },
    {
      "cell_type": "code",
      "execution_count": 7,
      "metadata": {
        "colab": {
          "base_uri": "https://localhost:8080/"
        },
        "id": "sZtvASVOn3ty",
        "outputId": "c86d8d03-9fdf-47a3-c1f5-cd087a4192be"
      },
      "outputs": [
        {
          "data": {
            "text/plain": [
              "4    12540\n",
              "3     4908\n",
              "2     2823\n",
              "1     1549\n",
              "0      821\n",
              "Name: Rating, dtype: int64"
            ]
          },
          "execution_count": 7,
          "metadata": {},
          "output_type": "execute_result"
        }
      ],
      "source": [
        "# Alumno: Observar como está distribuido el dataset respecto a la columna Rating\n",
        "# es decir, observar que tan balanceado se encuentra respecot a cada clase\n",
        "df_reviews['Rating'].value_counts()"
      ]
    },
    {
      "cell_type": "code",
      "execution_count": 8,
      "metadata": {
        "colab": {
          "base_uri": "https://localhost:8080/",
          "height": 449
        },
        "id": "9pBe8Q2kk3nx",
        "outputId": "d6f797af-f6f2-4cc9-a6c4-d86520549b11"
      },
      "outputs": [
        {
          "data": {
            "image/png": "[encoded data removed]",
            "text/plain": [
              "<Figure size 640x480 with 1 Axes>"
            ]
          },
          "metadata": {},
          "output_type": "display_data"
        }
      ],
      "source": [
        "sns.countplot(x='Rating', data=df_reviews)\n",
        "plt.show()"
      ]
    },
    {
      "cell_type": "code",
      "execution_count": 9,
      "metadata": {
        "colab": {
          "base_uri": "https://localhost:8080/"
        },
        "id": "gVJ_RVi4o1h3",
        "outputId": "5301b4ea-1f9d-4756-eef8-8ec99b979b1b"
      },
      "outputs": [
        {
          "data": {
            "text/plain": [
              "(22641,)"
            ]
          },
          "execution_count": 9,
          "metadata": {},
          "output_type": "execute_result"
        }
      ],
      "source": [
        "# Alumno: tomar la columna de las review y almacenarlo todo en un vector numpy de reviews\n",
        "text_sequences = df_reviews['Review Text'].values\n",
        "text_sequences.shape"
      ]
    },
    {
      "cell_type": "code",
      "execution_count": 10,
      "metadata": {
        "colab": {
          "base_uri": "https://localhost:8080/"
        },
        "id": "4nT5Un_co65Q",
        "outputId": "860f0d1b-4d21-42d6-a02d-5f22325d96d1"
      },
      "outputs": [
        {
          "data": {
            "text/plain": [
              "22641"
            ]
          },
          "execution_count": 10,
          "metadata": {},
          "output_type": "execute_result"
        }
      ],
      "source": [
        "# Alumno: Cuantas reviews (rows) hay para evaluar?\n",
        "len(text_sequences)"
      ]
    },
    {
      "cell_type": "code",
      "execution_count": 11,
      "metadata": {
        "id": "HP5uN9tqpHu_"
      },
      "outputs": [],
      "source": [
        "# Alumno: Concatenar todas las reviews para armar el corpus\n",
        "corpus = ' '.join(text_sequences)"
      ]
    },
    {
      "cell_type": "code",
      "execution_count": 12,
      "metadata": {
        "colab": {
          "base_uri": "https://localhost:8080/"
        },
        "id": "FEzmePgdpf74",
        "outputId": "04500c17-ca60-4cdd-ed81-1b890a26bdfc"
      },
      "outputs": [
        {
          "data": {
            "text/plain": [
              "7011643"
            ]
          },
          "execution_count": 12,
          "metadata": {},
          "output_type": "execute_result"
        }
      ],
      "source": [
        "# Alumno: ¿Cuál es la longitud de ese corpus?\n",
        "len(corpus)"
      ]
    },
    {
      "cell_type": "code",
      "execution_count": 13,
      "metadata": {
        "id": "MYeJLdDmpvOe"
      },
      "outputs": [],
      "source": [
        "# Alumno: Utilizar \"text_to_word_sequence\" para separar las palabras en tokens\n",
        "# recordar que text_to_word_sequence automaticamente quita los signos de puntuacion y pasa el texto a lowercase\n",
        "from keras.preprocessing.text import text_to_word_sequence\n",
        "tokens = text_to_word_sequence(corpus)"
      ]
    },
    {
      "cell_type": "code",
      "execution_count": 14,
      "metadata": {
        "colab": {
          "base_uri": "https://localhost:8080/"
        },
        "id": "M6L-fnWAp_lA",
        "outputId": "000e8d5d-6b50-41ef-d8e3-f46a5e870a1a"
      },
      "outputs": [
        {
          "data": {
            "text/plain": [
              "['absolutely',\n",
              " 'wonderful',\n",
              " 'silky',\n",
              " 'and',\n",
              " 'sexy',\n",
              " 'and',\n",
              " 'comfortable',\n",
              " 'love',\n",
              " 'this',\n",
              " 'dress',\n",
              " \"it's\",\n",
              " 'sooo',\n",
              " 'pretty',\n",
              " 'i',\n",
              " 'happened',\n",
              " 'to',\n",
              " 'find',\n",
              " 'it',\n",
              " 'in',\n",
              " 'a']"
            ]
          },
          "execution_count": 14,
          "metadata": {},
          "output_type": "execute_result"
        }
      ],
      "source": [
        "# Alumno: Dar un vistazo a los primeros 20 tokens/palabras\n",
        "tokens[:20]"
      ]
    },
    {
      "cell_type": "code",
      "execution_count": 15,
      "metadata": {
        "colab": {
          "base_uri": "https://localhost:8080/"
        },
        "id": "-8QgwwMUqG0d",
        "outputId": "ecc05045-6c32-4d4c-f35b-418bbbc628e9"
      },
      "outputs": [
        {
          "data": {
            "text/plain": [
              "1372203"
            ]
          },
          "execution_count": 15,
          "metadata": {},
          "output_type": "execute_result"
        }
      ],
      "source": [
        "# Alumno: ¿Cuántos tokens/palabras hay?\n",
        "len(tokens)"
      ]
    },
    {
      "cell_type": "code",
      "execution_count": 16,
      "metadata": {
        "id": "TFukNZdOsZ8_"
      },
      "outputs": [],
      "source": [
        "# Alumno: Tokenizar las palabras con el Tokenizer de Keras\n",
        "# Definir una máxima cantidad de palabras a utilizar:\n",
        "# num_words --> the maximum number of words to keep, based on word frequency.\n",
        "# Only the most common num_words-1 words will be kept.\n",
        "from keras.preprocessing.text import Tokenizer\n",
        "num_words = 2000\n",
        "vocab_size = num_words\n",
        "\n",
        "tok = Tokenizer(num_words)\n",
        "tok.fit_on_texts(tokens)"
      ]
    },
    {
      "cell_type": "code",
      "execution_count": 17,
      "metadata": {
        "colab": {
          "base_uri": "https://localhost:8080/"
        },
        "id": "JnR1tlqZy94X",
        "outputId": "5b484c58-f34d-4b9c-decf-df133dd830ce"
      },
      "outputs": [
        {
          "data": {
            "text/plain": [
              "14847"
            ]
          },
          "execution_count": 17,
          "metadata": {},
          "output_type": "execute_result"
        }
      ],
      "source": [
        "# Alumno: Obtener el diccionario de palabra (word) a índice\n",
        "# y observar la cantidad total del vocabulario\n",
        "word_index = tok.word_index\n",
        "len(word_index)"
      ]
    },
    {
      "cell_type": "code",
      "execution_count": 18,
      "metadata": {
        "id": "AvWzzSretQXf"
      },
      "outputs": [],
      "source": [
        "# Alumno: Convertir las palabras/tokens a números\n",
        "sequences = tok.texts_to_sequences(text_sequences)"
      ]
    },
    {
      "cell_type": "code",
      "execution_count": 19,
      "metadata": {
        "colab": {
          "base_uri": "https://localhost:8080/"
        },
        "id": "za73M5SRtbrP",
        "outputId": "473c75f3-68f5-493c-f3e1-57ca42bb5e90"
      },
      "outputs": [
        {
          "name": "stdout",
          "output_type": "stream",
          "text": [
            "el máximo es 115\n"
          ]
        }
      ],
      "source": [
        "# Alumno: Determinar cual es la oración más larga\n",
        "s_lenght = [len(s) for s in sequences]\n",
        "print(f'el máximo es {max(s_lenght)}')"
      ]
    },
    {
      "cell_type": "code",
      "execution_count": 21,
      "metadata": {
        "id": "oCkO9Wc9tls1"
      },
      "outputs": [],
      "source": [
        "# Alumno: Realizar padding de las sentencias al mismo tamaño\n",
        "# tomando de referencia la máxima sentencia\n",
        "from keras_preprocessing.sequence import pad_sequences\n",
        "maxlen = 115"
      ]
    },
    {
      "cell_type": "code",
      "execution_count": 22,
      "metadata": {
        "id": "kGHHabVdt_aa"
      },
      "outputs": [],
      "source": [
        "# Alumno: Observar las dimensiones de la variable input\n",
        "X = pad_sequences(sequences, padding='pre', maxlen=maxlen)"
      ]
    },
    {
      "cell_type": "code",
      "execution_count": 23,
      "metadata": {
        "colab": {
          "base_uri": "https://localhost:8080/"
        },
        "id": "llVM-tzQo9_F",
        "outputId": "3394cbb3-621b-47c3-e705-c90769d9612d"
      },
      "outputs": [
        {
          "name": "stdout",
          "output_type": "stream",
          "text": [
            "(22641,)\n"
          ]
        }
      ],
      "source": [
        "# Alumno tomar la columna rating y alcemacenarla en una variable \"y\" transformada a oneHotEncoding\n",
        "# Su shape debe ser equivalente la cantidad de rows del corpus y a la cantidad\n",
        "# de clases que se deseen predecir (en este ejemplo son 5)\n",
        "y = df_reviews['Rating'].values\n",
        "print(y.shape)"
      ]
    },
    {
      "cell_type": "code",
      "execution_count": 24,
      "metadata": {
        "colab": {
          "base_uri": "https://localhost:8080/"
        },
        "id": "0NCNGNJ_qqGv",
        "outputId": "005ced2a-3964-4a91-87c1-a28a4266c2ee"
      },
      "outputs": [
        {
          "data": {
            "text/plain": [
              "array([3, 4, 2, 4, 4, 1, 4, 3, 4, 4])"
            ]
          },
          "execution_count": 24,
          "metadata": {},
          "output_type": "execute_result"
        }
      ],
      "source": [
        "y[:10]"
      ]
    },
    {
      "cell_type": "code",
      "execution_count": 25,
      "metadata": {
        "colab": {
          "base_uri": "https://localhost:8080/"
        },
        "id": "p01nOFwCsz1-",
        "outputId": "e5108aa8-01b0-4a2f-c66e-410e2b06a3f4"
      },
      "outputs": [
        {
          "data": {
            "text/plain": [
              "array([[0., 0., 0., 1., 0.],\n",
              "       [0., 0., 0., 0., 1.],\n",
              "       [0., 0., 1., 0., 0.],\n",
              "       [0., 0., 0., 0., 1.],\n",
              "       [0., 0., 0., 0., 1.],\n",
              "       [0., 1., 0., 0., 0.],\n",
              "       [0., 0., 0., 0., 1.],\n",
              "       [0., 0., 0., 1., 0.],\n",
              "       [0., 0., 0., 0., 1.],\n",
              "       [0., 0., 0., 0., 1.]])"
            ]
          },
          "execution_count": 25,
          "metadata": {},
          "output_type": "execute_result"
        }
      ],
      "source": [
        "from sklearn.preprocessing import OneHotEncoder\n",
        "enc = OneHotEncoder(handle_unknown='ignore')\n",
        "enc.fit(y.reshape(-1, 1))\n",
        "y = enc.fit_transform(y.reshape(-1,1)).toarray()\n",
        "y[:10]\n"
      ]
    },
    {
      "cell_type": "code",
      "execution_count": 26,
      "metadata": {
        "id": "Rmz9A6n4uK4V"
      },
      "outputs": [],
      "source": [
        "# Alumno: Dividir los datos en train y test\n",
        "from sklearn.model_selection import train_test_split\n",
        "X_train, X_test, y_train, y_test = train_test_split(X, y, test_size=0.2, random_state=4242)\n"
      ]
    },
    {
      "cell_type": "code",
      "execution_count": 27,
      "metadata": {
        "colab": {
          "base_uri": "https://localhost:8080/"
        },
        "id": "B-pq42P6qv2f",
        "outputId": "72c13954-2f0e-413a-9ec3-a89dfe54d87b"
      },
      "outputs": [
        {
          "data": {
            "text/plain": [
              "array([[0., 0., 0., 1., 0.],\n",
              "       [0., 0., 1., 0., 0.],\n",
              "       [0., 0., 0., 0., 1.],\n",
              "       [0., 0., 0., 0., 1.],\n",
              "       [0., 0., 1., 0., 0.],\n",
              "       [0., 0., 1., 0., 0.],\n",
              "       [0., 0., 0., 0., 1.],\n",
              "       [0., 0., 0., 0., 1.],\n",
              "       [0., 1., 0., 0., 0.],\n",
              "       [0., 0., 0., 1., 0.]])"
            ]
          },
          "execution_count": 27,
          "metadata": {},
          "output_type": "execute_result"
        }
      ],
      "source": [
        "y_train[:10]"
      ]
    },
    {
      "cell_type": "code",
      "execution_count": 28,
      "metadata": {
        "colab": {
          "base_uri": "https://localhost:8080/"
        },
        "id": "EcDPlhEouQ9E",
        "outputId": "9746634d-d4dc-4c37-d362-0451308b5232"
      },
      "outputs": [
        {
          "name": "stdout",
          "output_type": "stream",
          "text": [
            "in_shape 115 , out_shape 5\n"
          ]
        }
      ],
      "source": [
        "# Alumno: determinar la dimensiones de entrada y salida\n",
        "\n",
        "input_shape = X_train.shape[1] # max input sentence len\n",
        "output_shape = y.shape[1]\n",
        "print(\"in_shape\", input_shape, \", out_shape\", output_shape)"
      ]
    },
    {
      "attachments": {},
      "cell_type": "markdown",
      "metadata": {
        "id": "NpbQHExL6OTu"
      },
      "source": [
        "### 2 - Entrenar el modelo con Embeddings + LSTM"
      ]
    },
    {
      "cell_type": "code",
      "execution_count": 33,
      "metadata": {
        "colab": {
          "base_uri": "https://localhost:8080/"
        },
        "id": "NUkuWBsM6cx3",
        "outputId": "5e7f142d-0e36-4fe8-d264-26d2f5b4d8e0"
      },
      "outputs": [
        {
          "name": "stdout",
          "output_type": "stream",
          "text": [
            "Model: \"sequential_2\"\n",
            "_________________________________________________________________\n",
            " Layer (type)                Output Shape              Param #   \n",
            "=================================================================\n",
            " embedding_2 (Embedding)     (None, 115, 128)          256128    \n",
            "                                                                 \n",
            " lstm_4 (LSTM)               (None, 115, 128)          131584    \n",
            "                                                                 \n",
            " dropout_4 (Dropout)         (None, 115, 128)          0         \n",
            "                                                                 \n",
            " lstm_5 (LSTM)               (None, 128)               131584    \n",
            "                                                                 \n",
            " dense_4 (Dense)             (None, 256)               33024     \n",
            "                                                                 \n",
            " dropout_5 (Dropout)         (None, 256)               0         \n",
            "                                                                 \n",
            " dense_5 (Dense)             (None, 5)                 1285      \n",
            "                                                                 \n",
            "=================================================================\n",
            "Total params: 553,605\n",
            "Trainable params: 553,605\n",
            "Non-trainable params: 0\n",
            "_________________________________________________________________\n"
          ]
        }
      ],
      "source": [
        "# Alumno: Entrene su modelo con LSTM entrenando sus propios embeddings\n",
        "# o utilizando embeddings pre-entrenados.\n",
        "from keras.layers import LSTM\n",
        "from keras.layers import Embedding\n",
        "from keras.layers import Dropout\n",
        "from keras.layers import Bidirectional\n",
        "import tensorflow_addons as tfa\n",
        "\n",
        "model = Sequential()\n",
        "# input_dim = vocab_size (max n_words)\n",
        "# input_length = setencias con padding a 200\n",
        "# output_dim = 50 --> crear embeddings de tamaño 50\n",
        "model.add(Embedding(input_dim=vocab_size+1, output_dim=128, input_length=input_shape))\n",
        "model.add(LSTM(units=128, return_sequences=True))\n",
        "model.add(Dropout(0.2))\n",
        "model.add(LSTM(units=128)) # La última capa LSTM no lleva return_sequences\n",
        "\n",
        "model.add(Dense(units=256, activation='relu'))\n",
        "model.add(Dropout(rate=0.2))\n",
        "model.add(Dense(units=output_shape, activation='softmax'))\n",
        "\n",
        "model.compile(optimizer=tf.keras.optimizers.Adam(learning_rate=1e-5),\n",
        "              loss='categorical_crossentropy',\n",
        "              metrics=[tfa.metrics.F1Score(num_classes=5, threshold=0.5)])\n",
        "\n",
        "model.summary()"
      ]
    },
    {
      "cell_type": "code",
      "execution_count": 45,
      "metadata": {
        "colab": {
          "base_uri": "https://localhost:8080/",
          "height": 865
        },
        "id": "xAqNsFjsm6Nh",
        "outputId": "dae260fe-2911-4069-b2cd-8a5111de3e09"
      },
      "outputs": [
        {
          "name": "stdout",
          "output_type": "stream",
          "text": [
            "You must install pydot (`pip install pydot`) and install graphviz (see instructions at https://graphviz.gitlab.io/download/) for plot_model/model_to_dot to work.\n"
          ]
        }
      ],
      "source": [
        "from keras.utils.vis_utils import plot_model\n",
        "plot_model(model, to_file='model_plot.png', show_shapes=True, show_layer_names=True)"
      ]
    },
    {
      "cell_type": "code",
      "execution_count": 35,
      "metadata": {
        "colab": {
          "base_uri": "https://localhost:8080/"
        },
        "id": "n3xWCaFK-hYi",
        "outputId": "fe43906b-c36d-4e2b-a96b-b60e52e2ca79"
      },
      "outputs": [
        {
          "data": {
            "text/plain": [
              "((115,), (5,))"
            ]
          },
          "execution_count": 35,
          "metadata": {},
          "output_type": "execute_result"
        }
      ],
      "source": [
        "X_train[0].shape, y_train[0].shape"
      ]
    },
    {
      "cell_type": "code",
      "execution_count": 36,
      "metadata": {
        "colab": {
          "base_uri": "https://localhost:8080/"
        },
        "id": "7fP-DguUnAU8",
        "outputId": "c90cd01f-b543-447e-aa88-a2443efba515"
      },
      "outputs": [
        {
          "name": "stdout",
          "output_type": "stream",
          "text": [
            "Epoch 1/30\n"
          ]
        },
        {
          "name": "stderr",
          "output_type": "stream",
          "text": [
            "2023-06-18 21:09:09.571847: I tensorflow/stream_executor/cuda/cuda_dnn.cc:368] Loaded cuDNN version 8101\n",
            "2023-06-18 21:09:10.708033: I tensorflow/stream_executor/cuda/cuda_blas.cc:1786] TensorFloat-32 will be used for the matrix multiplication. This will only be logged once.\n"
          ]
        },
        {
          "name": "stdout",
          "output_type": "stream",
          "text": [
            "453/453 [==============================] - 8s 10ms/step - loss: 1.4312 - f1_score: 0.0814 - val_loss: 1.2367 - val_f1_score: 0.1402\n",
            "Epoch 2/30\n",
            "453/453 [==============================] - 4s 10ms/step - loss: 1.2081 - f1_score: 0.1391 - val_loss: 1.2159 - val_f1_score: 0.1429\n",
            "Epoch 3/30\n",
            "453/453 [==============================] - 4s 10ms/step - loss: 1.1754 - f1_score: 0.1478 - val_loss: 1.1637 - val_f1_score: 0.1498\n",
            "Epoch 4/30\n",
            "453/453 [==============================] - 4s 9ms/step - loss: 1.0956 - f1_score: 0.1557 - val_loss: 1.0837 - val_f1_score: 0.1549\n",
            "Epoch 5/30\n",
            "453/453 [==============================] - 4s 9ms/step - loss: 1.0341 - f1_score: 0.1588 - val_loss: 1.0506 - val_f1_score: 0.1590\n",
            "Epoch 6/30\n",
            "453/453 [==============================] - 4s 9ms/step - loss: 1.0076 - f1_score: 0.1604 - val_loss: 1.0305 - val_f1_score: 0.1598\n",
            "Epoch 7/30\n",
            "453/453 [==============================] - 4s 9ms/step - loss: 0.9859 - f1_score: 0.1618 - val_loss: 1.0160 - val_f1_score: 0.1608\n",
            "Epoch 8/30\n",
            "453/453 [==============================] - 4s 9ms/step - loss: 0.9696 - f1_score: 0.1627 - val_loss: 1.0030 - val_f1_score: 0.1627\n",
            "Epoch 9/30\n",
            "453/453 [==============================] - 4s 9ms/step - loss: 0.9531 - f1_score: 0.1635 - val_loss: 0.9901 - val_f1_score: 0.1628\n",
            "Epoch 10/30\n",
            "453/453 [==============================] - 4s 9ms/step - loss: 0.9403 - f1_score: 0.1639 - val_loss: 0.9923 - val_f1_score: 0.1631\n",
            "Epoch 11/30\n",
            "453/453 [==============================] - 4s 9ms/step - loss: 0.9267 - f1_score: 0.1644 - val_loss: 0.9767 - val_f1_score: 0.1640\n",
            "Epoch 12/30\n",
            "453/453 [==============================] - 4s 9ms/step - loss: 0.9155 - f1_score: 0.1643 - val_loss: 0.9654 - val_f1_score: 0.1644\n",
            "Epoch 13/30\n",
            "453/453 [==============================] - 4s 9ms/step - loss: 0.9066 - f1_score: 0.1655 - val_loss: 0.9655 - val_f1_score: 0.1651\n",
            "Epoch 14/30\n",
            "453/453 [==============================] - 4s 9ms/step - loss: 0.8978 - f1_score: 0.1656 - val_loss: 0.9604 - val_f1_score: 0.1655\n",
            "Epoch 15/30\n",
            "453/453 [==============================] - 4s 9ms/step - loss: 0.8910 - f1_score: 0.1662 - val_loss: 0.9487 - val_f1_score: 0.1646\n",
            "Epoch 16/30\n",
            "453/453 [==============================] - 4s 10ms/step - loss: 0.8829 - f1_score: 0.1668 - val_loss: 0.9495 - val_f1_score: 0.1654\n",
            "Epoch 17/30\n",
            "453/453 [==============================] - 5s 11ms/step - loss: 0.8775 - f1_score: 0.1669 - val_loss: 0.9416 - val_f1_score: 0.1646\n",
            "Epoch 18/30\n",
            "453/453 [==============================] - 4s 10ms/step - loss: 0.8726 - f1_score: 0.1675 - val_loss: 0.9397 - val_f1_score: 0.1644\n",
            "Epoch 19/30\n",
            "453/453 [==============================] - 4s 10ms/step - loss: 0.8675 - f1_score: 0.1682 - val_loss: 0.9534 - val_f1_score: 0.1655\n",
            "Epoch 20/30\n",
            "453/453 [==============================] - 4s 10ms/step - loss: 0.8628 - f1_score: 0.1688 - val_loss: 0.9491 - val_f1_score: 0.1661\n",
            "Epoch 21/30\n",
            "453/453 [==============================] - 4s 10ms/step - loss: 0.8579 - f1_score: 0.1695 - val_loss: 0.9378 - val_f1_score: 0.1662\n",
            "Epoch 22/30\n",
            "453/453 [==============================] - 4s 10ms/step - loss: 0.8535 - f1_score: 0.1706 - val_loss: 0.9401 - val_f1_score: 0.1664\n",
            "Epoch 23/30\n",
            "453/453 [==============================] - 4s 10ms/step - loss: 0.8501 - f1_score: 0.1734 - val_loss: 0.9385 - val_f1_score: 0.1665\n",
            "Epoch 24/30\n",
            "453/453 [==============================] - 4s 10ms/step - loss: 0.8471 - f1_score: 0.1743 - val_loss: 0.9312 - val_f1_score: 0.1669\n",
            "Epoch 25/30\n",
            "453/453 [==============================] - 5s 10ms/step - loss: 0.8428 - f1_score: 0.1762 - val_loss: 0.9338 - val_f1_score: 0.1660\n",
            "Epoch 26/30\n",
            "453/453 [==============================] - 5s 10ms/step - loss: 0.8380 - f1_score: 0.1778 - val_loss: 0.9368 - val_f1_score: 0.1667\n",
            "Epoch 27/30\n",
            "453/453 [==============================] - 4s 10ms/step - loss: 0.8370 - f1_score: 0.1789 - val_loss: 0.9324 - val_f1_score: 0.1679\n",
            "Epoch 28/30\n",
            "453/453 [==============================] - 4s 10ms/step - loss: 0.8331 - f1_score: 0.1809 - val_loss: 0.9420 - val_f1_score: 0.1704\n",
            "Epoch 29/30\n",
            "453/453 [==============================] - 4s 10ms/step - loss: 0.8307 - f1_score: 0.1838 - val_loss: 0.9312 - val_f1_score: 0.1708\n",
            "Epoch 30/30\n",
            "453/453 [==============================] - 4s 10ms/step - loss: 0.8269 - f1_score: 0.1838 - val_loss: 0.9364 - val_f1_score: 0.1779\n"
          ]
        }
      ],
      "source": [
        "hist = model.fit(X_train, y_train, epochs=30, validation_split=0.2)"
      ]
    },
    {
      "cell_type": "code",
      "execution_count": 37,
      "metadata": {
        "colab": {
          "base_uri": "https://localhost:8080/"
        },
        "id": "DTMFbVSZEnmE",
        "outputId": "3694e7b6-5148-4ae0-ecad-55c71dc72983"
      },
      "outputs": [
        {
          "data": {
            "text/plain": [
              "{'loss': [1.4312245845794678,\n",
              "  1.208114504814148,\n",
              "  1.1753500699996948,\n",
              "  1.0955547094345093,\n",
              "  1.034149408340454,\n",
              "  1.0075652599334717,\n",
              "  0.9858999252319336,\n",
              "  0.9696143865585327,\n",
              "  0.9531481266021729,\n",
              "  0.9403054118156433,\n",
              "  0.9267271161079407,\n",
              "  0.9154648184776306,\n",
              "  0.9065870046615601,\n",
              "  0.8977726697921753,\n",
              "  0.8910204768180847,\n",
              "  0.8829469084739685,\n",
              "  0.8775205016136169,\n",
              "  0.8725980520248413,\n",
              "  0.8674609661102295,\n",
              "  0.8628206849098206,\n",
              "  0.8578926920890808,\n",
              "  0.853530764579773,\n",
              "  0.8501153588294983,\n",
              "  0.8471486568450928,\n",
              "  0.8428289294242859,\n",
              "  0.8379550576210022,\n",
              "  0.8370458483695984,\n",
              "  0.8330886363983154,\n",
              "  0.8307080268859863,\n",
              "  0.8269308805465698],\n",
              " 'f1_score': [array([0.       , 0.       , 0.       , 0.       , 0.4071732],\n",
              "        dtype=float32),\n",
              "  array([0.       , 0.       , 0.       , 0.       , 0.6955339],\n",
              "        dtype=float32),\n",
              "  array([0.       , 0.       , 0.       , 0.       , 0.7389705],\n",
              "        dtype=float32),\n",
              "  array([0.       , 0.       , 0.       , 0.       , 0.7784431],\n",
              "        dtype=float32),\n",
              "  array([0.        , 0.        , 0.        , 0.        , 0.79407537],\n",
              "        dtype=float32),\n",
              "  array([0.        , 0.        , 0.        , 0.        , 0.80184704],\n",
              "        dtype=float32),\n",
              "  array([0.       , 0.       , 0.       , 0.       , 0.8087598],\n",
              "        dtype=float32),\n",
              "  array([0.       , 0.       , 0.       , 0.       , 0.8133333],\n",
              "        dtype=float32),\n",
              "  array([0.        , 0.        , 0.        , 0.        , 0.81742615],\n",
              "        dtype=float32),\n",
              "  array([0.       , 0.       , 0.       , 0.       , 0.8197455],\n",
              "        dtype=float32),\n",
              "  array([0.       , 0.       , 0.       , 0.       , 0.8219404],\n",
              "        dtype=float32),\n",
              "  array([0.        , 0.        , 0.        , 0.        , 0.82166696],\n",
              "        dtype=float32),\n",
              "  array([0.        , 0.        , 0.        , 0.        , 0.82764333],\n",
              "        dtype=float32),\n",
              "  array([0.        , 0.        , 0.        , 0.        , 0.82790375],\n",
              "        dtype=float32),\n",
              "  array([0.0000000e+00, 0.0000000e+00, 0.0000000e+00, 6.3211127e-04,\n",
              "         8.3035606e-01], dtype=float32),\n",
              "  array([0.        , 0.        , 0.00111483, 0.        , 0.83272254],\n",
              "        dtype=float32),\n",
              "  array([0.        , 0.        , 0.        , 0.00126382, 0.833294  ],\n",
              "        dtype=float32),\n",
              "  array([0.        , 0.        , 0.00222593, 0.00126263, 0.83385694],\n",
              "        dtype=float32),\n",
              "  array([0.        , 0.        , 0.00111297, 0.00315159, 0.8366463 ],\n",
              "        dtype=float32),\n",
              "  array([0.        , 0.        , 0.00222841, 0.00440667, 0.83742094],\n",
              "        dtype=float32),\n",
              "  array([0.        , 0.        , 0.00222469, 0.00689871, 0.83832693],\n",
              "        dtype=float32),\n",
              "  array([0.        , 0.        , 0.00111173, 0.01123946, 0.8408255 ],\n",
              "        dtype=float32),\n",
              "  array([0.        , 0.        , 0.00554017, 0.01988195, 0.8414989 ],\n",
              "        dtype=float32),\n",
              "  array([0.        , 0.        , 0.00111173, 0.02646154, 0.84395266],\n",
              "        dtype=float32),\n",
              "  array([0.        , 0.        , 0.00333333, 0.03420892, 0.8434994 ],\n",
              "        dtype=float32),\n",
              "  array([0.        , 0.        , 0.00333333, 0.04456489, 0.84103787],\n",
              "        dtype=float32),\n",
              "  array([0.        , 0.        , 0.00662617, 0.04522159, 0.8424379 ],\n",
              "        dtype=float32),\n",
              "  array([0.        , 0.        , 0.01323043, 0.0475474 , 0.8436884 ],\n",
              "        dtype=float32),\n",
              "  array([0.        , 0.        , 0.00879121, 0.06392962, 0.8462871 ],\n",
              "        dtype=float32),\n",
              "  array([0.        , 0.        , 0.00882515, 0.06478454, 0.84561676],\n",
              "        dtype=float32)],\n",
              " 'val_loss': [1.2366554737091064,\n",
              "  1.215944528579712,\n",
              "  1.1636723279953003,\n",
              "  1.0836615562438965,\n",
              "  1.0506398677825928,\n",
              "  1.030483603477478,\n",
              "  1.0159962177276611,\n",
              "  1.003032922744751,\n",
              "  0.9901213645935059,\n",
              "  0.9923485517501831,\n",
              "  0.9767323732376099,\n",
              "  0.9653632044792175,\n",
              "  0.9655179381370544,\n",
              "  0.9603947997093201,\n",
              "  0.9487181901931763,\n",
              "  0.949453592300415,\n",
              "  0.9416220784187317,\n",
              "  0.9396791458129883,\n",
              "  0.9533674120903015,\n",
              "  0.9490777254104614,\n",
              "  0.9377992749214172,\n",
              "  0.9401100277900696,\n",
              "  0.9384686946868896,\n",
              "  0.9311637282371521,\n",
              "  0.9338374733924866,\n",
              "  0.9368442893028259,\n",
              "  0.9324154853820801,\n",
              "  0.9419647455215454,\n",
              "  0.9312213063240051,\n",
              "  0.9364206194877625],\n",
              " 'val_f1_score': [array([0.        , 0.        , 0.        , 0.        , 0.70118785],\n",
              "        dtype=float32),\n",
              "  array([0.       , 0.       , 0.       , 0.       , 0.7142597],\n",
              "        dtype=float32),\n",
              "  array([0.       , 0.       , 0.       , 0.       , 0.7488763],\n",
              "        dtype=float32),\n",
              "  array([0.       , 0.       , 0.       , 0.       , 0.7743199],\n",
              "        dtype=float32),\n",
              "  array([0.        , 0.        , 0.        , 0.        , 0.79518616],\n",
              "        dtype=float32),\n",
              "  array([0.        , 0.        , 0.        , 0.        , 0.79907197],\n",
              "        dtype=float32),\n",
              "  array([0.       , 0.       , 0.       , 0.       , 0.8040319],\n",
              "        dtype=float32),\n",
              "  array([0.        , 0.        , 0.        , 0.        , 0.81368643],\n",
              "        dtype=float32),\n",
              "  array([0.        , 0.        , 0.        , 0.        , 0.81382596],\n",
              "        dtype=float32),\n",
              "  array([0.        , 0.        , 0.        , 0.        , 0.81538105],\n",
              "        dtype=float32),\n",
              "  array([0.       , 0.       , 0.       , 0.       , 0.8202115],\n",
              "        dtype=float32),\n",
              "  array([0.        , 0.        , 0.        , 0.        , 0.82187206],\n",
              "        dtype=float32),\n",
              "  array([0.        , 0.        , 0.        , 0.        , 0.82545626],\n",
              "        dtype=float32),\n",
              "  array([0.       , 0.       , 0.       , 0.       , 0.8273585],\n",
              "        dtype=float32),\n",
              "  array([0.        , 0.        , 0.        , 0.        , 0.82281554],\n",
              "        dtype=float32),\n",
              "  array([0.       , 0.       , 0.       , 0.       , 0.8268635],\n",
              "        dtype=float32),\n",
              "  array([0.        , 0.        , 0.        , 0.        , 0.82307315],\n",
              "        dtype=float32),\n",
              "  array([0.       , 0.       , 0.       , 0.       , 0.8221788],\n",
              "        dtype=float32),\n",
              "  array([0.        , 0.        , 0.        , 0.        , 0.82774574],\n",
              "        dtype=float32),\n",
              "  array([0.       , 0.       , 0.       , 0.       , 0.8306166],\n",
              "        dtype=float32),\n",
              "  array([0.        , 0.        , 0.        , 0.00262123, 0.8283118 ],\n",
              "        dtype=float32),\n",
              "  array([0.        , 0.        , 0.        , 0.00262123, 0.82941884],\n",
              "        dtype=float32),\n",
              "  array([0.       , 0.       , 0.       , 0.0026178, 0.8300809],\n",
              "        dtype=float32),\n",
              "  array([0.        , 0.        , 0.        , 0.01282051, 0.82175076],\n",
              "        dtype=float32),\n",
              "  array([0.        , 0.        , 0.        , 0.00520833, 0.8248369 ],\n",
              "        dtype=float32),\n",
              "  array([0.        , 0.        , 0.        , 0.00522876, 0.8284898 ],\n",
              "        dtype=float32),\n",
              "  array([0.        , 0.        , 0.00424628, 0.00779221, 0.8273364 ],\n",
              "        dtype=float32),\n",
              "  array([0.        , 0.        , 0.        , 0.0230179 , 0.82897866],\n",
              "        dtype=float32),\n",
              "  array([0.        , 0.        , 0.00424628, 0.02298851, 0.82668597],\n",
              "        dtype=float32),\n",
              "  array([0.        , 0.        , 0.00847458, 0.05398773, 0.8268721 ],\n",
              "        dtype=float32)]}"
            ]
          },
          "execution_count": 37,
          "metadata": {},
          "output_type": "execute_result"
        }
      ],
      "source": [
        "hist.history"
      ]
    },
    {
      "cell_type": "code",
      "execution_count": 38,
      "metadata": {
        "colab": {
          "base_uri": "https://localhost:8080/",
          "height": 430
        },
        "id": "dT29kp_unBj0",
        "outputId": "73d22c44-5d30-45c3-a37b-f35b0559b6c4"
      },
      "outputs": [
        {
          "data": {
            "image/png": "[encoded data removed]",
            "text/plain": [
              "<Figure size 640x480 with 1 Axes>"
            ]
          },
          "metadata": {},
          "output_type": "display_data"
        }
      ],
      "source": [
        "import matplotlib.pyplot as plt\n",
        "import seaborn as sns\n",
        "epoch_count = range(1, len(hist.history['loss']) + 1)\n",
        "sns.lineplot(x=epoch_count,  y=hist.history['loss'], label='train_loss')\n",
        "sns.lineplot(x=epoch_count,  y=hist.history['val_loss'], label='validation_loss')\n",
        "plt.show()"
      ]
    },
    {
      "cell_type": "code",
      "execution_count": 39,
      "metadata": {
        "colab": {
          "base_uri": "https://localhost:8080/"
        },
        "id": "wtHkb92HnC9l",
        "outputId": "0fa1c76e-7f39-4ce0-a5fd-fd1746eaefda"
      },
      "outputs": [
        {
          "name": "stdout",
          "output_type": "stream",
          "text": [
            "142/142 [==============================] - 1s 4ms/step - loss: 0.9077 - f1_score: 0.1759\n"
          ]
        },
        {
          "data": {
            "text/plain": [
              "[0.9076624512672424,\n",
              " array([0.        , 0.        , 0.01401051, 0.03943662, 0.8261605 ],\n",
              "       dtype=float32)]"
            ]
          },
          "execution_count": 39,
          "metadata": {},
          "output_type": "execute_result"
        }
      ],
      "source": [
        "model.evaluate(X_test, y_test)"
      ]
    },
    {
      "cell_type": "code",
      "execution_count": 40,
      "metadata": {
        "id": "8zFg-Y5Kcs4o"
      },
      "outputs": [],
      "source": [
        "test_texts = tok.sequences_to_texts(X_test)"
      ]
    },
    {
      "cell_type": "code",
      "execution_count": 41,
      "metadata": {
        "colab": {
          "base_uri": "https://localhost:8080/"
        },
        "id": "93h98uqRg1pB",
        "outputId": "eca55444-df87-4cf7-8b82-11c634ab618f"
      },
      "outputs": [],
      "source": [
        "preds = model.predict(X_test)"
      ]
    },
    {
      "cell_type": "code",
      "execution_count": 42,
      "metadata": {
        "colab": {
          "base_uri": "https://localhost:8080/"
        },
        "id": "GPzklruoeCk2",
        "outputId": "a20236c8-7db1-496a-e96d-2fe6be3668fb"
      },
      "outputs": [
        {
          "name": "stdout",
          "output_type": "stream",
          "text": [
            " for reference i'm 5'3 and weigh 110 lbs and i purchased a size 2 but i think atoo and there is the perfect amount of swing and it's a great length i can't say enough about it i think it's worth the price which i have to i was hesitant about so comfortable and versatile i see it being worn quite often \n",
            "[0. 0. 0. 0. 1.], 4 - [1.3056520e-07 1.8655830e-06 3.1568332e-05 1.4807392e-02 9.8515910e-01], 4\n",
            "\n",
            "\n",
            "i saw this dress in my local retailer store and am not sure why i did not try it on then but later at home it to me i loved the colored embroidery against the black my husband and i will be to later this fall and i wanted to take a dress with me that wouldn't take up too much room and be for times when i wanted to dress up a little online i saw that it was available in the petite and with the reviews that it ran large i opted for a medium petite\n",
            "[0. 0. 0. 0. 1.], 4 - [0.03450345 0.07028161 0.17606239 0.3656908  0.3534618 ], 3\n",
            "\n",
            "\n",
            "i was tempted to get this online but just wasn't sure i wanted to buy even with the sale because i only wear dresses to the knee and didn't know how this would look with leggings or jeans i tried it on in the store the next day and it was so cute there are long skinny black in the front that you can't really see in the online pics that i love it looks great with my skinny jeans with or black leggings and boots i even have some cute leggings just past the knee that this looks\n",
            "[0. 0. 0. 0. 1.], 4 - [5.4803195e-06 4.6509384e-05 5.5586116e-04 6.1339658e-02 9.3805254e-01], 4\n",
            "\n",
            "\n",
            "i love the pattern color combo but wow t really on me too much fabric i felt like i was trying to hide or pregnancy or wearing a anyway not for me but others might to try in case it was just me too bad length was decent in size though not too long just too wide\n",
            "[0. 1. 0. 0. 0.], 1 - [0.15424985 0.28524426 0.4079503  0.12945831 0.02309725], 2\n",
            "\n",
            "\n",
            "love the soft fabric and easy fit of this dress i'm pleased that it does give a of figure and doesn't just hang like a sack i found the blue to be most flattering and was with styling at home and found that the wider retailer leather belt gave it a whole new look\n",
            "[0. 0. 0. 0. 1.], 4 - [0.00589041 0.0220576  0.14115463 0.52809286 0.30280453], 3\n",
            "\n",
            "\n",
            "i tried the neutral motif one on when it first came out i didn't buy but it on my mind b c the colors were so pretty i got it at sale on sale and am so happy i did it is sheer but i think it would work fine in a casual without a tank as long as you have a skin tone bra great buy and tts\n",
            "[0. 0. 0. 0. 1.], 4 - [2.9573514e-04 1.4659015e-03 1.0842413e-02 2.1415171e-01 7.7324420e-01], 4\n",
            "\n",
            "\n",
            "very nice sweater surprisingly just as pictured color wise i ordered a large and it felt true to size in the shoulders but this sweater flair out to the bottom you can kind of see it in the photo the length is good as well for a regular fit it's very unique combination of fabric wool knit the texture is really nice and soft and looks very good on also it's thick and warm i wore the top to work today on 34 weather and received many compliments sweater looks simple but the\n",
            "[0. 0. 0. 0. 1.], 4 - [1.24445205e-05 9.63166749e-05 1.14279496e-03 8.74689966e-02\n",
            " 9.11279440e-01], 4\n",
            "\n",
            "\n",
            "i'm another petite at 5'4 and i loved this the pants are like on me and i think with a heel it will look great i plan on wearing my hair up and the tie in the back in a big bow in fact i don't see the button back of in the description so i think one would have to do so\n",
            "[0. 0. 0. 0. 1.], 4 - [0.00239208 0.01004948 0.07175656 0.4854027  0.4303992 ], 3\n",
            "\n",
            "\n",
            " i ordered the black so happy with my purchaseblack well wasn't wrinkly when i took it out of the \n",
            "[0. 0. 0. 0. 1.], 4 - [0.00222962 0.0082153  0.04319776 0.3396928  0.6066645 ], 4\n",
            "\n",
            "\n",
            "i've been looking for white beach shorts and these are perfect as another reviewer said they are in fact see through because they are meant to be a cover up not real shorts the hem detail is very cute and they're super comfortable my size small fit tts and the 3 hem is nice for tall women\n",
            "[0. 0. 0. 0. 1.], 4 - [1.0753589e-05 8.4611922e-05 9.9665800e-04 8.3954498e-02 9.1495347e-01], 4\n",
            "\n",
            "\n",
            "i should have to previous reviewers but the dress looks so good on the model in the two pictures when it arrived in the mail i realized this is a mistake it has no shape material is poofy and feels cheap it is going back\n",
            "[1. 0. 0. 0. 0.], 0 - [0.13920358 0.2505664  0.3969782  0.167358   0.0458938 ], 2\n",
            "\n",
            "\n",
            "i really liked this dress online and i loved it in person the print is different the waist is skirt is full has a very feminine shape definitely a special piece runs large i'm usually a 6 in dresses and an 8 in skirts i'm 5 5 s 34c and then 6 was too big size 4 fit perfect and i'm no size 4 no sleeves will make if easy to add a denim jacket or a cardigan it hits 3 4 above the knees but has a conservative high neckline and back is covered good\n",
            "[0. 0. 0. 0. 1.], 4 - [4.4386925e-05 2.8950785e-04 3.0371067e-03 1.4544250e-01 8.5118651e-01], 4\n",
            "\n",
            "\n",
            "i ordered this in the lavender and love the rich color looks great with my hair the bell sleeves which are all the right now add to the feminine look i wore it with jeans and for a boho look\n",
            "[0. 0. 0. 0. 1.], 4 - [1.1634182e-04 6.4842188e-04 5.4500583e-03 1.6420320e-01 8.2958204e-01], 4\n",
            "\n",
            "\n",
            "i love this dress wasn't much on the hanger but fell in love as soon as i put it on almost returned after reading the reviews about the fabric and printed design instead of embroidered but tried it on one last time and decided to keep it the silhouette is just stunning absolutely stunning this will be a classic piece in my wardrobe that i pass down to my one day\n",
            "[0. 0. 0. 0. 1.], 4 - [2.9269775e-05 1.8365683e-04 1.5079066e-03 7.1312666e-02 9.2696649e-01], 4\n",
            "\n",
            "\n",
            "this is a very stylish casual top it fits great i plan on wearing it with a long sleeve black tshirt underneath or black turtleneck i absolutely love the crochet detail at the bottom\n",
            "[0. 0. 0. 1. 0.], 3 - [4.0861846e-06 3.5561516e-05 4.0261773e-04 4.4906035e-02 9.5465177e-01], 4\n",
            "\n",
            "\n",
            "not only is this dress incredibly comfortable but it can be for any occasion i it up for a wedding but a cardigan and flats also makes it easy perfect only way this dress could be pockets\n",
            "[0. 0. 0. 0. 1.], 4 - [1.1214690e-04 6.0774531e-04 4.8560100e-03 1.4661099e-01 8.4781313e-01], 4\n",
            "\n",
            "\n",
            "this is a beautiful sweater but if came up high on me in back higher than it looks on the model she must have on high waisted pants\n",
            "[0. 0. 0. 1. 0.], 3 - [0.04469443 0.0959238  0.2664609  0.37379658 0.21912427], 3\n",
            "\n",
            "\n",
            "this one is way better in person i put it in my only it was on the well it is great a little sheer super y when i received it but oh so soft the plunge is a tiny bit low for my liking but this come in petites so i had to it up and keep the regular coloring is nice too neutral event there is rust and navy and ish it be worn with anything\n",
            "[0. 0. 0. 0. 1.], 4 - [5.6314409e-05 3.5583982e-04 3.7348978e-03 1.6035907e-01 8.3549392e-01], 4\n",
            "\n",
            "\n",
            "the fabric has a smooth feel and the shape is perfect over skinny jeans i like the v neckline a different take on the usual buttons of a i wear a white cami under it from retailer to bring up the just a little great with blue jeans white jeans and shorts i bought this shirt in red size 2 i'm 5'6 125 lbs\n",
            "[0. 0. 0. 0. 1.], 4 - [1.9181316e-05 1.3990303e-04 1.5814133e-03 1.0584155e-01 8.9241791e-01], 4\n",
            "\n",
            "\n",
            "beautiful top but delicate i wore it to school and the straps on my some pilling other than that it is beautiful and vibrant just make sure you aren't doing wearing anything that will it since the fabric is delicate\n",
            "[0. 0. 0. 1. 0.], 3 - [0.00257191 0.00980152 0.05735212 0.40094393 0.52933055], 4\n",
            "\n",
            "\n",
            "the dress has a flattering cut and is a nice color but the fabric looks like old i will be returning\n",
            "[0. 0. 1. 0. 0.], 2 - [0.03013344 0.069881   0.22070284 0.4069773  0.27230546], 3\n",
            "\n",
            "\n"
          ]
        }
      ],
      "source": [
        "for i, (text, rating, pred) in enumerate(zip(test_texts, y_test, preds)):\n",
        "  if i > 20:\n",
        "    break\n",
        "  print(f'{text}\\n{rating}, {np.argmax(rating)} - {pred}, {np.argmax(pred)}\\n\\n')"
      ]
    },
    {
      "cell_type": "code",
      "execution_count": null,
      "metadata": {
        "id": "trcbiH5qgyUW"
      },
      "outputs": [],
      "source": []
    },
    {
      "cell_type": "code",
      "execution_count": null,
      "metadata": {},
      "outputs": [],
      "source": []
    }
  ],
  "metadata": {
    "accelerator": "GPU",
    "colab": {
      "provenance": []
    },
    "kernelspec": {
      "display_name": "Python 3",
      "name": "python3"
    },
    "language_info": {
      "codemirror_mode": {
        "name": "ipython",
        "version": 3
      },
      "file_extension": ".py",
      "mimetype": "text/x-python",
      "name": "python",
      "nbconvert_exporter": "python",
      "pygments_lexer": "ipython3",
      "version": "3.10.11"
    }
  },
  "nbformat": 4,
  "nbformat_minor": 0
}
