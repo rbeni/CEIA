{
  "cells": [
    {
      "attachments": {},
      "cell_type": "markdown",
      "metadata": {
        "id": "kBLpTr7plguX"
      },
      "source": [
        "<img src=\"https://github.com/hernancontigiani/ceia_memorias_especializacion/raw/master/Figures/logoFIUBA.jpg\" width=\"500\" align=\"center\">\n",
        "\n",
        "\n",
        "# Procesamiento de lenguaje natural\n",
        "## Sentiment analysis con Embeddings + LSTM"
      ]
    },
    {
      "attachments": {},
      "cell_type": "markdown",
      "metadata": {
        "id": "9W6nuajhlqZD"
      },
      "source": [
        "### Objetivo\n",
        "El objetivo es utilizar las críticas de compradores de ropa para que el sistema determine la evaluación del comprador y su crítica (cuantas estrellas le asigna al producto)."
      ]
    },
    {
      "cell_type": "code",
      "execution_count": 1,
      "metadata": {
        "id": "i6zvzv3qZ6xS"
      },
      "outputs": [],
      "source": [
        "!pip install --upgrade --no-cache-dir gdown --quiet"
      ]
    },
    {
      "cell_type": "code",
      "execution_count": 2,
      "metadata": {
        "id": "hCpOVzJdl8_p"
      },
      "outputs": [],
      "source": [
        "import numpy as np\n",
        "import random\n",
        "import io\n",
        "import pickle\n",
        "import pandas as pd\n",
        "\n",
        "import matplotlib.pyplot as plt\n",
        "import seaborn as sns\n",
        "\n",
        "import tensorflow as tf\n",
        "from tensorflow import keras\n",
        "from tensorflow.keras import layers\n",
        "\n",
        "from keras.utils.np_utils import to_categorical\n",
        "#from tensorflow.keras.utils import pad_sequences\n",
        "from keras_preprocessing.sequence import pad_sequences\n",
        "from keras.models import Sequential\n",
        "from keras.layers import Dense\n",
        "from keras.layers import LSTM\n",
        "from keras.layers import Embedding"
      ]
    },
    {
      "attachments": {},
      "cell_type": "markdown",
      "metadata": {
        "id": "8UPeRkrAmbF3"
      },
      "source": [
        "### Datos\n",
        "Utilizaremos como dataset críticas de compradores de ropa (eCommerce) los cuales puntuaron a cada prenda con un puntaje de 1 a 5 estrellas.\\\n",
        "Referencia del dataset: [LINK](https://www.kaggle.com/nicapotato/womens-ecommerce-clothing-reviews/version/1)"
      ]
    },
    {
      "cell_type": "code",
      "execution_count": 3,
      "metadata": {
        "colab": {
          "base_uri": "https://localhost:8080/"
        },
        "id": "C7jLvTU3lSyL",
        "outputId": "50e76c89-0f9e-42d6-b1cf-76a9b9690c87"
      },
      "outputs": [
        {
          "name": "stdout",
          "output_type": "stream",
          "text": [
            "El dataset ya se encuentra descargado\n"
          ]
        }
      ],
      "source": [
        "# Descargar la carpeta de dataset\n",
        "import os\n",
        "import gdown\n",
        "if os.access('clothing_ecommerce_reviews.csv', os.F_OK) is False:\n",
        "    url = 'https://drive.google.com/uc?id=1Urn1UFSrodN5BuW6-sc_igtaySGRwhV8'\n",
        "    output = 'clothing_ecommerce_reviews.csv'\n",
        "    gdown.download(url, output, quiet=False)\n",
        "else:\n",
        "    print(\"El dataset ya se encuentra descargado\")"
      ]
    },
    {
      "cell_type": "code",
      "execution_count": 4,
      "metadata": {
        "colab": {
          "base_uri": "https://localhost:8080/",
          "height": 206
        },
        "id": "o-SV1P3dnD1J",
        "outputId": "8cb838b3-ff42-431e-f740-a82b0202152c"
      },
      "outputs": [
        {
          "data": {
            "text/html": [
              "<div>\n",
              "<style scoped>\n",
              "    .dataframe tbody tr th:only-of-type {\n",
              "        vertical-align: middle;\n",
              "    }\n",
              "\n",
              "    .dataframe tbody tr th {\n",
              "        vertical-align: top;\n",
              "    }\n",
              "\n",
              "    .dataframe thead th {\n",
              "        text-align: right;\n",
              "    }\n",
              "</style>\n",
              "<table border=\"1\" class=\"dataframe\">\n",
              "  <thead>\n",
              "    <tr style=\"text-align: right;\">\n",
              "      <th></th>\n",
              "      <th>Clothing ID</th>\n",
              "      <th>Age</th>\n",
              "      <th>Title</th>\n",
              "      <th>Review Text</th>\n",
              "      <th>Rating</th>\n",
              "      <th>Recommended IND</th>\n",
              "      <th>Positive Feedback Count</th>\n",
              "      <th>Division Name</th>\n",
              "      <th>Department Name</th>\n",
              "      <th>Class Name</th>\n",
              "    </tr>\n",
              "  </thead>\n",
              "  <tbody>\n",
              "    <tr>\n",
              "      <th>0</th>\n",
              "      <td>767</td>\n",
              "      <td>33</td>\n",
              "      <td>NaN</td>\n",
              "      <td>Absolutely wonderful - silky and sexy and comf...</td>\n",
              "      <td>4</td>\n",
              "      <td>1</td>\n",
              "      <td>0</td>\n",
              "      <td>Initmates</td>\n",
              "      <td>Intimate</td>\n",
              "      <td>Intimates</td>\n",
              "    </tr>\n",
              "    <tr>\n",
              "      <th>1</th>\n",
              "      <td>1080</td>\n",
              "      <td>34</td>\n",
              "      <td>NaN</td>\n",
              "      <td>Love this dress!  it's sooo pretty.  i happene...</td>\n",
              "      <td>5</td>\n",
              "      <td>1</td>\n",
              "      <td>4</td>\n",
              "      <td>General</td>\n",
              "      <td>Dresses</td>\n",
              "      <td>Dresses</td>\n",
              "    </tr>\n",
              "    <tr>\n",
              "      <th>2</th>\n",
              "      <td>1077</td>\n",
              "      <td>60</td>\n",
              "      <td>Some major design flaws</td>\n",
              "      <td>I had such high hopes for this dress and reall...</td>\n",
              "      <td>3</td>\n",
              "      <td>0</td>\n",
              "      <td>0</td>\n",
              "      <td>General</td>\n",
              "      <td>Dresses</td>\n",
              "      <td>Dresses</td>\n",
              "    </tr>\n",
              "    <tr>\n",
              "      <th>3</th>\n",
              "      <td>1049</td>\n",
              "      <td>50</td>\n",
              "      <td>My favorite buy!</td>\n",
              "      <td>I love, love, love this jumpsuit. it's fun, fl...</td>\n",
              "      <td>5</td>\n",
              "      <td>1</td>\n",
              "      <td>0</td>\n",
              "      <td>General Petite</td>\n",
              "      <td>Bottoms</td>\n",
              "      <td>Pants</td>\n",
              "    </tr>\n",
              "    <tr>\n",
              "      <th>4</th>\n",
              "      <td>847</td>\n",
              "      <td>47</td>\n",
              "      <td>Flattering shirt</td>\n",
              "      <td>This shirt is very flattering to all due to th...</td>\n",
              "      <td>5</td>\n",
              "      <td>1</td>\n",
              "      <td>6</td>\n",
              "      <td>General</td>\n",
              "      <td>Tops</td>\n",
              "      <td>Blouses</td>\n",
              "    </tr>\n",
              "  </tbody>\n",
              "</table>\n",
              "</div>"
            ],
            "text/plain": [
              "   Clothing ID  Age                    Title  \\\n",
              "0          767   33                      NaN   \n",
              "1         1080   34                      NaN   \n",
              "2         1077   60  Some major design flaws   \n",
              "3         1049   50         My favorite buy!   \n",
              "4          847   47         Flattering shirt   \n",
              "\n",
              "                                         Review Text  Rating  Recommended IND  \\\n",
              "0  Absolutely wonderful - silky and sexy and comf...       4                1   \n",
              "1  Love this dress!  it's sooo pretty.  i happene...       5                1   \n",
              "2  I had such high hopes for this dress and reall...       3                0   \n",
              "3  I love, love, love this jumpsuit. it's fun, fl...       5                1   \n",
              "4  This shirt is very flattering to all due to th...       5                1   \n",
              "\n",
              "   Positive Feedback Count   Division Name Department Name Class Name  \n",
              "0                        0       Initmates        Intimate  Intimates  \n",
              "1                        4         General         Dresses    Dresses  \n",
              "2                        0         General         Dresses    Dresses  \n",
              "3                        0  General Petite         Bottoms      Pants  \n",
              "4                        6         General            Tops    Blouses  "
            ]
          },
          "execution_count": 4,
          "metadata": {},
          "output_type": "execute_result"
        }
      ],
      "source": [
        "# Armar el dataset\n",
        "df = pd.read_csv('clothing_ecommerce_reviews.csv')\n",
        "df.drop(columns = ['Unnamed: 0'], inplace = True)\n",
        "df.head()"
      ]
    },
    {
      "attachments": {},
      "cell_type": "markdown",
      "metadata": {
        "id": "q-OwSePKm-FK"
      },
      "source": [
        "### 1 - Limpieza de datos\n",
        "Alumno:\n",
        "- Del dataset unicamente utilizar las columnas \"Review Text\" y \"Rating.\n",
        "- Tranformar el rating 1-5 a una escala numérica de 0 a 4.\n",
        "\n"
      ]
    },
    {
      "cell_type": "code",
      "execution_count": 5,
      "metadata": {
        "colab": {
          "base_uri": "https://localhost:8080/",
          "height": 206
        },
        "id": "-hc7-AmYnPC3",
        "outputId": "579b8731-2a74-4096-88f0-5aea81168deb"
      },
      "outputs": [
        {
          "data": {
            "text/html": [
              "<div>\n",
              "<style scoped>\n",
              "    .dataframe tbody tr th:only-of-type {\n",
              "        vertical-align: middle;\n",
              "    }\n",
              "\n",
              "    .dataframe tbody tr th {\n",
              "        vertical-align: top;\n",
              "    }\n",
              "\n",
              "    .dataframe thead th {\n",
              "        text-align: right;\n",
              "    }\n",
              "</style>\n",
              "<table border=\"1\" class=\"dataframe\">\n",
              "  <thead>\n",
              "    <tr style=\"text-align: right;\">\n",
              "      <th></th>\n",
              "      <th>Review Text</th>\n",
              "      <th>Rating</th>\n",
              "    </tr>\n",
              "  </thead>\n",
              "  <tbody>\n",
              "    <tr>\n",
              "      <th>0</th>\n",
              "      <td>Absolutely wonderful - silky and sexy and comf...</td>\n",
              "      <td>3</td>\n",
              "    </tr>\n",
              "    <tr>\n",
              "      <th>1</th>\n",
              "      <td>Love this dress!  it's sooo pretty.  i happene...</td>\n",
              "      <td>4</td>\n",
              "    </tr>\n",
              "    <tr>\n",
              "      <th>2</th>\n",
              "      <td>I had such high hopes for this dress and reall...</td>\n",
              "      <td>2</td>\n",
              "    </tr>\n",
              "    <tr>\n",
              "      <th>3</th>\n",
              "      <td>I love, love, love this jumpsuit. it's fun, fl...</td>\n",
              "      <td>4</td>\n",
              "    </tr>\n",
              "    <tr>\n",
              "      <th>4</th>\n",
              "      <td>This shirt is very flattering to all due to th...</td>\n",
              "      <td>4</td>\n",
              "    </tr>\n",
              "  </tbody>\n",
              "</table>\n",
              "</div>"
            ],
            "text/plain": [
              "                                         Review Text  Rating\n",
              "0  Absolutely wonderful - silky and sexy and comf...       3\n",
              "1  Love this dress!  it's sooo pretty.  i happene...       4\n",
              "2  I had such high hopes for this dress and reall...       2\n",
              "3  I love, love, love this jumpsuit. it's fun, fl...       4\n",
              "4  This shirt is very flattering to all due to th...       4"
            ]
          },
          "execution_count": 5,
          "metadata": {},
          "output_type": "execute_result"
        }
      ],
      "source": [
        "df_reviews = df.loc[:, ['Review Text', 'Rating']].dropna()\n",
        "df_reviews['Rating'] = df_reviews['Rating'] - 1\n",
        "df_reviews.head()"
      ]
    },
    {
      "cell_type": "code",
      "execution_count": 6,
      "metadata": {
        "colab": {
          "base_uri": "https://localhost:8080/"
        },
        "id": "sZtvASVOn3ty",
        "outputId": "c86d8d03-9fdf-47a3-c1f5-cd087a4192be"
      },
      "outputs": [
        {
          "data": {
            "text/plain": [
              "4    12540\n",
              "3     4908\n",
              "2     2823\n",
              "1     1549\n",
              "0      821\n",
              "Name: Rating, dtype: int64"
            ]
          },
          "execution_count": 6,
          "metadata": {},
          "output_type": "execute_result"
        }
      ],
      "source": [
        "# Alumno: Observar como está distribuido el dataset respecto a la columna Rating\n",
        "# es decir, observar que tan balanceado se encuentra respecot a cada clase\n",
        "df_reviews['Rating'].value_counts()"
      ]
    },
    {
      "cell_type": "code",
      "execution_count": 7,
      "metadata": {
        "colab": {
          "base_uri": "https://localhost:8080/",
          "height": 449
        },
        "id": "9pBe8Q2kk3nx",
        "outputId": "d6f797af-f6f2-4cc9-a6c4-d86520549b11"
      },
      "outputs": [
        {
          "data": {
            "image/png": "[encoded data removed]",
            "text/plain": [
              "<Figure size 640x480 with 1 Axes>"
            ]
          },
          "metadata": {},
          "output_type": "display_data"
        }
      ],
      "source": [
        "sns.countplot(x='Rating', data=df_reviews)\n",
        "plt.show()"
      ]
    },
    {
      "cell_type": "code",
      "execution_count": 8,
      "metadata": {
        "colab": {
          "base_uri": "https://localhost:8080/"
        },
        "id": "gVJ_RVi4o1h3",
        "outputId": "5301b4ea-1f9d-4756-eef8-8ec99b979b1b"
      },
      "outputs": [
        {
          "data": {
            "text/plain": [
              "(22641,)"
            ]
          },
          "execution_count": 8,
          "metadata": {},
          "output_type": "execute_result"
        }
      ],
      "source": [
        "# Alumno: tomar la columna de las review y almacenarlo todo en un vector numpy de reviews\n",
        "text_sequences = df_reviews['Review Text'].values\n",
        "text_sequences.shape"
      ]
    },
    {
      "cell_type": "code",
      "execution_count": 9,
      "metadata": {
        "colab": {
          "base_uri": "https://localhost:8080/"
        },
        "id": "4nT5Un_co65Q",
        "outputId": "860f0d1b-4d21-42d6-a02d-5f22325d96d1"
      },
      "outputs": [
        {
          "data": {
            "text/plain": [
              "22641"
            ]
          },
          "execution_count": 9,
          "metadata": {},
          "output_type": "execute_result"
        }
      ],
      "source": [
        "# Alumno: Cuantas reviews (rows) hay para evaluar?\n",
        "len(text_sequences)"
      ]
    },
    {
      "cell_type": "code",
      "execution_count": 10,
      "metadata": {
        "id": "HP5uN9tqpHu_"
      },
      "outputs": [],
      "source": [
        "# Alumno: Concatenar todas las reviews para armar el corpus\n",
        "corpus = ' '.join(text_sequences)"
      ]
    },
    {
      "cell_type": "code",
      "execution_count": 11,
      "metadata": {
        "colab": {
          "base_uri": "https://localhost:8080/"
        },
        "id": "FEzmePgdpf74",
        "outputId": "04500c17-ca60-4cdd-ed81-1b890a26bdfc"
      },
      "outputs": [
        {
          "data": {
            "text/plain": [
              "7011643"
            ]
          },
          "execution_count": 11,
          "metadata": {},
          "output_type": "execute_result"
        }
      ],
      "source": [
        "# Alumno: ¿Cuál es la longitud de ese corpus?\n",
        "len(corpus)"
      ]
    },
    {
      "cell_type": "code",
      "execution_count": 12,
      "metadata": {
        "id": "MYeJLdDmpvOe"
      },
      "outputs": [],
      "source": [
        "# Alumno: Utilizar \"text_to_word_sequence\" para separar las palabras en tokens\n",
        "# recordar que text_to_word_sequence automaticamente quita los signos de puntuacion y pasa el texto a lowercase\n",
        "from keras.preprocessing.text import text_to_word_sequence\n",
        "tokens = text_to_word_sequence(corpus)"
      ]
    },
    {
      "cell_type": "code",
      "execution_count": 13,
      "metadata": {
        "colab": {
          "base_uri": "https://localhost:8080/"
        },
        "id": "M6L-fnWAp_lA",
        "outputId": "000e8d5d-6b50-41ef-d8e3-f46a5e870a1a"
      },
      "outputs": [
        {
          "data": {
            "text/plain": [
              "['absolutely',\n",
              " 'wonderful',\n",
              " 'silky',\n",
              " 'and',\n",
              " 'sexy',\n",
              " 'and',\n",
              " 'comfortable',\n",
              " 'love',\n",
              " 'this',\n",
              " 'dress',\n",
              " \"it's\",\n",
              " 'sooo',\n",
              " 'pretty',\n",
              " 'i',\n",
              " 'happened',\n",
              " 'to',\n",
              " 'find',\n",
              " 'it',\n",
              " 'in',\n",
              " 'a']"
            ]
          },
          "execution_count": 13,
          "metadata": {},
          "output_type": "execute_result"
        }
      ],
      "source": [
        "# Alumno: Dar un vistazo a los primeros 20 tokens/palabras\n",
        "tokens[:20]"
      ]
    },
    {
      "cell_type": "code",
      "execution_count": 14,
      "metadata": {
        "colab": {
          "base_uri": "https://localhost:8080/"
        },
        "id": "-8QgwwMUqG0d",
        "outputId": "ecc05045-6c32-4d4c-f35b-418bbbc628e9"
      },
      "outputs": [
        {
          "data": {
            "text/plain": [
              "1372203"
            ]
          },
          "execution_count": 14,
          "metadata": {},
          "output_type": "execute_result"
        }
      ],
      "source": [
        "# Alumno: ¿Cuántos tokens/palabras hay?\n",
        "len(tokens)"
      ]
    },
    {
      "cell_type": "code",
      "execution_count": 15,
      "metadata": {
        "id": "TFukNZdOsZ8_"
      },
      "outputs": [],
      "source": [
        "# Alumno: Tokenizar las palabras con el Tokenizer de Keras\n",
        "# Definir una máxima cantidad de palabras a utilizar:\n",
        "# num_words --> the maximum number of words to keep, based on word frequency.\n",
        "# Only the most common num_words-1 words will be kept.\n",
        "from keras.preprocessing.text import Tokenizer\n",
        "num_words = 2000\n",
        "vocab_size = num_words\n",
        "\n",
        "tok = Tokenizer(num_words)\n",
        "tok.fit_on_texts(tokens)"
      ]
    },
    {
      "cell_type": "code",
      "execution_count": 16,
      "metadata": {
        "colab": {
          "base_uri": "https://localhost:8080/"
        },
        "id": "JnR1tlqZy94X",
        "outputId": "5b484c58-f34d-4b9c-decf-df133dd830ce"
      },
      "outputs": [
        {
          "data": {
            "text/plain": [
              "14847"
            ]
          },
          "execution_count": 16,
          "metadata": {},
          "output_type": "execute_result"
        }
      ],
      "source": [
        "# Alumno: Obtener el diccionario de palabra (word) a índice\n",
        "# y observar la cantidad total del vocabulario\n",
        "word_index = tok.word_index\n",
        "len(word_index)"
      ]
    },
    {
      "cell_type": "code",
      "execution_count": 17,
      "metadata": {
        "id": "AvWzzSretQXf"
      },
      "outputs": [],
      "source": [
        "# Alumno: Convertir las palabras/tokens a números\n",
        "sequences = tok.texts_to_sequences(text_sequences)"
      ]
    },
    {
      "cell_type": "code",
      "execution_count": 18,
      "metadata": {
        "colab": {
          "base_uri": "https://localhost:8080/"
        },
        "id": "za73M5SRtbrP",
        "outputId": "473c75f3-68f5-493c-f3e1-57ca42bb5e90"
      },
      "outputs": [
        {
          "name": "stdout",
          "output_type": "stream",
          "text": [
            "el máximo es 115\n"
          ]
        }
      ],
      "source": [
        "# Alumno: Determinar cual es la oración más larga\n",
        "s_lenght = [len(s) for s in sequences]\n",
        "print(f'el máximo es {max(s_lenght)}')"
      ]
    },
    {
      "cell_type": "code",
      "execution_count": 19,
      "metadata": {
        "id": "oCkO9Wc9tls1"
      },
      "outputs": [],
      "source": [
        "# Alumno: Realizar padding de las sentencias al mismo tamaño\n",
        "# tomando de referencia la máxima sentencia\n",
        "from keras_preprocessing.sequence import pad_sequences\n",
        "maxlen = 115"
      ]
    },
    {
      "cell_type": "code",
      "execution_count": 20,
      "metadata": {
        "id": "kGHHabVdt_aa"
      },
      "outputs": [],
      "source": [
        "# Alumno: Observar las dimensiones de la variable input\n",
        "X = pad_sequences(sequences, padding='pre', maxlen=maxlen)"
      ]
    },
    {
      "cell_type": "code",
      "execution_count": 21,
      "metadata": {
        "colab": {
          "base_uri": "https://localhost:8080/"
        },
        "id": "llVM-tzQo9_F",
        "outputId": "3394cbb3-621b-47c3-e705-c90769d9612d"
      },
      "outputs": [
        {
          "name": "stdout",
          "output_type": "stream",
          "text": [
            "(22641,)\n"
          ]
        }
      ],
      "source": [
        "# Alumno tomar la columna rating y alcemacenarla en una variable \"y\" transformada a oneHotEncoding\n",
        "# Su shape debe ser equivalente la cantidad de rows del corpus y a la cantidad\n",
        "# de clases que se deseen predecir (en este ejemplo son 5)\n",
        "y = df_reviews['Rating'].values\n",
        "print(y.shape)"
      ]
    },
    {
      "cell_type": "code",
      "execution_count": 22,
      "metadata": {
        "colab": {
          "base_uri": "https://localhost:8080/"
        },
        "id": "0NCNGNJ_qqGv",
        "outputId": "005ced2a-3964-4a91-87c1-a28a4266c2ee"
      },
      "outputs": [
        {
          "data": {
            "text/plain": [
              "array([3, 4, 2, 4, 4, 1, 4, 3, 4, 4])"
            ]
          },
          "execution_count": 22,
          "metadata": {},
          "output_type": "execute_result"
        }
      ],
      "source": [
        "y[:10]"
      ]
    },
    {
      "cell_type": "code",
      "execution_count": 23,
      "metadata": {
        "colab": {
          "base_uri": "https://localhost:8080/"
        },
        "id": "p01nOFwCsz1-",
        "outputId": "e5108aa8-01b0-4a2f-c66e-410e2b06a3f4"
      },
      "outputs": [
        {
          "data": {
            "text/plain": [
              "array([[0., 0., 0., 1., 0.],\n",
              "       [0., 0., 0., 0., 1.],\n",
              "       [0., 0., 1., 0., 0.],\n",
              "       [0., 0., 0., 0., 1.],\n",
              "       [0., 0., 0., 0., 1.],\n",
              "       [0., 1., 0., 0., 0.],\n",
              "       [0., 0., 0., 0., 1.],\n",
              "       [0., 0., 0., 1., 0.],\n",
              "       [0., 0., 0., 0., 1.],\n",
              "       [0., 0., 0., 0., 1.]])"
            ]
          },
          "execution_count": 23,
          "metadata": {},
          "output_type": "execute_result"
        }
      ],
      "source": [
        "from sklearn.preprocessing import OneHotEncoder\n",
        "enc = OneHotEncoder(handle_unknown='ignore')\n",
        "enc.fit(y.reshape(-1, 1))\n",
        "y = enc.fit_transform(y.reshape(-1,1)).toarray()\n",
        "y[:10]\n"
      ]
    },
    {
      "cell_type": "code",
      "execution_count": 24,
      "metadata": {
        "id": "Rmz9A6n4uK4V"
      },
      "outputs": [],
      "source": [
        "# Alumno: Dividir los datos en train y test\n",
        "from sklearn.model_selection import train_test_split\n",
        "X_train, X_test, y_train, y_test = train_test_split(X, y, test_size=0.2, random_state=4242)\n"
      ]
    },
    {
      "cell_type": "code",
      "execution_count": 25,
      "metadata": {
        "colab": {
          "base_uri": "https://localhost:8080/"
        },
        "id": "B-pq42P6qv2f",
        "outputId": "72c13954-2f0e-413a-9ec3-a89dfe54d87b"
      },
      "outputs": [
        {
          "data": {
            "text/plain": [
              "array([[0., 0., 0., 1., 0.],\n",
              "       [0., 0., 1., 0., 0.],\n",
              "       [0., 0., 0., 0., 1.],\n",
              "       [0., 0., 0., 0., 1.],\n",
              "       [0., 0., 1., 0., 0.],\n",
              "       [0., 0., 1., 0., 0.],\n",
              "       [0., 0., 0., 0., 1.],\n",
              "       [0., 0., 0., 0., 1.],\n",
              "       [0., 1., 0., 0., 0.],\n",
              "       [0., 0., 0., 1., 0.]])"
            ]
          },
          "execution_count": 25,
          "metadata": {},
          "output_type": "execute_result"
        }
      ],
      "source": [
        "y_train[:10]"
      ]
    },
    {
      "cell_type": "code",
      "execution_count": 26,
      "metadata": {
        "colab": {
          "base_uri": "https://localhost:8080/"
        },
        "id": "EcDPlhEouQ9E",
        "outputId": "9746634d-d4dc-4c37-d362-0451308b5232"
      },
      "outputs": [
        {
          "name": "stdout",
          "output_type": "stream",
          "text": [
            "in_shape 115 , out_shape 5\n"
          ]
        }
      ],
      "source": [
        "# Alumno: determinar la dimensiones de entrada y salida\n",
        "\n",
        "input_shape = X_train.shape[1] # max input sentence len\n",
        "output_shape = y.shape[1]\n",
        "print(\"in_shape\", input_shape, \", out_shape\", output_shape)"
      ]
    },
    {
      "attachments": {},
      "cell_type": "markdown",
      "metadata": {
        "id": "NpbQHExL6OTu"
      },
      "source": [
        "### 2 - Entrenar el modelo con Embeddings + LSTM"
      ]
    },
    {
      "cell_type": "code",
      "execution_count": 27,
      "metadata": {
        "colab": {
          "base_uri": "https://localhost:8080/"
        },
        "id": "NUkuWBsM6cx3",
        "outputId": "5e7f142d-0e36-4fe8-d264-26d2f5b4d8e0"
      },
      "outputs": [
        {
          "name": "stderr",
          "output_type": "stream",
          "text": [
            "/home/rafael/miniconda3/envs/ceia_nlp/lib/python3.10/site-packages/tensorflow_addons/utils/tfa_eol_msg.py:23: UserWarning: \n",
            "\n",
            "TensorFlow Addons (TFA) has ended development and introduction of new features.\n",
            "TFA has entered a minimal maintenance and release mode until a planned end of life in May 2024.\n",
            "Please modify downstream libraries to take dependencies from other repositories in our TensorFlow community (e.g. Keras, Keras-CV, and Keras-NLP). \n",
            "\n",
            "For more information see: https://github.com/tensorflow/addons/issues/2807 \n",
            "\n",
            "  warnings.warn(\n",
            "/home/rafael/miniconda3/envs/ceia_nlp/lib/python3.10/site-packages/tensorflow_addons/utils/ensure_tf_install.py:53: UserWarning: Tensorflow Addons supports using Python ops for all Tensorflow versions above or equal to 2.10.0 and strictly below 2.13.0 (nightly versions are not supported). \n",
            " The versions of TensorFlow you are currently using is 2.8.0 and is not supported. \n",
            "Some things might work, some things might not.\n",
            "If you were to encounter a bug, do not file an issue.\n",
            "If you want to make sure you're using a tested and supported configuration, either change the TensorFlow version or the TensorFlow Addons's version. \n",
            "You can find the compatibility matrix in TensorFlow Addon's readme:\n",
            "https://github.com/tensorflow/addons\n",
            "  warnings.warn(\n",
            "2023-06-19 21:30:34.069112: E tensorflow/stream_executor/cuda/cuda_driver.cc:271] failed call to cuInit: CUDA_ERROR_UNKNOWN: unknown error\n",
            "2023-06-19 21:30:34.069169: I tensorflow/stream_executor/cuda/cuda_diagnostics.cc:169] retrieving CUDA diagnostic information for host: pop-os\n",
            "2023-06-19 21:30:34.069173: I tensorflow/stream_executor/cuda/cuda_diagnostics.cc:176] hostname: pop-os\n",
            "2023-06-19 21:30:34.069369: I tensorflow/stream_executor/cuda/cuda_diagnostics.cc:200] libcuda reported version is: 525.105.17\n",
            "2023-06-19 21:30:34.069389: I tensorflow/stream_executor/cuda/cuda_diagnostics.cc:204] kernel reported version is: 525.105.17\n",
            "2023-06-19 21:30:34.069392: I tensorflow/stream_executor/cuda/cuda_diagnostics.cc:310] kernel version seems to match DSO: 525.105.17\n",
            "2023-06-19 21:30:34.069838: I tensorflow/core/platform/cpu_feature_guard.cc:151] This TensorFlow binary is optimized with oneAPI Deep Neural Network Library (oneDNN) to use the following CPU instructions in performance-critical operations:  AVX2 AVX512F FMA\n",
            "To enable them in other operations, rebuild TensorFlow with the appropriate compiler flags.\n"
          ]
        },
        {
          "name": "stdout",
          "output_type": "stream",
          "text": [
            "Model: \"sequential\"\n",
            "_________________________________________________________________\n",
            " Layer (type)                Output Shape              Param #   \n",
            "=================================================================\n",
            " embedding (Embedding)       (None, 115, 50)           100050    \n",
            "                                                                 \n",
            " lstm (LSTM)                 (None, 115, 128)          91648     \n",
            "                                                                 \n",
            " dropout (Dropout)           (None, 115, 128)          0         \n",
            "                                                                 \n",
            " lstm_1 (LSTM)               (None, 115, 128)          131584    \n",
            "                                                                 \n",
            " dropout_1 (Dropout)         (None, 115, 128)          0         \n",
            "                                                                 \n",
            " lstm_2 (LSTM)               (None, 128)               131584    \n",
            "                                                                 \n",
            " dense (Dense)               (None, 64)                8256      \n",
            "                                                                 \n",
            " dropout_2 (Dropout)         (None, 64)                0         \n",
            "                                                                 \n",
            " dense_1 (Dense)             (None, 5)                 325       \n",
            "                                                                 \n",
            "=================================================================\n",
            "Total params: 463,447\n",
            "Trainable params: 463,447\n",
            "Non-trainable params: 0\n",
            "_________________________________________________________________\n"
          ]
        }
      ],
      "source": [
        "# Alumno: Entrene su modelo con LSTM entrenando sus propios embeddings\n",
        "# o utilizando embeddings pre-entrenados.\n",
        "from keras.layers import LSTM\n",
        "from keras.layers import Embedding\n",
        "from keras.layers import Dropout\n",
        "from keras.layers import Bidirectional\n",
        "import tensorflow_addons as tfa\n",
        "\n",
        "model = Sequential()\n",
        "# input_dim = vocab_size (max n_words)\n",
        "# input_length = setencias con padding a 200\n",
        "# output_dim = 50 --> crear embeddings de tamaño 50\n",
        "\n",
        "model.add(Embedding(input_dim=vocab_size+1, output_dim=50, input_length=input_shape))\n",
        "model.add(LSTM(units=128, return_sequences=True))\n",
        "model.add(Dropout(0.3))\n",
        "model.add(LSTM(units=128, return_sequences=True))\n",
        "model.add(Dropout(0.3))\n",
        "model.add(LSTM(units=128))\n",
        "model.add(Dense(units=64, activation='relu'))\n",
        "model.add(Dropout(rate=0.3))\n",
        "model.add(Dense(units=output_shape, activation='softmax'))\n",
        "\n",
        "model.compile(optimizer=tf.keras.optimizers.Adam(learning_rate=1e-5),\n",
        "              loss='categorical_crossentropy',\n",
        "              metrics=[tfa.metrics.F1Score(num_classes=5, threshold=0.5)])\n",
        "\n",
        "model.summary()"
      ]
    },
    {
      "cell_type": "code",
      "execution_count": 28,
      "metadata": {
        "colab": {
          "base_uri": "https://localhost:8080/",
          "height": 865
        },
        "id": "xAqNsFjsm6Nh",
        "outputId": "dae260fe-2911-4069-b2cd-8a5111de3e09"
      },
      "outputs": [
        {
          "data": {
            "image/png": "[encoded data removed]",
            "text/plain": [
              "<IPython.core.display.Image object>"
            ]
          },
          "execution_count": 28,
          "metadata": {},
          "output_type": "execute_result"
        }
      ],
      "source": [
        "from keras.utils.vis_utils import plot_model\n",
        "plot_model(model, to_file='model_plot.png', show_shapes=True, show_layer_names=True)"
      ]
    },
    {
      "cell_type": "code",
      "execution_count": 29,
      "metadata": {
        "colab": {
          "base_uri": "https://localhost:8080/"
        },
        "id": "n3xWCaFK-hYi",
        "outputId": "fe43906b-c36d-4e2b-a96b-b60e52e2ca79"
      },
      "outputs": [
        {
          "data": {
            "text/plain": [
              "((115,), (5,))"
            ]
          },
          "execution_count": 29,
          "metadata": {},
          "output_type": "execute_result"
        }
      ],
      "source": [
        "X_train[0].shape, y_train[0].shape"
      ]
    },
    {
      "cell_type": "code",
      "execution_count": 30,
      "metadata": {
        "colab": {
          "base_uri": "https://localhost:8080/"
        },
        "id": "7fP-DguUnAU8",
        "outputId": "c90cd01f-b543-447e-aa88-a2443efba515"
      },
      "outputs": [
        {
          "name": "stdout",
          "output_type": "stream",
          "text": [
            "Epoch 1/100\n",
            "453/453 [==============================] - 49s 104ms/step - loss: 1.4196 - f1_score: 0.0835 - val_loss: 1.2472 - val_f1_score: 0.1307\n",
            "Epoch 2/100\n",
            "453/453 [==============================] - 45s 100ms/step - loss: 1.2374 - f1_score: 0.1253 - val_loss: 1.2311 - val_f1_score: 0.1418\n",
            "Epoch 3/100\n",
            "453/453 [==============================] - 47s 103ms/step - loss: 1.2237 - f1_score: 0.1295 - val_loss: 1.2153 - val_f1_score: 0.1459\n",
            "Epoch 4/100\n",
            "453/453 [==============================] - 56s 124ms/step - loss: 1.1933 - f1_score: 0.1369 - val_loss: 1.1772 - val_f1_score: 0.1477\n",
            "Epoch 5/100\n",
            "453/453 [==============================] - 56s 124ms/step - loss: 1.1264 - f1_score: 0.1476 - val_loss: 1.0890 - val_f1_score: 0.1548\n",
            "Epoch 6/100\n",
            "453/453 [==============================] - 55s 121ms/step - loss: 1.0680 - f1_score: 0.1521 - val_loss: 1.0609 - val_f1_score: 0.1564\n",
            "Epoch 7/100\n",
            "453/453 [==============================] - 55s 122ms/step - loss: 1.0401 - f1_score: 0.1559 - val_loss: 1.0460 - val_f1_score: 0.1567\n",
            "Epoch 8/100\n",
            "453/453 [==============================] - 55s 123ms/step - loss: 1.0244 - f1_score: 0.1567 - val_loss: 1.0378 - val_f1_score: 0.1591\n",
            "Epoch 9/100\n",
            "453/453 [==============================] - 58s 127ms/step - loss: 1.0095 - f1_score: 0.1582 - val_loss: 1.0260 - val_f1_score: 0.1597\n",
            "Epoch 10/100\n",
            "453/453 [==============================] - 58s 127ms/step - loss: 0.9962 - f1_score: 0.1588 - val_loss: 1.0139 - val_f1_score: 0.1602\n",
            "Epoch 11/100\n",
            "453/453 [==============================] - 57s 127ms/step - loss: 0.9832 - f1_score: 0.1600 - val_loss: 1.0047 - val_f1_score: 0.1620\n",
            "Epoch 12/100\n",
            "453/453 [==============================] - 54s 120ms/step - loss: 0.9752 - f1_score: 0.1602 - val_loss: 0.9953 - val_f1_score: 0.1609\n",
            "Epoch 13/100\n",
            "453/453 [==============================] - 54s 120ms/step - loss: 0.9649 - f1_score: 0.1614 - val_loss: 0.9896 - val_f1_score: 0.1628\n",
            "Epoch 14/100\n",
            "453/453 [==============================] - 54s 120ms/step - loss: 0.9522 - f1_score: 0.1621 - val_loss: 0.9818 - val_f1_score: 0.1637\n",
            "Epoch 15/100\n",
            "453/453 [==============================] - 55s 122ms/step - loss: 0.9439 - f1_score: 0.1624 - val_loss: 0.9744 - val_f1_score: 0.1630\n",
            "Epoch 16/100\n",
            "453/453 [==============================] - 54s 120ms/step - loss: 0.9370 - f1_score: 0.1631 - val_loss: 0.9694 - val_f1_score: 0.1631\n",
            "Epoch 17/100\n",
            "453/453 [==============================] - 54s 120ms/step - loss: 0.9316 - f1_score: 0.1648 - val_loss: 0.9676 - val_f1_score: 0.1597\n",
            "Epoch 18/100\n",
            "453/453 [==============================] - 54s 120ms/step - loss: 0.9224 - f1_score: 0.1642 - val_loss: 0.9608 - val_f1_score: 0.1637\n",
            "Epoch 19/100\n",
            "453/453 [==============================] - 55s 121ms/step - loss: 0.9193 - f1_score: 0.1650 - val_loss: 0.9596 - val_f1_score: 0.1652\n",
            "Epoch 20/100\n",
            "453/453 [==============================] - 55s 120ms/step - loss: 0.9116 - f1_score: 0.1659 - val_loss: 0.9558 - val_f1_score: 0.1644\n",
            "Epoch 21/100\n",
            "453/453 [==============================] - 55s 121ms/step - loss: 0.9073 - f1_score: 0.1659 - val_loss: 0.9545 - val_f1_score: 0.1653\n",
            "Epoch 22/100\n",
            "453/453 [==============================] - 47s 105ms/step - loss: 0.9030 - f1_score: 0.1662 - val_loss: 0.9493 - val_f1_score: 0.1650\n",
            "Epoch 23/100\n",
            "453/453 [==============================] - 48s 106ms/step - loss: 0.8967 - f1_score: 0.1670 - val_loss: 0.9523 - val_f1_score: 0.1613\n",
            "Epoch 24/100\n",
            "453/453 [==============================] - 48s 106ms/step - loss: 0.8950 - f1_score: 0.1681 - val_loss: 0.9448 - val_f1_score: 0.1649\n",
            "Epoch 25/100\n",
            "453/453 [==============================] - 49s 109ms/step - loss: 0.8871 - f1_score: 0.1704 - val_loss: 0.9528 - val_f1_score: 0.1665\n",
            "Epoch 26/100\n",
            "453/453 [==============================] - 49s 109ms/step - loss: 0.8860 - f1_score: 0.1691 - val_loss: 0.9627 - val_f1_score: 0.1658\n",
            "Epoch 27/100\n",
            "453/453 [==============================] - 60s 133ms/step - loss: 0.8832 - f1_score: 0.1688 - val_loss: 0.9419 - val_f1_score: 0.1641\n",
            "Epoch 28/100\n",
            "453/453 [==============================] - 60s 132ms/step - loss: 0.8748 - f1_score: 0.1711 - val_loss: 0.9412 - val_f1_score: 0.1645\n",
            "Epoch 29/100\n",
            "453/453 [==============================] - 60s 133ms/step - loss: 0.8754 - f1_score: 0.1690 - val_loss: 0.9409 - val_f1_score: 0.1651\n",
            "Epoch 30/100\n",
            "453/453 [==============================] - 60s 133ms/step - loss: 0.8707 - f1_score: 0.1727 - val_loss: 0.9443 - val_f1_score: 0.1660\n",
            "Epoch 31/100\n",
            "453/453 [==============================] - 48s 106ms/step - loss: 0.8699 - f1_score: 0.1759 - val_loss: 0.9383 - val_f1_score: 0.1646\n",
            "Epoch 32/100\n",
            "453/453 [==============================] - 48s 106ms/step - loss: 0.8691 - f1_score: 0.1740 - val_loss: 0.9385 - val_f1_score: 0.1641\n",
            "Epoch 33/100\n",
            "453/453 [==============================] - 52s 115ms/step - loss: 0.8589 - f1_score: 0.1747 - val_loss: 0.9476 - val_f1_score: 0.1658\n",
            "Epoch 34/100\n",
            "453/453 [==============================] - 60s 132ms/step - loss: 0.8565 - f1_score: 0.1783 - val_loss: 0.9460 - val_f1_score: 0.1689\n",
            "Epoch 35/100\n",
            "453/453 [==============================] - 45s 99ms/step - loss: 0.8547 - f1_score: 0.1804 - val_loss: 0.9421 - val_f1_score: 0.1674\n",
            "Epoch 36/100\n",
            "453/453 [==============================] - 47s 104ms/step - loss: 0.8496 - f1_score: 0.1824 - val_loss: 0.9488 - val_f1_score: 0.1701\n",
            "Epoch 37/100\n",
            "453/453 [==============================] - 62s 137ms/step - loss: 0.8514 - f1_score: 0.1856 - val_loss: 0.9385 - val_f1_score: 0.1706\n",
            "Epoch 38/100\n",
            "453/453 [==============================] - 61s 135ms/step - loss: 0.8487 - f1_score: 0.1836 - val_loss: 0.9391 - val_f1_score: 0.1730\n",
            "Epoch 39/100\n",
            "453/453 [==============================] - 54s 119ms/step - loss: 0.8459 - f1_score: 0.1926 - val_loss: 0.9616 - val_f1_score: 0.1752\n",
            "Epoch 40/100\n",
            "453/453 [==============================] - 49s 108ms/step - loss: 0.8454 - f1_score: 0.1905 - val_loss: 0.9527 - val_f1_score: 0.1717\n",
            "Epoch 41/100\n",
            "453/453 [==============================] - 48s 106ms/step - loss: 0.8422 - f1_score: 0.1936 - val_loss: 0.9462 - val_f1_score: 0.1756\n",
            "Epoch 42/100\n",
            "453/453 [==============================] - 54s 119ms/step - loss: 0.8422 - f1_score: 0.1935 - val_loss: 0.9396 - val_f1_score: 0.1708\n",
            "Epoch 43/100\n",
            "453/453 [==============================] - 52s 114ms/step - loss: 0.8379 - f1_score: 0.1985 - val_loss: 0.9543 - val_f1_score: 0.1826\n",
            "Epoch 44/100\n",
            "453/453 [==============================] - 49s 109ms/step - loss: 0.8387 - f1_score: 0.1980 - val_loss: 0.9407 - val_f1_score: 0.1701\n",
            "Epoch 45/100\n",
            "453/453 [==============================] - 49s 109ms/step - loss: 0.8353 - f1_score: 0.2004 - val_loss: 0.9415 - val_f1_score: 0.1803\n",
            "Epoch 46/100\n",
            "453/453 [==============================] - 49s 108ms/step - loss: 0.8326 - f1_score: 0.1979 - val_loss: 0.9456 - val_f1_score: 0.1797\n",
            "Epoch 47/100\n",
            "453/453 [==============================] - 55s 121ms/step - loss: 0.8329 - f1_score: 0.2007 - val_loss: 0.9651 - val_f1_score: 0.1771\n",
            "Epoch 48/100\n",
            "453/453 [==============================] - 54s 120ms/step - loss: 0.8302 - f1_score: 0.2002 - val_loss: 0.9483 - val_f1_score: 0.1805\n",
            "Epoch 49/100\n",
            "453/453 [==============================] - 54s 120ms/step - loss: 0.8282 - f1_score: 0.2015 - val_loss: 0.9550 - val_f1_score: 0.1713\n",
            "Epoch 50/100\n",
            "453/453 [==============================] - 55s 120ms/step - loss: 0.8297 - f1_score: 0.2021 - val_loss: 0.9441 - val_f1_score: 0.1762\n",
            "Epoch 51/100\n",
            "453/453 [==============================] - 54s 120ms/step - loss: 0.8263 - f1_score: 0.2040 - val_loss: 0.9505 - val_f1_score: 0.1844\n",
            "Epoch 52/100\n",
            "453/453 [==============================] - 54s 120ms/step - loss: 0.8255 - f1_score: 0.2041 - val_loss: 0.9524 - val_f1_score: 0.1785\n",
            "Epoch 53/100\n",
            "453/453 [==============================] - 55s 121ms/step - loss: 0.8248 - f1_score: 0.2064 - val_loss: 0.9582 - val_f1_score: 0.1840\n",
            "Epoch 54/100\n",
            "453/453 [==============================] - 54s 120ms/step - loss: 0.8223 - f1_score: 0.2084 - val_loss: 0.9466 - val_f1_score: 0.1757\n",
            "Epoch 55/100\n",
            "453/453 [==============================] - 53s 116ms/step - loss: 0.8213 - f1_score: 0.2049 - val_loss: 0.9544 - val_f1_score: 0.1838\n",
            "Epoch 56/100\n",
            "453/453 [==============================] - 54s 119ms/step - loss: 0.8188 - f1_score: 0.2099 - val_loss: 0.9560 - val_f1_score: 0.1781\n",
            "Epoch 57/100\n",
            "453/453 [==============================] - 54s 119ms/step - loss: 0.8183 - f1_score: 0.2107 - val_loss: 0.9533 - val_f1_score: 0.1825\n",
            "Epoch 58/100\n",
            "453/453 [==============================] - 54s 120ms/step - loss: 0.8150 - f1_score: 0.2130 - val_loss: 0.9512 - val_f1_score: 0.1834\n",
            "Epoch 59/100\n",
            "453/453 [==============================] - 54s 119ms/step - loss: 0.8191 - f1_score: 0.2084 - val_loss: 0.9531 - val_f1_score: 0.1754\n",
            "Epoch 60/100\n",
            "453/453 [==============================] - 55s 121ms/step - loss: 0.8173 - f1_score: 0.2098 - val_loss: 0.9581 - val_f1_score: 0.1843\n",
            "Epoch 61/100\n",
            "453/453 [==============================] - 54s 120ms/step - loss: 0.8165 - f1_score: 0.2079 - val_loss: 0.9515 - val_f1_score: 0.1828\n",
            "Epoch 62/100\n",
            "453/453 [==============================] - 54s 119ms/step - loss: 0.8140 - f1_score: 0.2101 - val_loss: 0.9697 - val_f1_score: 0.1852\n",
            "Epoch 63/100\n",
            "453/453 [==============================] - 53s 116ms/step - loss: 0.8144 - f1_score: 0.2128 - val_loss: 0.9584 - val_f1_score: 0.1844\n",
            "Epoch 64/100\n",
            "453/453 [==============================] - 54s 118ms/step - loss: 0.8131 - f1_score: 0.2134 - val_loss: 0.9551 - val_f1_score: 0.1920\n",
            "Epoch 65/100\n",
            "453/453 [==============================] - 69s 152ms/step - loss: 0.8141 - f1_score: 0.2132 - val_loss: 0.9636 - val_f1_score: 0.1846\n",
            "Epoch 66/100\n",
            "453/453 [==============================] - 72s 159ms/step - loss: 0.8142 - f1_score: 0.2115 - val_loss: 0.9609 - val_f1_score: 0.1807\n",
            "Epoch 67/100\n",
            "453/453 [==============================] - 84s 186ms/step - loss: 0.8095 - f1_score: 0.2142 - val_loss: 0.9615 - val_f1_score: 0.1858\n",
            "Epoch 68/100\n",
            "453/453 [==============================] - 90s 200ms/step - loss: 0.8119 - f1_score: 0.2159 - val_loss: 0.9584 - val_f1_score: 0.1815\n",
            "Epoch 69/100\n",
            "453/453 [==============================] - 103s 227ms/step - loss: 0.8068 - f1_score: 0.2150 - val_loss: 0.9605 - val_f1_score: 0.1868\n",
            "Epoch 70/100\n",
            "453/453 [==============================] - 100s 220ms/step - loss: 0.8079 - f1_score: 0.2208 - val_loss: 0.9615 - val_f1_score: 0.1854\n",
            "Epoch 71/100\n",
            "453/453 [==============================] - 91s 200ms/step - loss: 0.8040 - f1_score: 0.2187 - val_loss: 0.9660 - val_f1_score: 0.1882\n",
            "Epoch 72/100\n",
            "453/453 [==============================] - 91s 202ms/step - loss: 0.8076 - f1_score: 0.2176 - val_loss: 0.9619 - val_f1_score: 0.1879\n",
            "Epoch 73/100\n",
            "453/453 [==============================] - 93s 206ms/step - loss: 0.8033 - f1_score: 0.2176 - val_loss: 0.9681 - val_f1_score: 0.1857\n",
            "Epoch 74/100\n",
            "453/453 [==============================] - 89s 196ms/step - loss: 0.8054 - f1_score: 0.2173 - val_loss: 0.9690 - val_f1_score: 0.1920\n",
            "Epoch 75/100\n",
            "453/453 [==============================] - 88s 193ms/step - loss: 0.8022 - f1_score: 0.2229 - val_loss: 0.9738 - val_f1_score: 0.1927\n",
            "Epoch 76/100\n",
            "453/453 [==============================] - 98s 216ms/step - loss: 0.8037 - f1_score: 0.2193 - val_loss: 0.9634 - val_f1_score: 0.1932\n",
            "Epoch 77/100\n",
            "453/453 [==============================] - 95s 209ms/step - loss: 0.8013 - f1_score: 0.2243 - val_loss: 0.9701 - val_f1_score: 0.1849\n",
            "Epoch 78/100\n",
            "453/453 [==============================] - 98s 217ms/step - loss: 0.8002 - f1_score: 0.2211 - val_loss: 0.9686 - val_f1_score: 0.1883\n",
            "Epoch 79/100\n",
            "453/453 [==============================] - 99s 218ms/step - loss: 0.8003 - f1_score: 0.2234 - val_loss: 0.9677 - val_f1_score: 0.1896\n",
            "Epoch 80/100\n",
            "453/453 [==============================] - 99s 219ms/step - loss: 0.8004 - f1_score: 0.2178 - val_loss: 0.9672 - val_f1_score: 0.2005\n",
            "Epoch 81/100\n",
            "453/453 [==============================] - 99s 219ms/step - loss: 0.7970 - f1_score: 0.2250 - val_loss: 0.9679 - val_f1_score: 0.1961\n",
            "Epoch 82/100\n",
            "453/453 [==============================] - 90s 200ms/step - loss: 0.7965 - f1_score: 0.2274 - val_loss: 0.9719 - val_f1_score: 0.1921\n",
            "Epoch 83/100\n",
            "453/453 [==============================] - 92s 203ms/step - loss: 0.7942 - f1_score: 0.2270 - val_loss: 0.9746 - val_f1_score: 0.1950\n",
            "Epoch 84/100\n",
            "453/453 [==============================] - 63s 139ms/step - loss: 0.7969 - f1_score: 0.2308 - val_loss: 0.9769 - val_f1_score: 0.1991\n",
            "Epoch 85/100\n",
            "453/453 [==============================] - 49s 108ms/step - loss: 0.7965 - f1_score: 0.2253 - val_loss: 0.9847 - val_f1_score: 0.1964\n",
            "Epoch 86/100\n",
            "453/453 [==============================] - 50s 111ms/step - loss: 0.7933 - f1_score: 0.2321 - val_loss: 0.9771 - val_f1_score: 0.1980\n",
            "Epoch 87/100\n",
            "453/453 [==============================] - 52s 114ms/step - loss: 0.7937 - f1_score: 0.2318 - val_loss: 0.9710 - val_f1_score: 0.1918\n",
            "Epoch 88/100\n",
            "453/453 [==============================] - 60s 133ms/step - loss: 0.7916 - f1_score: 0.2328 - val_loss: 0.9783 - val_f1_score: 0.1908\n",
            "Epoch 89/100\n",
            "453/453 [==============================] - 50s 110ms/step - loss: 0.7906 - f1_score: 0.2337 - val_loss: 0.9819 - val_f1_score: 0.1952\n",
            "Epoch 90/100\n",
            "453/453 [==============================] - 51s 112ms/step - loss: 0.7890 - f1_score: 0.2351 - val_loss: 0.9783 - val_f1_score: 0.1927\n",
            "Epoch 91/100\n",
            "453/453 [==============================] - 58s 128ms/step - loss: 0.7910 - f1_score: 0.2360 - val_loss: 0.9796 - val_f1_score: 0.1884\n",
            "Epoch 92/100\n",
            "453/453 [==============================] - 58s 127ms/step - loss: 0.7910 - f1_score: 0.2339 - val_loss: 0.9896 - val_f1_score: 0.1955\n",
            "Epoch 93/100\n",
            "453/453 [==============================] - 53s 118ms/step - loss: 0.7885 - f1_score: 0.2370 - val_loss: 0.9781 - val_f1_score: 0.1981\n",
            "Epoch 94/100\n",
            "453/453 [==============================] - 58s 127ms/step - loss: 0.7869 - f1_score: 0.2431 - val_loss: 0.9793 - val_f1_score: 0.2008\n",
            "Epoch 95/100\n",
            "453/453 [==============================] - 54s 120ms/step - loss: 0.7865 - f1_score: 0.2384 - val_loss: 0.9798 - val_f1_score: 0.2115\n",
            "Epoch 96/100\n",
            "453/453 [==============================] - 60s 133ms/step - loss: 0.7872 - f1_score: 0.2446 - val_loss: 0.9818 - val_f1_score: 0.1988\n",
            "Epoch 97/100\n",
            "453/453 [==============================] - 56s 124ms/step - loss: 0.7839 - f1_score: 0.2431 - val_loss: 0.9833 - val_f1_score: 0.2059\n",
            "Epoch 98/100\n",
            "453/453 [==============================] - 57s 127ms/step - loss: 0.7822 - f1_score: 0.2459 - val_loss: 0.9973 - val_f1_score: 0.2023\n",
            "Epoch 99/100\n",
            "453/453 [==============================] - 58s 129ms/step - loss: 0.7852 - f1_score: 0.2415 - val_loss: 0.9856 - val_f1_score: 0.2015\n",
            "Epoch 100/100\n",
            "453/453 [==============================] - 54s 118ms/step - loss: 0.7811 - f1_score: 0.2436 - val_loss: 0.9862 - val_f1_score: 0.1982\n"
          ]
        }
      ],
      "source": [
        "hist = model.fit(X_train, y_train, epochs=100, validation_split=0.2)"
      ]
    },
    {
      "cell_type": "code",
      "execution_count": 31,
      "metadata": {
        "colab": {
          "base_uri": "https://localhost:8080/",
          "height": 430
        },
        "id": "dT29kp_unBj0",
        "outputId": "73d22c44-5d30-45c3-a37b-f35b0559b6c4"
      },
      "outputs": [
        {
          "data": {
            "image/png": "[encoded data removed]",
            "text/plain": [
              "<Figure size 640x480 with 1 Axes>"
            ]
          },
          "metadata": {},
          "output_type": "display_data"
        }
      ],
      "source": [
        "import matplotlib.pyplot as plt\n",
        "import seaborn as sns\n",
        "epoch_count = range(1, len(hist.history['loss']) + 1)\n",
        "sns.lineplot(x=epoch_count,  y=hist.history['loss'], label='train_loss')\n",
        "sns.lineplot(x=epoch_count,  y=hist.history['val_loss'], label='validation_loss')\n",
        "plt.show()"
      ]
    },
    {
      "cell_type": "code",
      "execution_count": 32,
      "metadata": {
        "colab": {
          "base_uri": "https://localhost:8080/"
        },
        "id": "wtHkb92HnC9l",
        "outputId": "0fa1c76e-7f39-4ce0-a5fd-fd1746eaefda"
      },
      "outputs": [
        {
          "name": "stdout",
          "output_type": "stream",
          "text": [
            "142/142 [==============================] - 7s 47ms/step - loss: 0.9636 - f1_score: 0.2000\n"
          ]
        },
        {
          "data": {
            "text/plain": [
              "[0.9635658264160156,\n",
              " array([0.        , 0.        , 0.06644519, 0.11735121, 0.8162571 ],\n",
              "       dtype=float32)]"
            ]
          },
          "execution_count": 32,
          "metadata": {},
          "output_type": "execute_result"
        }
      ],
      "source": [
        "model.evaluate(X_test, y_test)"
      ]
    },
    {
      "cell_type": "code",
      "execution_count": 33,
      "metadata": {
        "id": "8zFg-Y5Kcs4o"
      },
      "outputs": [],
      "source": [
        "test_texts = tok.sequences_to_texts(X_test)"
      ]
    },
    {
      "cell_type": "code",
      "execution_count": 34,
      "metadata": {
        "colab": {
          "base_uri": "https://localhost:8080/"
        },
        "id": "93h98uqRg1pB",
        "outputId": "eca55444-df87-4cf7-8b82-11c634ab618f"
      },
      "outputs": [],
      "source": [
        "preds = model.predict(X_test)"
      ]
    },
    {
      "cell_type": "code",
      "execution_count": 35,
      "metadata": {
        "colab": {
          "base_uri": "https://localhost:8080/"
        },
        "id": "GPzklruoeCk2",
        "outputId": "a20236c8-7db1-496a-e96d-2fe6be3668fb"
      },
      "outputs": [
        {
          "name": "stdout",
          "output_type": "stream",
          "text": [
            " for reference i'm 5'3 and weigh 110 lbs and i purchased a size 2 but i think atoo and there is the perfect amount of swing and it's a great length i can't say enough about it i think it's worth the price which i have to i was hesitant about so comfortable and versatile i see it being worn quite often \n",
            "[0. 0. 0. 0. 1.], 4 - [6.3663538e-07 1.2209855e-06 6.1312974e-05 1.1021531e-02 9.8891538e-01], 4\n",
            "\n",
            "\n",
            "i saw this dress in my local retailer store and am not sure why i did not try it on then but later at home it to me i loved the colored embroidery against the black my husband and i will be to later this fall and i wanted to take a dress with me that wouldn't take up too much room and be for times when i wanted to dress up a little online i saw that it was available in the petite and with the reviews that it ran large i opted for a medium petite\n",
            "[0. 0. 0. 0. 1.], 4 - [0.02784904 0.0865996  0.31629628 0.4084759  0.16077924], 3\n",
            "\n",
            "\n",
            "i was tempted to get this online but just wasn't sure i wanted to buy even with the sale because i only wear dresses to the knee and didn't know how this would look with leggings or jeans i tried it on in the store the next day and it was so cute there are long skinny black in the front that you can't really see in the online pics that i love it looks great with my skinny jeans with or black leggings and boots i even have some cute leggings just past the knee that this looks\n",
            "[0. 0. 0. 0. 1.], 4 - [2.2098217e-05 4.2524680e-05 8.4192009e-04 7.0051871e-02 9.2904156e-01], 4\n",
            "\n",
            "\n",
            "i love the pattern color combo but wow t really on me too much fabric i felt like i was trying to hide or pregnancy or wearing a anyway not for me but others might to try in case it was just me too bad length was decent in size though not too long just too wide\n",
            "[0. 1. 0. 0. 0.], 1 - [0.13852476 0.30138594 0.39473343 0.13933556 0.02602036], 2\n",
            "\n",
            "\n",
            "love the soft fabric and easy fit of this dress i'm pleased that it does give a of figure and doesn't just hang like a sack i found the blue to be most flattering and was with styling at home and found that the wider retailer leather belt gave it a whole new look\n",
            "[0. 0. 0. 0. 1.], 4 - [0.06364326 0.135389   0.37758827 0.3196158  0.1037637 ], 2\n",
            "\n",
            "\n",
            "i tried the neutral motif one on when it first came out i didn't buy but it on my mind b c the colors were so pretty i got it at sale on sale and am so happy i did it is sheer but i think it would work fine in a casual without a tank as long as you have a skin tone bra great buy and tts\n",
            "[0. 0. 0. 0. 1.], 4 - [1.21358804e-04 2.42970855e-04 4.26339498e-03 2.10156485e-01\n",
            " 7.85215795e-01], 4\n",
            "\n",
            "\n",
            "very nice sweater surprisingly just as pictured color wise i ordered a large and it felt true to size in the shoulders but this sweater flair out to the bottom you can kind of see it in the photo the length is good as well for a regular fit it's very unique combination of fabric wool knit the texture is really nice and soft and looks very good on also it's thick and warm i wore the top to work today on 34 weather and received many compliments sweater looks simple but the\n",
            "[0. 0. 0. 0. 1.], 4 - [3.2655167e-05 6.2837658e-05 1.1334098e-03 9.7732060e-02 9.0103906e-01], 4\n",
            "\n",
            "\n",
            "i'm another petite at 5'4 and i loved this the pants are like on me and i think with a heel it will look great i plan on wearing my hair up and the tie in the back in a big bow in fact i don't see the button back of in the description so i think one would have to do so\n",
            "[0. 0. 0. 0. 1.], 4 - [0.00350624 0.00696217 0.04785048 0.510433   0.43124813], 3\n",
            "\n",
            "\n",
            " i ordered the black so happy with my purchaseblack well wasn't wrinkly when i took it out of the \n",
            "[0. 0. 0. 0. 1.], 4 - [0.00134424 0.00240079 0.02020118 0.26247695 0.71357685], 4\n",
            "\n",
            "\n",
            "i've been looking for white beach shorts and these are perfect as another reviewer said they are in fact see through because they are meant to be a cover up not real shorts the hem detail is very cute and they're super comfortable my size small fit tts and the 3 hem is nice for tall women\n",
            "[0. 0. 0. 0. 1.], 4 - [2.6032421e-05 4.9940671e-05 8.9171081e-04 7.2653122e-02 9.2637920e-01], 4\n",
            "\n",
            "\n",
            "i should have to previous reviewers but the dress looks so good on the model in the two pictures when it arrived in the mail i realized this is a mistake it has no shape material is poofy and feels cheap it is going back\n",
            "[1. 0. 0. 0. 0.], 0 - [0.11374754 0.26918086 0.4013487  0.17453583 0.04118699], 2\n",
            "\n",
            "\n",
            "i really liked this dress online and i loved it in person the print is different the waist is skirt is full has a very feminine shape definitely a special piece runs large i'm usually a 6 in dresses and an 8 in skirts i'm 5 5 s 34c and then 6 was too big size 4 fit perfect and i'm no size 4 no sleeves will make if easy to add a denim jacket or a cardigan it hits 3 4 above the knees but has a conservative high neckline and back is covered good\n",
            "[0. 0. 0. 0. 1.], 4 - [9.6260068e-05 1.8360706e-04 2.5717721e-03 1.5296695e-01 8.4418142e-01], 4\n",
            "\n",
            "\n",
            "i ordered this in the lavender and love the rich color looks great with my hair the bell sleeves which are all the right now add to the feminine look i wore it with jeans and for a boho look\n",
            "[0. 0. 0. 0. 1.], 4 - [0.00084793 0.00149035 0.01489271 0.2646778  0.7180912 ], 4\n",
            "\n",
            "\n",
            "i love this dress wasn't much on the hanger but fell in love as soon as i put it on almost returned after reading the reviews about the fabric and printed design instead of embroidered but tried it on one last time and decided to keep it the silhouette is just stunning absolutely stunning this will be a classic piece in my wardrobe that i pass down to my one day\n",
            "[0. 0. 0. 0. 1.], 4 - [4.7326503e-06 9.2352902e-06 2.6874919e-04 3.3386502e-02 9.6633077e-01], 4\n",
            "\n",
            "\n",
            "this is a very stylish casual top it fits great i plan on wearing it with a long sleeve black tshirt underneath or black turtleneck i absolutely love the crochet detail at the bottom\n",
            "[0. 0. 0. 1. 0.], 3 - [6.5378877e-06 1.3041024e-05 3.0583228e-04 3.4699325e-02 9.6497524e-01], 4\n",
            "\n",
            "\n",
            "not only is this dress incredibly comfortable but it can be for any occasion i it up for a wedding but a cardigan and flats also makes it easy perfect only way this dress could be pockets\n",
            "[0. 0. 0. 0. 1.], 4 - [8.8934641e-05 1.6961993e-04 2.4339247e-03 1.2658858e-01 8.7071890e-01], 4\n",
            "\n",
            "\n",
            "this is a beautiful sweater but if came up high on me in back higher than it looks on the model she must have on high waisted pants\n",
            "[0. 0. 0. 1. 0.], 3 - [0.0473612  0.10210775 0.2670295  0.3644244  0.21907724], 3\n",
            "\n",
            "\n",
            "this one is way better in person i put it in my only it was on the well it is great a little sheer super y when i received it but oh so soft the plunge is a tiny bit low for my liking but this come in petites so i had to it up and keep the regular coloring is nice too neutral event there is rust and navy and ish it be worn with anything\n",
            "[0. 0. 0. 0. 1.], 4 - [7.6246288e-05 1.4357473e-04 2.0068863e-03 1.2531593e-01 8.7245739e-01], 4\n",
            "\n",
            "\n",
            "the fabric has a smooth feel and the shape is perfect over skinny jeans i like the v neckline a different take on the usual buttons of a i wear a white cami under it from retailer to bring up the just a little great with blue jeans white jeans and shorts i bought this shirt in red size 2 i'm 5'6 125 lbs\n",
            "[0. 0. 0. 0. 1.], 4 - [2.4961915e-05 4.7600479e-05 9.1394578e-04 7.5994350e-02 9.2301911e-01], 4\n",
            "\n",
            "\n",
            "beautiful top but delicate i wore it to school and the straps on my some pilling other than that it is beautiful and vibrant just make sure you aren't doing wearing anything that will it since the fabric is delicate\n",
            "[0. 0. 0. 1. 0.], 3 - [0.00591397 0.01189825 0.07198337 0.4495335  0.46067095], 4\n",
            "\n",
            "\n",
            "the dress has a flattering cut and is a nice color but the fabric looks like old i will be returning\n",
            "[0. 0. 1. 0. 0.], 2 - [0.10460507 0.18605497 0.32603797 0.24346793 0.1398341 ], 2\n",
            "\n",
            "\n"
          ]
        }
      ],
      "source": [
        "for i, (text, rating, pred) in enumerate(zip(test_texts, y_test, preds)):\n",
        "  if i > 20:\n",
        "    break\n",
        "  print(f'{text}\\n{rating}, {np.argmax(rating)} - {pred}, {np.argmax(pred)}\\n\\n')"
      ]
    },
    {
      "cell_type": "code",
      "execution_count": null,
      "metadata": {
        "id": "trcbiH5qgyUW"
      },
      "outputs": [],
      "source": []
    }
  ],
  "metadata": {
    "accelerator": "GPU",
    "colab": {
      "provenance": []
    },
    "kernelspec": {
      "display_name": "Python 3",
      "name": "python3"
    },
    "language_info": {
      "codemirror_mode": {
        "name": "ipython",
        "version": 3
      },
      "file_extension": ".py",
      "mimetype": "text/x-python",
      "name": "python",
      "nbconvert_exporter": "python",
      "pygments_lexer": "ipython3",
      "version": "3.10.11"
    }
  },
  "nbformat": 4,
  "nbformat_minor": 0
}
