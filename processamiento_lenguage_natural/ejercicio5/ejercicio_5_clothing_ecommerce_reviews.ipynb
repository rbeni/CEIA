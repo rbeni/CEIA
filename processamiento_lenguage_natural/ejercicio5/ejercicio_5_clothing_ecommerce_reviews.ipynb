{
  "nbformat": 4,
  "nbformat_minor": 0,
  "metadata": {
    "colab": {
      "provenance": []
    },
    "kernelspec": {
      "name": "python3",
      "display_name": "Python 3"
    },
    "language_info": {
      "name": "python"
    },
    "accelerator": "GPU"
  },
  "cells": [
    {
      "cell_type": "markdown",
      "metadata": {
        "id": "kBLpTr7plguX"
      },
      "source": [
        "<img src=\"https://github.com/hernancontigiani/ceia_memorias_especializacion/raw/master/Figures/logoFIUBA.jpg\" width=\"500\" align=\"center\">\n",
        "\n",
        "\n",
        "# Procesamiento de lenguaje natural\n",
        "## Sentiment analysis con Embeddings + LSTM"
      ]
    },
    {
      "cell_type": "markdown",
      "metadata": {
        "id": "9W6nuajhlqZD"
      },
      "source": [
        "### Objetivo\n",
        "El objetivo es utilizar las críticas de compradores de ropa para que el sistema determine la evaluación del comprador y su crítica (cuantas estrellas le asigna al producto)."
      ]
    },
    {
      "cell_type": "code",
      "source": [
        "!pip install --upgrade --no-cache-dir gdown --quiet"
      ],
      "metadata": {
        "id": "i6zvzv3qZ6xS"
      },
      "execution_count": 1,
      "outputs": []
    },
    {
      "cell_type": "code",
      "metadata": {
        "id": "hCpOVzJdl8_p"
      },
      "source": [
        "import numpy as np\n",
        "import random\n",
        "import io\n",
        "import pickle\n",
        "import pandas as pd\n",
        "\n",
        "import matplotlib.pyplot as plt\n",
        "import seaborn as sns\n",
        "\n",
        "import tensorflow as tf\n",
        "from tensorflow import keras\n",
        "from tensorflow.keras import layers\n",
        "\n",
        "from keras.utils.np_utils import to_categorical\n",
        "from tensorflow.keras.utils import pad_sequences\n",
        "from keras.models import Sequential\n",
        "from keras.layers import Dense\n",
        "from keras.layers import LSTM\n",
        "from keras.layers import Embedding"
      ],
      "execution_count": 2,
      "outputs": []
    },
    {
      "cell_type": "markdown",
      "metadata": {
        "id": "8UPeRkrAmbF3"
      },
      "source": [
        "### Datos\n",
        "Utilizaremos como dataset críticas de compradores de ropa (eCommerce) los cuales puntuaron a cada prenda con un puntaje de 1 a 5 estrellas.\\\n",
        "Referencia del dataset: [LINK](https://www.kaggle.com/nicapotato/womens-ecommerce-clothing-reviews/version/1)"
      ]
    },
    {
      "cell_type": "code",
      "metadata": {
        "id": "C7jLvTU3lSyL",
        "colab": {
          "base_uri": "https://localhost:8080/"
        },
        "outputId": "50e76c89-0f9e-42d6-b1cf-76a9b9690c87"
      },
      "source": [
        "# Descargar la carpeta de dataset\n",
        "import os\n",
        "import gdown\n",
        "if os.access('clothing_ecommerce_reviews.csv', os.F_OK) is False:\n",
        "    url = 'https://drive.google.com/uc?id=1Urn1UFSrodN5BuW6-sc_igtaySGRwhV8'\n",
        "    output = 'clothing_ecommerce_reviews.csv'\n",
        "    gdown.download(url, output, quiet=False)\n",
        "else:\n",
        "    print(\"El dataset ya se encuentra descargado\")"
      ],
      "execution_count": 3,
      "outputs": [
        {
          "output_type": "stream",
          "name": "stdout",
          "text": [
            "El dataset ya se encuentra descargado\n"
          ]
        }
      ]
    },
    {
      "cell_type": "code",
      "metadata": {
        "id": "o-SV1P3dnD1J",
        "colab": {
          "base_uri": "https://localhost:8080/",
          "height": 206
        },
        "outputId": "8cb838b3-ff42-431e-f740-a82b0202152c"
      },
      "source": [
        "# Armar el dataset\n",
        "df = pd.read_csv('clothing_ecommerce_reviews.csv')\n",
        "df.drop(columns = ['Unnamed: 0'], inplace = True)\n",
        "df.head()"
      ],
      "execution_count": 4,
      "outputs": [
        {
          "output_type": "execute_result",
          "data": {
            "text/plain": [
              "   Clothing ID  Age                    Title  \\\n",
              "0          767   33                      NaN   \n",
              "1         1080   34                      NaN   \n",
              "2         1077   60  Some major design flaws   \n",
              "3         1049   50         My favorite buy!   \n",
              "4          847   47         Flattering shirt   \n",
              "\n",
              "                                         Review Text  Rating  Recommended IND  \\\n",
              "0  Absolutely wonderful - silky and sexy and comf...       4                1   \n",
              "1  Love this dress!  it's sooo pretty.  i happene...       5                1   \n",
              "2  I had such high hopes for this dress and reall...       3                0   \n",
              "3  I love, love, love this jumpsuit. it's fun, fl...       5                1   \n",
              "4  This shirt is very flattering to all due to th...       5                1   \n",
              "\n",
              "   Positive Feedback Count   Division Name Department Name Class Name  \n",
              "0                        0       Initmates        Intimate  Intimates  \n",
              "1                        4         General         Dresses    Dresses  \n",
              "2                        0         General         Dresses    Dresses  \n",
              "3                        0  General Petite         Bottoms      Pants  \n",
              "4                        6         General            Tops    Blouses  "
            ],
            "text/html": [
              "\n",
              "  <div id=\"df-a98ee703-8fd3-44ba-a4eb-2a92aa1d9150\">\n",
              "    <div class=\"colab-df-container\">\n",
              "      <div>\n",
              "<style scoped>\n",
              "    .dataframe tbody tr th:only-of-type {\n",
              "        vertical-align: middle;\n",
              "    }\n",
              "\n",
              "    .dataframe tbody tr th {\n",
              "        vertical-align: top;\n",
              "    }\n",
              "\n",
              "    .dataframe thead th {\n",
              "        text-align: right;\n",
              "    }\n",
              "</style>\n",
              "<table border=\"1\" class=\"dataframe\">\n",
              "  <thead>\n",
              "    <tr style=\"text-align: right;\">\n",
              "      <th></th>\n",
              "      <th>Clothing ID</th>\n",
              "      <th>Age</th>\n",
              "      <th>Title</th>\n",
              "      <th>Review Text</th>\n",
              "      <th>Rating</th>\n",
              "      <th>Recommended IND</th>\n",
              "      <th>Positive Feedback Count</th>\n",
              "      <th>Division Name</th>\n",
              "      <th>Department Name</th>\n",
              "      <th>Class Name</th>\n",
              "    </tr>\n",
              "  </thead>\n",
              "  <tbody>\n",
              "    <tr>\n",
              "      <th>0</th>\n",
              "      <td>767</td>\n",
              "      <td>33</td>\n",
              "      <td>NaN</td>\n",
              "      <td>Absolutely wonderful - silky and sexy and comf...</td>\n",
              "      <td>4</td>\n",
              "      <td>1</td>\n",
              "      <td>0</td>\n",
              "      <td>Initmates</td>\n",
              "      <td>Intimate</td>\n",
              "      <td>Intimates</td>\n",
              "    </tr>\n",
              "    <tr>\n",
              "      <th>1</th>\n",
              "      <td>1080</td>\n",
              "      <td>34</td>\n",
              "      <td>NaN</td>\n",
              "      <td>Love this dress!  it's sooo pretty.  i happene...</td>\n",
              "      <td>5</td>\n",
              "      <td>1</td>\n",
              "      <td>4</td>\n",
              "      <td>General</td>\n",
              "      <td>Dresses</td>\n",
              "      <td>Dresses</td>\n",
              "    </tr>\n",
              "    <tr>\n",
              "      <th>2</th>\n",
              "      <td>1077</td>\n",
              "      <td>60</td>\n",
              "      <td>Some major design flaws</td>\n",
              "      <td>I had such high hopes for this dress and reall...</td>\n",
              "      <td>3</td>\n",
              "      <td>0</td>\n",
              "      <td>0</td>\n",
              "      <td>General</td>\n",
              "      <td>Dresses</td>\n",
              "      <td>Dresses</td>\n",
              "    </tr>\n",
              "    <tr>\n",
              "      <th>3</th>\n",
              "      <td>1049</td>\n",
              "      <td>50</td>\n",
              "      <td>My favorite buy!</td>\n",
              "      <td>I love, love, love this jumpsuit. it's fun, fl...</td>\n",
              "      <td>5</td>\n",
              "      <td>1</td>\n",
              "      <td>0</td>\n",
              "      <td>General Petite</td>\n",
              "      <td>Bottoms</td>\n",
              "      <td>Pants</td>\n",
              "    </tr>\n",
              "    <tr>\n",
              "      <th>4</th>\n",
              "      <td>847</td>\n",
              "      <td>47</td>\n",
              "      <td>Flattering shirt</td>\n",
              "      <td>This shirt is very flattering to all due to th...</td>\n",
              "      <td>5</td>\n",
              "      <td>1</td>\n",
              "      <td>6</td>\n",
              "      <td>General</td>\n",
              "      <td>Tops</td>\n",
              "      <td>Blouses</td>\n",
              "    </tr>\n",
              "  </tbody>\n",
              "</table>\n",
              "</div>\n",
              "      <button class=\"colab-df-convert\" onclick=\"convertToInteractive('df-a98ee703-8fd3-44ba-a4eb-2a92aa1d9150')\"\n",
              "              title=\"Convert this dataframe to an interactive table.\"\n",
              "              style=\"display:none;\">\n",
              "        \n",
              "  <svg xmlns=\"http://www.w3.org/2000/svg\" height=\"24px\"viewBox=\"0 0 24 24\"\n",
              "       width=\"24px\">\n",
              "    <path d=\"M0 0h24v24H0V0z\" fill=\"none\"/>\n",
              "    <path d=\"M18.56 5.44l.94 2.06.94-2.06 2.06-.94-2.06-.94-.94-2.06-.94 2.06-2.06.94zm-11 1L8.5 8.5l.94-2.06 2.06-.94-2.06-.94L8.5 2.5l-.94 2.06-2.06.94zm10 10l.94 2.06.94-2.06 2.06-.94-2.06-.94-.94-2.06-.94 2.06-2.06.94z\"/><path d=\"M17.41 7.96l-1.37-1.37c-.4-.4-.92-.59-1.43-.59-.52 0-1.04.2-1.43.59L10.3 9.45l-7.72 7.72c-.78.78-.78 2.05 0 2.83L4 21.41c.39.39.9.59 1.41.59.51 0 1.02-.2 1.41-.59l7.78-7.78 2.81-2.81c.8-.78.8-2.07 0-2.86zM5.41 20L4 18.59l7.72-7.72 1.47 1.35L5.41 20z\"/>\n",
              "  </svg>\n",
              "      </button>\n",
              "      \n",
              "  <style>\n",
              "    .colab-df-container {\n",
              "      display:flex;\n",
              "      flex-wrap:wrap;\n",
              "      gap: 12px;\n",
              "    }\n",
              "\n",
              "    .colab-df-convert {\n",
              "      background-color: #E8F0FE;\n",
              "      border: none;\n",
              "      border-radius: 50%;\n",
              "      cursor: pointer;\n",
              "      display: none;\n",
              "      fill: #1967D2;\n",
              "      height: 32px;\n",
              "      padding: 0 0 0 0;\n",
              "      width: 32px;\n",
              "    }\n",
              "\n",
              "    .colab-df-convert:hover {\n",
              "      background-color: #E2EBFA;\n",
              "      box-shadow: 0px 1px 2px rgba(60, 64, 67, 0.3), 0px 1px 3px 1px rgba(60, 64, 67, 0.15);\n",
              "      fill: #174EA6;\n",
              "    }\n",
              "\n",
              "    [theme=dark] .colab-df-convert {\n",
              "      background-color: #3B4455;\n",
              "      fill: #D2E3FC;\n",
              "    }\n",
              "\n",
              "    [theme=dark] .colab-df-convert:hover {\n",
              "      background-color: #434B5C;\n",
              "      box-shadow: 0px 1px 3px 1px rgba(0, 0, 0, 0.15);\n",
              "      filter: drop-shadow(0px 1px 2px rgba(0, 0, 0, 0.3));\n",
              "      fill: #FFFFFF;\n",
              "    }\n",
              "  </style>\n",
              "\n",
              "      <script>\n",
              "        const buttonEl =\n",
              "          document.querySelector('#df-a98ee703-8fd3-44ba-a4eb-2a92aa1d9150 button.colab-df-convert');\n",
              "        buttonEl.style.display =\n",
              "          google.colab.kernel.accessAllowed ? 'block' : 'none';\n",
              "\n",
              "        async function convertToInteractive(key) {\n",
              "          const element = document.querySelector('#df-a98ee703-8fd3-44ba-a4eb-2a92aa1d9150');\n",
              "          const dataTable =\n",
              "            await google.colab.kernel.invokeFunction('convertToInteractive',\n",
              "                                                     [key], {});\n",
              "          if (!dataTable) return;\n",
              "\n",
              "          const docLinkHtml = 'Like what you see? Visit the ' +\n",
              "            '<a target=\"_blank\" href=https://colab.research.google.com/notebooks/data_table.ipynb>data table notebook</a>'\n",
              "            + ' to learn more about interactive tables.';\n",
              "          element.innerHTML = '';\n",
              "          dataTable['output_type'] = 'display_data';\n",
              "          await google.colab.output.renderOutput(dataTable, element);\n",
              "          const docLink = document.createElement('div');\n",
              "          docLink.innerHTML = docLinkHtml;\n",
              "          element.appendChild(docLink);\n",
              "        }\n",
              "      </script>\n",
              "    </div>\n",
              "  </div>\n",
              "  "
            ]
          },
          "metadata": {},
          "execution_count": 4
        }
      ]
    },
    {
      "cell_type": "markdown",
      "metadata": {
        "id": "q-OwSePKm-FK"
      },
      "source": [
        "### 1 - Limpieza de datos\n",
        "Alumno:\n",
        "- Del dataset unicamente utilizar las columnas \"Review Text\" y \"Rating.\n",
        "- Tranformar el rating 1-5 a una escala numérica de 0 a 4.\n",
        "\n"
      ]
    },
    {
      "cell_type": "code",
      "metadata": {
        "id": "-hc7-AmYnPC3",
        "colab": {
          "base_uri": "https://localhost:8080/",
          "height": 206
        },
        "outputId": "579b8731-2a74-4096-88f0-5aea81168deb"
      },
      "source": [
        "df_reviews = df.loc[:, ['Review Text', 'Rating']].dropna()\n",
        "df_reviews['Rating'] = df_reviews['Rating'] - 1\n",
        "df_reviews.head()"
      ],
      "execution_count": 5,
      "outputs": [
        {
          "output_type": "execute_result",
          "data": {
            "text/plain": [
              "                                         Review Text  Rating\n",
              "0  Absolutely wonderful - silky and sexy and comf...       3\n",
              "1  Love this dress!  it's sooo pretty.  i happene...       4\n",
              "2  I had such high hopes for this dress and reall...       2\n",
              "3  I love, love, love this jumpsuit. it's fun, fl...       4\n",
              "4  This shirt is very flattering to all due to th...       4"
            ],
            "text/html": [
              "\n",
              "  <div id=\"df-afadadb9-82dd-4aea-8b1d-3e00d99a5533\">\n",
              "    <div class=\"colab-df-container\">\n",
              "      <div>\n",
              "<style scoped>\n",
              "    .dataframe tbody tr th:only-of-type {\n",
              "        vertical-align: middle;\n",
              "    }\n",
              "\n",
              "    .dataframe tbody tr th {\n",
              "        vertical-align: top;\n",
              "    }\n",
              "\n",
              "    .dataframe thead th {\n",
              "        text-align: right;\n",
              "    }\n",
              "</style>\n",
              "<table border=\"1\" class=\"dataframe\">\n",
              "  <thead>\n",
              "    <tr style=\"text-align: right;\">\n",
              "      <th></th>\n",
              "      <th>Review Text</th>\n",
              "      <th>Rating</th>\n",
              "    </tr>\n",
              "  </thead>\n",
              "  <tbody>\n",
              "    <tr>\n",
              "      <th>0</th>\n",
              "      <td>Absolutely wonderful - silky and sexy and comf...</td>\n",
              "      <td>3</td>\n",
              "    </tr>\n",
              "    <tr>\n",
              "      <th>1</th>\n",
              "      <td>Love this dress!  it's sooo pretty.  i happene...</td>\n",
              "      <td>4</td>\n",
              "    </tr>\n",
              "    <tr>\n",
              "      <th>2</th>\n",
              "      <td>I had such high hopes for this dress and reall...</td>\n",
              "      <td>2</td>\n",
              "    </tr>\n",
              "    <tr>\n",
              "      <th>3</th>\n",
              "      <td>I love, love, love this jumpsuit. it's fun, fl...</td>\n",
              "      <td>4</td>\n",
              "    </tr>\n",
              "    <tr>\n",
              "      <th>4</th>\n",
              "      <td>This shirt is very flattering to all due to th...</td>\n",
              "      <td>4</td>\n",
              "    </tr>\n",
              "  </tbody>\n",
              "</table>\n",
              "</div>\n",
              "      <button class=\"colab-df-convert\" onclick=\"convertToInteractive('df-afadadb9-82dd-4aea-8b1d-3e00d99a5533')\"\n",
              "              title=\"Convert this dataframe to an interactive table.\"\n",
              "              style=\"display:none;\">\n",
              "        \n",
              "  <svg xmlns=\"http://www.w3.org/2000/svg\" height=\"24px\"viewBox=\"0 0 24 24\"\n",
              "       width=\"24px\">\n",
              "    <path d=\"M0 0h24v24H0V0z\" fill=\"none\"/>\n",
              "    <path d=\"M18.56 5.44l.94 2.06.94-2.06 2.06-.94-2.06-.94-.94-2.06-.94 2.06-2.06.94zm-11 1L8.5 8.5l.94-2.06 2.06-.94-2.06-.94L8.5 2.5l-.94 2.06-2.06.94zm10 10l.94 2.06.94-2.06 2.06-.94-2.06-.94-.94-2.06-.94 2.06-2.06.94z\"/><path d=\"M17.41 7.96l-1.37-1.37c-.4-.4-.92-.59-1.43-.59-.52 0-1.04.2-1.43.59L10.3 9.45l-7.72 7.72c-.78.78-.78 2.05 0 2.83L4 21.41c.39.39.9.59 1.41.59.51 0 1.02-.2 1.41-.59l7.78-7.78 2.81-2.81c.8-.78.8-2.07 0-2.86zM5.41 20L4 18.59l7.72-7.72 1.47 1.35L5.41 20z\"/>\n",
              "  </svg>\n",
              "      </button>\n",
              "      \n",
              "  <style>\n",
              "    .colab-df-container {\n",
              "      display:flex;\n",
              "      flex-wrap:wrap;\n",
              "      gap: 12px;\n",
              "    }\n",
              "\n",
              "    .colab-df-convert {\n",
              "      background-color: #E8F0FE;\n",
              "      border: none;\n",
              "      border-radius: 50%;\n",
              "      cursor: pointer;\n",
              "      display: none;\n",
              "      fill: #1967D2;\n",
              "      height: 32px;\n",
              "      padding: 0 0 0 0;\n",
              "      width: 32px;\n",
              "    }\n",
              "\n",
              "    .colab-df-convert:hover {\n",
              "      background-color: #E2EBFA;\n",
              "      box-shadow: 0px 1px 2px rgba(60, 64, 67, 0.3), 0px 1px 3px 1px rgba(60, 64, 67, 0.15);\n",
              "      fill: #174EA6;\n",
              "    }\n",
              "\n",
              "    [theme=dark] .colab-df-convert {\n",
              "      background-color: #3B4455;\n",
              "      fill: #D2E3FC;\n",
              "    }\n",
              "\n",
              "    [theme=dark] .colab-df-convert:hover {\n",
              "      background-color: #434B5C;\n",
              "      box-shadow: 0px 1px 3px 1px rgba(0, 0, 0, 0.15);\n",
              "      filter: drop-shadow(0px 1px 2px rgba(0, 0, 0, 0.3));\n",
              "      fill: #FFFFFF;\n",
              "    }\n",
              "  </style>\n",
              "\n",
              "      <script>\n",
              "        const buttonEl =\n",
              "          document.querySelector('#df-afadadb9-82dd-4aea-8b1d-3e00d99a5533 button.colab-df-convert');\n",
              "        buttonEl.style.display =\n",
              "          google.colab.kernel.accessAllowed ? 'block' : 'none';\n",
              "\n",
              "        async function convertToInteractive(key) {\n",
              "          const element = document.querySelector('#df-afadadb9-82dd-4aea-8b1d-3e00d99a5533');\n",
              "          const dataTable =\n",
              "            await google.colab.kernel.invokeFunction('convertToInteractive',\n",
              "                                                     [key], {});\n",
              "          if (!dataTable) return;\n",
              "\n",
              "          const docLinkHtml = 'Like what you see? Visit the ' +\n",
              "            '<a target=\"_blank\" href=https://colab.research.google.com/notebooks/data_table.ipynb>data table notebook</a>'\n",
              "            + ' to learn more about interactive tables.';\n",
              "          element.innerHTML = '';\n",
              "          dataTable['output_type'] = 'display_data';\n",
              "          await google.colab.output.renderOutput(dataTable, element);\n",
              "          const docLink = document.createElement('div');\n",
              "          docLink.innerHTML = docLinkHtml;\n",
              "          element.appendChild(docLink);\n",
              "        }\n",
              "      </script>\n",
              "    </div>\n",
              "  </div>\n",
              "  "
            ]
          },
          "metadata": {},
          "execution_count": 5
        }
      ]
    },
    {
      "cell_type": "code",
      "metadata": {
        "id": "sZtvASVOn3ty",
        "colab": {
          "base_uri": "https://localhost:8080/"
        },
        "outputId": "c86d8d03-9fdf-47a3-c1f5-cd087a4192be"
      },
      "source": [
        "# Alumno: Observar como está distribuido el dataset respecto a la columna Rating\n",
        "# es decir, observar que tan balanceado se encuentra respecot a cada clase\n",
        "df_reviews['Rating'].value_counts()"
      ],
      "execution_count": 6,
      "outputs": [
        {
          "output_type": "execute_result",
          "data": {
            "text/plain": [
              "4    12540\n",
              "3     4908\n",
              "2     2823\n",
              "1     1549\n",
              "0      821\n",
              "Name: Rating, dtype: int64"
            ]
          },
          "metadata": {},
          "execution_count": 6
        }
      ]
    },
    {
      "cell_type": "code",
      "source": [
        "sns.countplot(x='Rating', data=df_reviews)\n",
        "plt.show()"
      ],
      "metadata": {
        "colab": {
          "base_uri": "https://localhost:8080/",
          "height": 449
        },
        "id": "9pBe8Q2kk3nx",
        "outputId": "d6f797af-f6f2-4cc9-a6c4-d86520549b11"
      },
      "execution_count": 7,
      "outputs": [
        {
          "output_type": "display_data",
          "data": {
            "text/plain": [
              "<Figure size 640x480 with 1 Axes>"
            ],
            "image/png": "[encoded data removed]"
          },
          "metadata": {}
        }
      ]
    },
    {
      "cell_type": "code",
      "metadata": {
        "id": "gVJ_RVi4o1h3",
        "colab": {
          "base_uri": "https://localhost:8080/"
        },
        "outputId": "5301b4ea-1f9d-4756-eef8-8ec99b979b1b"
      },
      "source": [
        "# Alumno: tomar la columna de las review y almacenarlo todo en un vector numpy de reviews\n",
        "text_sequences = df_reviews['Review Text'].values\n",
        "text_sequences.shape"
      ],
      "execution_count": 8,
      "outputs": [
        {
          "output_type": "execute_result",
          "data": {
            "text/plain": [
              "(22641,)"
            ]
          },
          "metadata": {},
          "execution_count": 8
        }
      ]
    },
    {
      "cell_type": "code",
      "metadata": {
        "id": "4nT5Un_co65Q",
        "colab": {
          "base_uri": "https://localhost:8080/"
        },
        "outputId": "860f0d1b-4d21-42d6-a02d-5f22325d96d1"
      },
      "source": [
        "# Alumno: Cuantas reviews (rows) hay para evaluar?\n",
        "len(text_sequences)"
      ],
      "execution_count": 9,
      "outputs": [
        {
          "output_type": "execute_result",
          "data": {
            "text/plain": [
              "22641"
            ]
          },
          "metadata": {},
          "execution_count": 9
        }
      ]
    },
    {
      "cell_type": "code",
      "metadata": {
        "id": "HP5uN9tqpHu_"
      },
      "source": [
        "# Alumno: Concatenar todas las reviews para armar el corpus\n",
        "corpus = ' '.join(text_sequences)"
      ],
      "execution_count": 10,
      "outputs": []
    },
    {
      "cell_type": "code",
      "metadata": {
        "id": "FEzmePgdpf74",
        "colab": {
          "base_uri": "https://localhost:8080/"
        },
        "outputId": "04500c17-ca60-4cdd-ed81-1b890a26bdfc"
      },
      "source": [
        "# Alumno: ¿Cuál es la longitud de ese corpus?\n",
        "len(corpus)"
      ],
      "execution_count": 11,
      "outputs": [
        {
          "output_type": "execute_result",
          "data": {
            "text/plain": [
              "7011643"
            ]
          },
          "metadata": {},
          "execution_count": 11
        }
      ]
    },
    {
      "cell_type": "code",
      "metadata": {
        "id": "MYeJLdDmpvOe"
      },
      "source": [
        "# Alumno: Utilizar \"text_to_word_sequence\" para separar las palabras en tokens\n",
        "# recordar que text_to_word_sequence automaticamente quita los signos de puntuacion y pasa el texto a lowercase\n",
        "from keras.preprocessing.text import text_to_word_sequence\n",
        "tokens = text_to_word_sequence(corpus)"
      ],
      "execution_count": 12,
      "outputs": []
    },
    {
      "cell_type": "code",
      "metadata": {
        "id": "M6L-fnWAp_lA",
        "colab": {
          "base_uri": "https://localhost:8080/"
        },
        "outputId": "000e8d5d-6b50-41ef-d8e3-f46a5e870a1a"
      },
      "source": [
        "# Alumno: Dar un vistazo a los primeros 20 tokens/palabras\n",
        "tokens[:20]"
      ],
      "execution_count": 13,
      "outputs": [
        {
          "output_type": "execute_result",
          "data": {
            "text/plain": [
              "['absolutely',\n",
              " 'wonderful',\n",
              " 'silky',\n",
              " 'and',\n",
              " 'sexy',\n",
              " 'and',\n",
              " 'comfortable',\n",
              " 'love',\n",
              " 'this',\n",
              " 'dress',\n",
              " \"it's\",\n",
              " 'sooo',\n",
              " 'pretty',\n",
              " 'i',\n",
              " 'happened',\n",
              " 'to',\n",
              " 'find',\n",
              " 'it',\n",
              " 'in',\n",
              " 'a']"
            ]
          },
          "metadata": {},
          "execution_count": 13
        }
      ]
    },
    {
      "cell_type": "code",
      "metadata": {
        "id": "-8QgwwMUqG0d",
        "colab": {
          "base_uri": "https://localhost:8080/"
        },
        "outputId": "ecc05045-6c32-4d4c-f35b-418bbbc628e9"
      },
      "source": [
        "# Alumno: ¿Cuántos tokens/palabras hay?\n",
        "len(tokens)"
      ],
      "execution_count": 14,
      "outputs": [
        {
          "output_type": "execute_result",
          "data": {
            "text/plain": [
              "1372203"
            ]
          },
          "metadata": {},
          "execution_count": 14
        }
      ]
    },
    {
      "cell_type": "code",
      "metadata": {
        "id": "TFukNZdOsZ8_"
      },
      "source": [
        "# Alumno: Tokenizar las palabras con el Tokenizer de Keras\n",
        "# Definir una máxima cantidad de palabras a utilizar:\n",
        "# num_words --> the maximum number of words to keep, based on word frequency.\n",
        "# Only the most common num_words-1 words will be kept.\n",
        "from keras.preprocessing.text import Tokenizer\n",
        "num_words = 2000\n",
        "vocab_size = num_words\n",
        "\n",
        "tok = Tokenizer(num_words)\n",
        "tok.fit_on_texts(tokens)"
      ],
      "execution_count": 15,
      "outputs": []
    },
    {
      "cell_type": "code",
      "metadata": {
        "id": "JnR1tlqZy94X",
        "colab": {
          "base_uri": "https://localhost:8080/"
        },
        "outputId": "5b484c58-f34d-4b9c-decf-df133dd830ce"
      },
      "source": [
        "# Alumno: Obtener el diccionario de palabra (word) a índice\n",
        "# y observar la cantidad total del vocabulario\n",
        "word_index = tok.word_index\n",
        "len(word_index)"
      ],
      "execution_count": 16,
      "outputs": [
        {
          "output_type": "execute_result",
          "data": {
            "text/plain": [
              "14847"
            ]
          },
          "metadata": {},
          "execution_count": 16
        }
      ]
    },
    {
      "cell_type": "code",
      "metadata": {
        "id": "AvWzzSretQXf"
      },
      "source": [
        "# Alumno: Convertir las palabras/tokens a números\n",
        "sequences = tok.texts_to_sequences(text_sequences)"
      ],
      "execution_count": 17,
      "outputs": []
    },
    {
      "cell_type": "code",
      "metadata": {
        "id": "za73M5SRtbrP",
        "colab": {
          "base_uri": "https://localhost:8080/"
        },
        "outputId": "473c75f3-68f5-493c-f3e1-57ca42bb5e90"
      },
      "source": [
        "# Alumno: Determinar cual es la oración más larga\n",
        "s_lenght = [len(s) for s in sequences]\n",
        "print(f'el máximo es {max(s_lenght)}')"
      ],
      "execution_count": 18,
      "outputs": [
        {
          "output_type": "stream",
          "name": "stdout",
          "text": [
            "el máximo es 115\n"
          ]
        }
      ]
    },
    {
      "cell_type": "code",
      "metadata": {
        "id": "oCkO9Wc9tls1"
      },
      "source": [
        "# Alumno: Realizar padding de las sentencias al mismo tamaño\n",
        "# tomando de referencia la máxima sentencia\n",
        "from tensorflow.keras.utils import pad_sequences\n",
        "maxlen = 115"
      ],
      "execution_count": 19,
      "outputs": []
    },
    {
      "cell_type": "code",
      "metadata": {
        "id": "kGHHabVdt_aa"
      },
      "source": [
        "# Alumno: Observar las dimensiones de la variable input\n",
        "X = pad_sequences(sequences, padding='pre', maxlen=maxlen)"
      ],
      "execution_count": 20,
      "outputs": []
    },
    {
      "cell_type": "code",
      "metadata": {
        "id": "llVM-tzQo9_F",
        "colab": {
          "base_uri": "https://localhost:8080/"
        },
        "outputId": "3394cbb3-621b-47c3-e705-c90769d9612d"
      },
      "source": [
        "# Alumno tomar la columna rating y alcemacenarla en una variable \"y\" transformada a oneHotEncoding\n",
        "# Su shape debe ser equivalente la cantidad de rows del corpus y a la cantidad\n",
        "# de clases que se deseen predecir (en este ejemplo son 5)\n",
        "y = df_reviews['Rating'].values\n",
        "print(y.shape)"
      ],
      "execution_count": 21,
      "outputs": [
        {
          "output_type": "stream",
          "name": "stdout",
          "text": [
            "(22641,)\n"
          ]
        }
      ]
    },
    {
      "cell_type": "code",
      "source": [
        "y[:10]"
      ],
      "metadata": {
        "colab": {
          "base_uri": "https://localhost:8080/"
        },
        "id": "0NCNGNJ_qqGv",
        "outputId": "005ced2a-3964-4a91-87c1-a28a4266c2ee"
      },
      "execution_count": 22,
      "outputs": [
        {
          "output_type": "execute_result",
          "data": {
            "text/plain": [
              "array([3, 4, 2, 4, 4, 1, 4, 3, 4, 4])"
            ]
          },
          "metadata": {},
          "execution_count": 22
        }
      ]
    },
    {
      "cell_type": "code",
      "source": [
        "from sklearn.preprocessing import OneHotEncoder\n",
        "enc = OneHotEncoder(handle_unknown='ignore')\n",
        "enc.fit(y.reshape(-1, 1))\n",
        "y = enc.fit_transform(y.reshape(-1,1)).toarray()\n",
        "y[:10]\n"
      ],
      "metadata": {
        "colab": {
          "base_uri": "https://localhost:8080/"
        },
        "id": "p01nOFwCsz1-",
        "outputId": "e5108aa8-01b0-4a2f-c66e-410e2b06a3f4"
      },
      "execution_count": 23,
      "outputs": [
        {
          "output_type": "execute_result",
          "data": {
            "text/plain": [
              "array([[0., 0., 0., 1., 0.],\n",
              "       [0., 0., 0., 0., 1.],\n",
              "       [0., 0., 1., 0., 0.],\n",
              "       [0., 0., 0., 0., 1.],\n",
              "       [0., 0., 0., 0., 1.],\n",
              "       [0., 1., 0., 0., 0.],\n",
              "       [0., 0., 0., 0., 1.],\n",
              "       [0., 0., 0., 1., 0.],\n",
              "       [0., 0., 0., 0., 1.],\n",
              "       [0., 0., 0., 0., 1.]])"
            ]
          },
          "metadata": {},
          "execution_count": 23
        }
      ]
    },
    {
      "cell_type": "code",
      "metadata": {
        "id": "Rmz9A6n4uK4V"
      },
      "source": [
        "# Alumno: Dividir los datos en train y test\n",
        "from sklearn.model_selection import train_test_split\n",
        "X_train, X_test, y_train, y_test = train_test_split(X, y, test_size=0.2, random_state=4242)\n"
      ],
      "execution_count": 24,
      "outputs": []
    },
    {
      "cell_type": "code",
      "source": [
        "y_train[:10]"
      ],
      "metadata": {
        "colab": {
          "base_uri": "https://localhost:8080/"
        },
        "id": "B-pq42P6qv2f",
        "outputId": "72c13954-2f0e-413a-9ec3-a89dfe54d87b"
      },
      "execution_count": 25,
      "outputs": [
        {
          "output_type": "execute_result",
          "data": {
            "text/plain": [
              "array([[0., 0., 0., 1., 0.],\n",
              "       [0., 0., 1., 0., 0.],\n",
              "       [0., 0., 0., 0., 1.],\n",
              "       [0., 0., 0., 0., 1.],\n",
              "       [0., 0., 1., 0., 0.],\n",
              "       [0., 0., 1., 0., 0.],\n",
              "       [0., 0., 0., 0., 1.],\n",
              "       [0., 0., 0., 0., 1.],\n",
              "       [0., 1., 0., 0., 0.],\n",
              "       [0., 0., 0., 1., 0.]])"
            ]
          },
          "metadata": {},
          "execution_count": 25
        }
      ]
    },
    {
      "cell_type": "code",
      "metadata": {
        "id": "EcDPlhEouQ9E",
        "colab": {
          "base_uri": "https://localhost:8080/"
        },
        "outputId": "9746634d-d4dc-4c37-d362-0451308b5232"
      },
      "source": [
        "# Alumno: determinar la dimensiones de entrada y salida\n",
        "\n",
        "input_shape = X_train.shape[1] # max input sentence len\n",
        "output_shape = y.shape[1]\n",
        "print(\"in_shape\", input_shape, \", out_shape\", output_shape)"
      ],
      "execution_count": 26,
      "outputs": [
        {
          "output_type": "stream",
          "name": "stdout",
          "text": [
            "in_shape 115 , out_shape 5\n"
          ]
        }
      ]
    },
    {
      "cell_type": "markdown",
      "metadata": {
        "id": "NpbQHExL6OTu"
      },
      "source": [
        "### 2 - Entrenar el modelo con Embeddings + LSTM"
      ]
    },
    {
      "cell_type": "code",
      "metadata": {
        "id": "NUkuWBsM6cx3",
        "colab": {
          "base_uri": "https://localhost:8080/"
        },
        "outputId": "5e7f142d-0e36-4fe8-d264-26d2f5b4d8e0"
      },
      "source": [
        "# Alumno: Entrene su modelo con LSTM entrenando sus propios embeddings\n",
        "# o utilizando embeddings pre-entrenados.\n",
        "from keras.layers import LSTM\n",
        "from keras.layers import Embedding\n",
        "from keras.layers import Dropout\n",
        "from keras.layers import Bidirectional\n",
        "\n",
        "model = Sequential()\n",
        "# input_dim = vocab_size (max n_words)\n",
        "# input_length = setencias con padding a 200\n",
        "# output_dim = 50 --> crear embeddings de tamaño 50\n",
        "model.add(Embedding(input_dim=vocab_size+1, output_dim=128, input_length=input_shape))\n",
        "model.add(LSTM(units=128, return_sequences=True))\n",
        "model.add(Dropout(0.2))\n",
        "model.add(LSTM(units=128)) # La última capa LSTM no lleva return_sequences\n",
        "\n",
        "model.add(Dense(units=256, activation='relu'))\n",
        "model.add(Dropout(rate=0.2))\n",
        "model.add(Dense(units=output_shape, activation='softmax'))\n",
        "\n",
        "model.compile(optimizer=tf.keras.optimizers.Adam(learning_rate=1e-5),\n",
        "              loss='categorical_crossentropy',\n",
        "              metrics=[tf.keras.metrics.CosineSimilarity()])\n",
        "\n",
        "model.summary()"
      ],
      "execution_count": 27,
      "outputs": [
        {
          "output_type": "stream",
          "name": "stdout",
          "text": [
            "Model: \"sequential\"\n",
            "_________________________________________________________________\n",
            " Layer (type)                Output Shape              Param #   \n",
            "=================================================================\n",
            " embedding (Embedding)       (None, 115, 128)          256128    \n",
            "                                                                 \n",
            " lstm (LSTM)                 (None, 115, 128)          131584    \n",
            "                                                                 \n",
            " dropout (Dropout)           (None, 115, 128)          0         \n",
            "                                                                 \n",
            " lstm_1 (LSTM)               (None, 128)               131584    \n",
            "                                                                 \n",
            " dense (Dense)               (None, 256)               33024     \n",
            "                                                                 \n",
            " dropout_1 (Dropout)         (None, 256)               0         \n",
            "                                                                 \n",
            " dense_1 (Dense)             (None, 5)                 1285      \n",
            "                                                                 \n",
            "=================================================================\n",
            "Total params: 553,605\n",
            "Trainable params: 553,605\n",
            "Non-trainable params: 0\n",
            "_________________________________________________________________\n"
          ]
        }
      ]
    },
    {
      "cell_type": "code",
      "source": [
        "from keras.utils.vis_utils import plot_model\n",
        "plot_model(model, to_file='model_plot.png', show_shapes=True, show_layer_names=True)"
      ],
      "metadata": {
        "colab": {
          "base_uri": "https://localhost:8080/",
          "height": 865
        },
        "id": "xAqNsFjsm6Nh",
        "outputId": "dae260fe-2911-4069-b2cd-8a5111de3e09"
      },
      "execution_count": 28,
      "outputs": [
        {
          "output_type": "execute_result",
          "data": {
            "image/png": "[encoded data removed]",
            "text/plain": [
              "<IPython.core.display.Image object>"
            ]
          },
          "metadata": {},
          "execution_count": 28
        }
      ]
    },
    {
      "cell_type": "code",
      "source": [
        "X_train[0].shape, y_train[0].shape"
      ],
      "metadata": {
        "colab": {
          "base_uri": "https://localhost:8080/"
        },
        "id": "n3xWCaFK-hYi",
        "outputId": "fe43906b-c36d-4e2b-a96b-b60e52e2ca79"
      },
      "execution_count": 29,
      "outputs": [
        {
          "output_type": "execute_result",
          "data": {
            "text/plain": [
              "((115,), (5,))"
            ]
          },
          "metadata": {},
          "execution_count": 29
        }
      ]
    },
    {
      "cell_type": "code",
      "source": [
        "hist = model.fit(X_train, y_train, epochs=30, validation_split=0.2)"
      ],
      "metadata": {
        "colab": {
          "base_uri": "https://localhost:8080/"
        },
        "id": "7fP-DguUnAU8",
        "outputId": "c90cd01f-b543-447e-aa88-a2443efba515"
      },
      "execution_count": 30,
      "outputs": [
        {
          "output_type": "stream",
          "name": "stdout",
          "text": [
            "Epoch 1/30\n",
            "453/453 [==============================] - 47s 87ms/step - loss: 1.4310 - cosine_similarity: 0.5262 - val_loss: 1.2412 - val_cosine_similarity: 0.6079\n",
            "Epoch 2/30\n",
            "453/453 [==============================] - 13s 28ms/step - loss: 1.2132 - cosine_similarity: 0.6156 - val_loss: 1.2220 - val_cosine_similarity: 0.6112\n",
            "Epoch 3/30\n",
            "453/453 [==============================] - 10s 22ms/step - loss: 1.1811 - cosine_similarity: 0.6231 - val_loss: 1.1723 - val_cosine_similarity: 0.6220\n",
            "Epoch 4/30\n",
            "453/453 [==============================] - 11s 23ms/step - loss: 1.1034 - cosine_similarity: 0.6421 - val_loss: 1.0874 - val_cosine_similarity: 0.6451\n",
            "Epoch 5/30\n",
            "453/453 [==============================] - 9s 21ms/step - loss: 1.0391 - cosine_similarity: 0.6595 - val_loss: 1.0583 - val_cosine_similarity: 0.6546\n",
            "Epoch 6/30\n",
            "453/453 [==============================] - 7s 15ms/step - loss: 1.0113 - cosine_similarity: 0.6676 - val_loss: 1.0351 - val_cosine_similarity: 0.6624\n",
            "Epoch 7/30\n",
            "453/453 [==============================] - 9s 21ms/step - loss: 0.9886 - cosine_similarity: 0.6740 - val_loss: 1.0214 - val_cosine_similarity: 0.6679\n",
            "Epoch 8/30\n",
            "453/453 [==============================] - 7s 16ms/step - loss: 0.9712 - cosine_similarity: 0.6796 - val_loss: 1.0099 - val_cosine_similarity: 0.6706\n",
            "Epoch 9/30\n",
            "453/453 [==============================] - 8s 17ms/step - loss: 0.9573 - cosine_similarity: 0.6840 - val_loss: 0.9995 - val_cosine_similarity: 0.6741\n",
            "Epoch 10/30\n",
            "453/453 [==============================] - 9s 19ms/step - loss: 0.9444 - cosine_similarity: 0.6881 - val_loss: 0.9872 - val_cosine_similarity: 0.6785\n",
            "Epoch 11/30\n",
            "453/453 [==============================] - 7s 15ms/step - loss: 0.9316 - cosine_similarity: 0.6921 - val_loss: 0.9800 - val_cosine_similarity: 0.6807\n",
            "Epoch 12/30\n",
            "453/453 [==============================] - 9s 19ms/step - loss: 0.9221 - cosine_similarity: 0.6948 - val_loss: 0.9728 - val_cosine_similarity: 0.6830\n",
            "Epoch 13/30\n",
            "453/453 [==============================] - 7s 15ms/step - loss: 0.9136 - cosine_similarity: 0.6970 - val_loss: 0.9677 - val_cosine_similarity: 0.6847\n",
            "Epoch 14/30\n",
            "453/453 [==============================] - 8s 18ms/step - loss: 0.9030 - cosine_similarity: 0.7005 - val_loss: 0.9689 - val_cosine_similarity: 0.6851\n",
            "Epoch 15/30\n",
            "453/453 [==============================] - 8s 18ms/step - loss: 0.8960 - cosine_similarity: 0.7026 - val_loss: 0.9606 - val_cosine_similarity: 0.6870\n",
            "Epoch 16/30\n",
            "453/453 [==============================] - 7s 16ms/step - loss: 0.8884 - cosine_similarity: 0.7043 - val_loss: 0.9539 - val_cosine_similarity: 0.6887\n",
            "Epoch 17/30\n",
            "453/453 [==============================] - 8s 18ms/step - loss: 0.8837 - cosine_similarity: 0.7059 - val_loss: 0.9508 - val_cosine_similarity: 0.6898\n",
            "Epoch 18/30\n",
            "453/453 [==============================] - 7s 16ms/step - loss: 0.8792 - cosine_similarity: 0.7069 - val_loss: 0.9595 - val_cosine_similarity: 0.6884\n",
            "Epoch 19/30\n",
            "453/453 [==============================] - 9s 19ms/step - loss: 0.8728 - cosine_similarity: 0.7086 - val_loss: 0.9479 - val_cosine_similarity: 0.6909\n",
            "Epoch 20/30\n",
            "453/453 [==============================] - 8s 17ms/step - loss: 0.8691 - cosine_similarity: 0.7099 - val_loss: 0.9476 - val_cosine_similarity: 0.6916\n",
            "Epoch 21/30\n",
            "453/453 [==============================] - 8s 17ms/step - loss: 0.8640 - cosine_similarity: 0.7113 - val_loss: 0.9450 - val_cosine_similarity: 0.6921\n",
            "Epoch 22/30\n",
            "453/453 [==============================] - 9s 19ms/step - loss: 0.8600 - cosine_similarity: 0.7126 - val_loss: 0.9444 - val_cosine_similarity: 0.6926\n",
            "Epoch 23/30\n",
            "453/453 [==============================] - 7s 16ms/step - loss: 0.8561 - cosine_similarity: 0.7138 - val_loss: 0.9464 - val_cosine_similarity: 0.6921\n",
            "Epoch 24/30\n",
            "453/453 [==============================] - 8s 17ms/step - loss: 0.8543 - cosine_similarity: 0.7142 - val_loss: 0.9372 - val_cosine_similarity: 0.6922\n",
            "Epoch 25/30\n",
            "453/453 [==============================] - 7s 15ms/step - loss: 0.8499 - cosine_similarity: 0.7154 - val_loss: 0.9365 - val_cosine_similarity: 0.6938\n",
            "Epoch 26/30\n",
            "453/453 [==============================] - 8s 17ms/step - loss: 0.8464 - cosine_similarity: 0.7165 - val_loss: 0.9442 - val_cosine_similarity: 0.6930\n",
            "Epoch 27/30\n",
            "453/453 [==============================] - 7s 15ms/step - loss: 0.8432 - cosine_similarity: 0.7174 - val_loss: 0.9376 - val_cosine_similarity: 0.6948\n",
            "Epoch 28/30\n",
            "453/453 [==============================] - 8s 17ms/step - loss: 0.8403 - cosine_similarity: 0.7182 - val_loss: 0.9362 - val_cosine_similarity: 0.6941\n",
            "Epoch 29/30\n",
            "453/453 [==============================] - 6s 14ms/step - loss: 0.8375 - cosine_similarity: 0.7193 - val_loss: 0.9409 - val_cosine_similarity: 0.6938\n",
            "Epoch 30/30\n",
            "453/453 [==============================] - 8s 18ms/step - loss: 0.8365 - cosine_similarity: 0.7199 - val_loss: 0.9434 - val_cosine_similarity: 0.6943\n"
          ]
        }
      ]
    },
    {
      "cell_type": "code",
      "source": [
        "hist.history"
      ],
      "metadata": {
        "colab": {
          "base_uri": "https://localhost:8080/"
        },
        "id": "DTMFbVSZEnmE",
        "outputId": "3694e7b6-5148-4ae0-ecad-55c71dc72983"
      },
      "execution_count": 31,
      "outputs": [
        {
          "output_type": "execute_result",
          "data": {
            "text/plain": [
              "{'loss': [1.4310054779052734,\n",
              "  1.2132185697555542,\n",
              "  1.1810582876205444,\n",
              "  1.1033891439437866,\n",
              "  1.0390690565109253,\n",
              "  1.0113003253936768,\n",
              "  0.988616406917572,\n",
              "  0.9711580276489258,\n",
              "  0.9572950601577759,\n",
              "  0.9443979859352112,\n",
              "  0.9316406846046448,\n",
              "  0.9220857620239258,\n",
              "  0.9135737419128418,\n",
              "  0.903042733669281,\n",
              "  0.8959804773330688,\n",
              "  0.888389527797699,\n",
              "  0.8837008476257324,\n",
              "  0.8792117238044739,\n",
              "  0.8727986812591553,\n",
              "  0.8690940737724304,\n",
              "  0.8639807105064392,\n",
              "  0.8599656820297241,\n",
              "  0.8561100363731384,\n",
              "  0.8542855978012085,\n",
              "  0.8498780727386475,\n",
              "  0.8463971614837646,\n",
              "  0.8432442545890808,\n",
              "  0.8402652740478516,\n",
              "  0.8375330567359924,\n",
              "  0.8364704251289368],\n",
              " 'cosine_similarity': [0.526199996471405,\n",
              "  0.6156224012374878,\n",
              "  0.6231359839439392,\n",
              "  0.6420920491218567,\n",
              "  0.6595064401626587,\n",
              "  0.6676053404808044,\n",
              "  0.6740179061889648,\n",
              "  0.6795603632926941,\n",
              "  0.6840125918388367,\n",
              "  0.6881412267684937,\n",
              "  0.6920708417892456,\n",
              "  0.6948279738426208,\n",
              "  0.697045087814331,\n",
              "  0.7005077004432678,\n",
              "  0.7025865316390991,\n",
              "  0.7043123245239258,\n",
              "  0.7059403657913208,\n",
              "  0.70686274766922,\n",
              "  0.7085760831832886,\n",
              "  0.709923505783081,\n",
              "  0.7112754583358765,\n",
              "  0.712567925453186,\n",
              "  0.7137759327888489,\n",
              "  0.7142113447189331,\n",
              "  0.7153735756874084,\n",
              "  0.7164771556854248,\n",
              "  0.717449963092804,\n",
              "  0.718197226524353,\n",
              "  0.7192696332931519,\n",
              "  0.7198658585548401],\n",
              " 'val_loss': [1.2411714792251587,\n",
              "  1.2219669818878174,\n",
              "  1.1722872257232666,\n",
              "  1.0874078273773193,\n",
              "  1.0582563877105713,\n",
              "  1.0351433753967285,\n",
              "  1.0214101076126099,\n",
              "  1.0099385976791382,\n",
              "  0.9995193481445312,\n",
              "  0.9872483611106873,\n",
              "  0.9799966812133789,\n",
              "  0.9728217720985413,\n",
              "  0.9677304625511169,\n",
              "  0.9689319133758545,\n",
              "  0.9606205821037292,\n",
              "  0.9538952112197876,\n",
              "  0.9507525563240051,\n",
              "  0.9595003724098206,\n",
              "  0.947871744632721,\n",
              "  0.9476231336593628,\n",
              "  0.9450311660766602,\n",
              "  0.9443992376327515,\n",
              "  0.9463968276977539,\n",
              "  0.9371905326843262,\n",
              "  0.936538815498352,\n",
              "  0.9441620111465454,\n",
              "  0.9376159310340881,\n",
              "  0.9361991286277771,\n",
              "  0.9409412741661072,\n",
              "  0.9433621764183044],\n",
              " 'val_cosine_similarity': [0.607884407043457,\n",
              "  0.6112419962882996,\n",
              "  0.6219648122787476,\n",
              "  0.6450996994972229,\n",
              "  0.6546338200569153,\n",
              "  0.6623950004577637,\n",
              "  0.6678970456123352,\n",
              "  0.6706200838088989,\n",
              "  0.6740634441375732,\n",
              "  0.6784734129905701,\n",
              "  0.6806789636611938,\n",
              "  0.682969868183136,\n",
              "  0.6847051978111267,\n",
              "  0.6850890517234802,\n",
              "  0.6869528293609619,\n",
              "  0.6886721849441528,\n",
              "  0.6898269057273865,\n",
              "  0.6883791089057922,\n",
              "  0.6909317970275879,\n",
              "  0.6916384100914001,\n",
              "  0.6920969486236572,\n",
              "  0.692628026008606,\n",
              "  0.69206702709198,\n",
              "  0.6922311186790466,\n",
              "  0.6938185691833496,\n",
              "  0.6929587125778198,\n",
              "  0.6948089599609375,\n",
              "  0.6940794587135315,\n",
              "  0.6937919855117798,\n",
              "  0.6942786574363708]}"
            ]
          },
          "metadata": {},
          "execution_count": 31
        }
      ]
    },
    {
      "cell_type": "code",
      "source": [
        "import matplotlib.pyplot as plt\n",
        "import seaborn as sns\n",
        "epoch_count = range(1, len(hist.history['loss']) + 1)\n",
        "sns.lineplot(x=epoch_count,  y=hist.history['loss'], label='train_loss')\n",
        "sns.lineplot(x=epoch_count,  y=hist.history['val_loss'], label='validation_loss')\n",
        "plt.show()"
      ],
      "metadata": {
        "colab": {
          "base_uri": "https://localhost:8080/",
          "height": 430
        },
        "id": "dT29kp_unBj0",
        "outputId": "73d22c44-5d30-45c3-a37b-f35b0559b6c4"
      },
      "execution_count": 35,
      "outputs": [
        {
          "output_type": "display_data",
          "data": {
            "text/plain": [
              "<Figure size 640x480 with 1 Axes>"
            ],
            "image/png": "[encoded data removed]"
          },
          "metadata": {}
        }
      ]
    },
    {
      "cell_type": "code",
      "source": [
        "model.evaluate(X_test, y_test)"
      ],
      "metadata": {
        "colab": {
          "base_uri": "https://localhost:8080/"
        },
        "id": "wtHkb92HnC9l",
        "outputId": "0fa1c76e-7f39-4ce0-a5fd-fd1746eaefda"
      },
      "execution_count": 36,
      "outputs": [
        {
          "output_type": "stream",
          "name": "stdout",
          "text": [
            "142/142 [==============================] - 1s 9ms/step - loss: 0.9095 - cosine_similarity: 0.7014\n"
          ]
        },
        {
          "output_type": "execute_result",
          "data": {
            "text/plain": [
              "[0.9095228314399719, 0.7013571858406067]"
            ]
          },
          "metadata": {},
          "execution_count": 36
        }
      ]
    },
    {
      "cell_type": "code",
      "source": [
        "test_texts = tok.sequences_to_texts(X_test)"
      ],
      "metadata": {
        "id": "8zFg-Y5Kcs4o"
      },
      "execution_count": 57,
      "outputs": []
    },
    {
      "cell_type": "code",
      "source": [
        "preds = model.predict(X_test)"
      ],
      "metadata": {
        "colab": {
          "base_uri": "https://localhost:8080/"
        },
        "id": "93h98uqRg1pB",
        "outputId": "eca55444-df87-4cf7-8b82-11c634ab618f"
      },
      "execution_count": 71,
      "outputs": [
        {
          "output_type": "stream",
          "name": "stdout",
          "text": [
            "142/142 [==============================] - 2s 10ms/step\n"
          ]
        }
      ]
    },
    {
      "cell_type": "code",
      "source": [
        "for i, (text, rating, pred) in enumerate(zip(test_texts, y_test, preds)):\n",
        "  if i > 20:\n",
        "    break\n",
        "  print(f'{text}\\n{rating}, {np.argmax(rating)} - {pred}, {np.argmax(pred)}\\n\\n')"
      ],
      "metadata": {
        "colab": {
          "base_uri": "https://localhost:8080/"
        },
        "id": "GPzklruoeCk2",
        "outputId": "a20236c8-7db1-496a-e96d-2fe6be3668fb"
      },
      "execution_count": 74,
      "outputs": [
        {
          "output_type": "stream",
          "name": "stdout",
          "text": [
            "love love this dress the fit is perfect the cut is feminine and flirty but not too and there is the perfect amount of swing and it's a great length i can't say enough about it i think it's worth the price which i have to i was hesitant about so comfortable and versatile i see it being worn quite often \r keep dresses like this coming \r the neck line is flattering on every body type \r for reference i'm 5'3 and weigh 110 lbs and i purchased a size 2 but i think a\n",
            "[0. 0. 0. 0. 1.], 4 - [4.66889190e-07 4.48420315e-06 1.20078446e-04 2.34355591e-02\n",
            " 9.76439476e-01], 4\n",
            "\n",
            "\n",
            "i saw this dress in my local retailer store and am not sure why i did not try it on then but later at home it to me i loved the colored embroidery against the black my husband and i will be to later this fall and i wanted to take a dress with me that wouldn't take up too much room and be for times when i wanted to dress up a little online i saw that it was available in the petite and with the reviews that it ran large i opted for a medium petite\n",
            "[0. 0. 0. 0. 1.], 4 - [0.03169917 0.05045941 0.12174112 0.29255915 0.5035412 ], 4\n",
            "\n",
            "\n",
            "i was tempted to get this online but just wasn't sure i wanted to buy even with the sale because i only wear dresses to the knee and didn't know how this would look with leggings or jeans i tried it on in the store the next day and it was so cute there are long skinny black in the front that you can't really see in the online pics that i love it looks great with my skinny jeans with or black leggings and boots i even have some cute leggings just past the knee that this looks\n",
            "[0. 0. 0. 0. 1.], 4 - [2.7721335e-06 2.2821410e-05 4.5078981e-04 4.7190260e-02 9.5233333e-01], 4\n",
            "\n",
            "\n",
            "i love the pattern color combo but wow t really on me too much fabric i felt like i was trying to hide or pregnancy or wearing a anyway not for me but others might to try in case it was just me too bad length was decent in size though not too long just too wide\n",
            "[0. 1. 0. 0. 0.], 1 - [0.1676721  0.29334044 0.39349186 0.12333194 0.02216372], 2\n",
            "\n",
            "\n",
            "love the soft fabric and easy fit of this dress i'm pleased that it does give a of figure and doesn't just hang like a sack i found the blue to be most flattering and was with styling at home and found that the wider retailer leather belt gave it a whole new look\n",
            "[0. 0. 0. 0. 1.], 4 - [0.00191003 0.00874978 0.06818564 0.45017302 0.47098148], 4\n",
            "\n",
            "\n",
            "i tried the neutral motif one on when it first came out i didn't buy but it on my mind b c the colors were so pretty i got it at sale on sale and am so happy i did it is sheer but i think it would work fine in a casual without a tank as long as you have a skin tone bra great buy and tts\n",
            "[0. 0. 0. 0. 1.], 4 - [4.9742346e-04 1.8738260e-03 1.6313115e-02 2.1397953e-01 7.6733607e-01], 4\n",
            "\n",
            "\n",
            "very nice sweater surprisingly just as pictured color wise i ordered a large and it felt true to size in the shoulders but this sweater flair out to the bottom you can kind of see it in the photo the length is good as well for a regular fit it's very unique combination of fabric wool knit the texture is really nice and soft and looks very good on also it's thick and warm i wore the top to work today on 34 weather and received many compliments sweater looks simple but the\n",
            "[0. 0. 0. 0. 1.], 4 - [1.1862701e-05 8.6775195e-05 1.4068855e-03 8.3767965e-02 9.1472650e-01], 4\n",
            "\n",
            "\n",
            "i'm another petite at 5'4 and i loved this the pants are like on me and i think with a heel it will look great i plan on wearing my hair up and the tie in the back in a big bow in fact i don't see the button back of in the description so i think one would have to do so\n",
            "[0. 0. 0. 0. 1.], 4 - [0.0021723  0.00962006 0.07180116 0.44939786 0.46700868], 4\n",
            "\n",
            "\n",
            "super cute very light and flowy i ordered the black well wasn't wrinkly when i took it out of the \r i ordered the black so happy with my purchase\n",
            "[0. 0. 0. 0. 1.], 4 - [5.5195781e-04 2.2432003e-03 2.0490864e-02 2.5792393e-01 7.1879005e-01], 4\n",
            "\n",
            "\n",
            "i've been looking for white beach shorts and these are perfect as another reviewer said they are in fact see through because they are meant to be a cover up not real shorts the hem detail is very cute and they're super comfortable my size small fit tts and the 3 hem is nice for tall women\n",
            "[0. 0. 0. 0. 1.], 4 - [6.1744222e-06 4.9038215e-05 8.7587052e-04 6.7505881e-02 9.3156308e-01], 4\n",
            "\n",
            "\n",
            "i should have to previous reviewers but the dress looks so good on the model in the two pictures when it arrived in the mail i realized this is a mistake it has no shape material is poofy and feels cheap it is going back\n",
            "[1. 0. 0. 0. 0.], 0 - [0.15533562 0.25872898 0.355797   0.17131223 0.05882619], 2\n",
            "\n",
            "\n",
            "i really liked this dress online and i loved it in person the print is different the waist is skirt is full has a very feminine shape definitely a special piece runs large i'm usually a 6 in dresses and an 8 in skirts i'm 5 5 s 34c and then 6 was too big size 4 fit perfect and i'm no size 4 no sleeves will make if easy to add a denim jacket or a cardigan it hits 3 4 above the knees but has a conservative high neckline and back is covered good\n",
            "[0. 0. 0. 0. 1.], 4 - [5.4713357e-05 3.5306084e-04 4.9036741e-03 1.5984264e-01 8.3484584e-01], 4\n",
            "\n",
            "\n",
            "i ordered this in the lavender and love the rich color looks great with my hair the bell sleeves which are all the right now add to the feminine look i wore it with jeans and for a boho look\n",
            "[0. 0. 0. 0. 1.], 4 - [5.0322913e-05 2.9538930e-04 4.0623583e-03 1.3576235e-01 8.5982955e-01], 4\n",
            "\n",
            "\n",
            "i love this dress wasn't much on the hanger but fell in love as soon as i put it on almost returned after reading the reviews about the fabric and printed design instead of embroidered but tried it on one last time and decided to keep it the silhouette is just stunning absolutely stunning this will be a classic piece in my wardrobe that i pass down to my one day\n",
            "[0. 0. 0. 0. 1.], 4 - [1.9244944e-05 9.3672366e-05 1.3752077e-03 6.1372671e-02 9.3713927e-01], 4\n",
            "\n",
            "\n",
            "this is a very stylish casual top it fits great i plan on wearing it with a long sleeve black tshirt underneath or black turtleneck i absolutely love the crochet detail at the bottom\n",
            "[0. 0. 0. 1. 0.], 3 - [1.5821578e-06 1.2716517e-05 2.7555242e-04 3.4083512e-02 9.6562660e-01], 4\n",
            "\n",
            "\n",
            "not only is this dress incredibly comfortable but it can be for any occasion i it up for a wedding but a cardigan and flats also makes it easy perfect only way this dress could be pockets\n",
            "[0. 0. 0. 0. 1.], 4 - [9.4420822e-05 4.7027343e-04 5.6679868e-03 1.4711481e-01 8.4665257e-01], 4\n",
            "\n",
            "\n",
            "this is a beautiful sweater but if came up high on me in back higher than it looks on the model she must have on high waisted pants\n",
            "[0. 0. 0. 1. 0.], 3 - [0.03345164 0.07060058 0.22537683 0.3902812  0.28028974], 3\n",
            "\n",
            "\n",
            "this one is way better in person i put it in my only it was on the well it is great a little sheer super y when i received it but oh so soft the plunge is a tiny bit low for my liking but this come in petites so i had to it up and keep the regular coloring is nice too neutral event there is rust and navy and ish it be worn with anything\n",
            "[0. 0. 0. 0. 1.], 4 - [5.5077253e-05 3.5420744e-04 4.8607541e-03 1.5708417e-01 8.3764577e-01], 4\n",
            "\n",
            "\n",
            "the fabric has a smooth feel and the shape is perfect over skinny jeans i like the v neckline a different take on the usual buttons of a i wear a white cami under it from retailer to bring up the just a little great with blue jeans white jeans and shorts i bought this shirt in red size 2 i'm 5'6 125 lbs\n",
            "[0. 0. 0. 0. 1.], 4 - [9.1170150e-06 7.0088994e-05 1.1968210e-03 7.9175293e-02 9.1954869e-01], 4\n",
            "\n",
            "\n",
            "beautiful top but delicate i wore it to school and the straps on my some pilling other than that it is beautiful and vibrant just make sure you aren't doing wearing anything that will it since the fabric is delicate\n",
            "[0. 0. 0. 1. 0.], 3 - [0.00144999 0.00555849 0.04407537 0.35578775 0.5931284 ], 4\n",
            "\n",
            "\n",
            "the dress has a flattering cut and is a nice color but the fabric looks like old i will be returning\n",
            "[0. 0. 1. 0. 0.], 2 - [0.01976563 0.04778947 0.19507228 0.42457148 0.31280106], 3\n",
            "\n",
            "\n"
          ]
        }
      ]
    },
    {
      "cell_type": "code",
      "source": [],
      "metadata": {
        "id": "trcbiH5qgyUW"
      },
      "execution_count": null,
      "outputs": []
    }
  ]
}